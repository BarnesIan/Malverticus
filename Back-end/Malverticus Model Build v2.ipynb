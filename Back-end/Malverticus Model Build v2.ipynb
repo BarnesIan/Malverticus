{
 "cells": [
  {
   "cell_type": "markdown",
   "id": "e1165775",
   "metadata": {},
   "source": [
    "# Malverticus Model Build V2 - Kaggle Build"
   ]
  },
  {
   "cell_type": "markdown",
   "id": "cf580fd5",
   "metadata": {},
   "source": [
    "## Setup"
   ]
  },
  {
   "cell_type": "markdown",
   "id": "686ece19",
   "metadata": {},
   "source": [
    "### Imports"
   ]
  },
  {
   "cell_type": "code",
   "execution_count": 1,
   "id": "a1377bf0",
   "metadata": {},
   "outputs": [],
   "source": [
    "#Imports\n",
    "import pandas as pd\n",
    "import numpy as np\n",
    "import matplotlib.pyplot as plt\n",
    "import seaborn as sns\n",
    "import scipy.stats as stats\n",
    "import statsmodels.api as sm\n",
    "from IPython.display import display, Markdown\n",
    "sns.set_style(\"darkgrid\")\n",
    "pd.set_option('display.max_columns', None)\n",
    "\n",
    "\n",
    "sns.set_style(\"darkgrid\")\n",
    "\n",
    "SEED = 1612\n",
    "\n",
    "from sklearn.model_selection import train_test_split\n",
    "\n",
    "from sklearn.preprocessing import StandardScaler\n",
    "import string\n",
    "from urllib.parse import urlparse\n",
    "\n",
    "from sklearn.linear_model import LogisticRegression\n",
    "from sklearn.tree import DecisionTreeClassifier\n",
    "from sklearn.neural_network import MLPClassifier\n",
    "from sklearn.neighbors import KNeighborsClassifier\n",
    "from sklearn.svm import SVC\n",
    "from sklearn.gaussian_process import GaussianProcessClassifier\n",
    "from sklearn.gaussian_process.kernels import RBF\n",
    "from sklearn.tree import DecisionTreeClassifier\n",
    "from sklearn.ensemble import RandomForestClassifier, AdaBoostClassifier\n",
    "from sklearn.naive_bayes import GaussianNB\n",
    "from sklearn.discriminant_analysis import QuadraticDiscriminantAnalysis\n",
    "\n",
    "from sklearn.model_selection import cross_val_score\n",
    "from sklearn.metrics import confusion_matrix, classification_report"
   ]
  },
  {
   "cell_type": "markdown",
   "id": "851d138a",
   "metadata": {},
   "source": [
    "## Helper Functions"
   ]
  },
  {
   "cell_type": "code",
   "execution_count": null,
   "id": "93e76f26",
   "metadata": {},
   "outputs": [],
   "source": []
  },
  {
   "cell_type": "markdown",
   "id": "c857dbbc",
   "metadata": {},
   "source": [
    "### Data Prep"
   ]
  },
  {
   "cell_type": "code",
   "execution_count": 2,
   "id": "7ff87dd8",
   "metadata": {},
   "outputs": [
    {
     "data": {
      "text/html": [
       "<div>\n",
       "<style scoped>\n",
       "    .dataframe tbody tr th:only-of-type {\n",
       "        vertical-align: middle;\n",
       "    }\n",
       "\n",
       "    .dataframe tbody tr th {\n",
       "        vertical-align: top;\n",
       "    }\n",
       "\n",
       "    .dataframe thead th {\n",
       "        text-align: right;\n",
       "    }\n",
       "</style>\n",
       "<table border=\"1\" class=\"dataframe\">\n",
       "  <thead>\n",
       "    <tr style=\"text-align: right;\">\n",
       "      <th></th>\n",
       "      <th>url</th>\n",
       "      <th>type</th>\n",
       "    </tr>\n",
       "  </thead>\n",
       "  <tbody>\n",
       "    <tr>\n",
       "      <th>0</th>\n",
       "      <td>br-icloud.com.br</td>\n",
       "      <td>phishing</td>\n",
       "    </tr>\n",
       "    <tr>\n",
       "      <th>1</th>\n",
       "      <td>mp3raid.com/music/krizz_kaliko.html</td>\n",
       "      <td>benign</td>\n",
       "    </tr>\n",
       "    <tr>\n",
       "      <th>2</th>\n",
       "      <td>bopsecrets.org/rexroth/cr/1.htm</td>\n",
       "      <td>benign</td>\n",
       "    </tr>\n",
       "    <tr>\n",
       "      <th>3</th>\n",
       "      <td>http://www.garage-pirenne.be/index.php?option=...</td>\n",
       "      <td>defacement</td>\n",
       "    </tr>\n",
       "    <tr>\n",
       "      <th>4</th>\n",
       "      <td>http://adventure-nicaragua.net/index.php?optio...</td>\n",
       "      <td>defacement</td>\n",
       "    </tr>\n",
       "  </tbody>\n",
       "</table>\n",
       "</div>"
      ],
      "text/plain": [
       "                                                 url        type\n",
       "0                                   br-icloud.com.br    phishing\n",
       "1                mp3raid.com/music/krizz_kaliko.html      benign\n",
       "2                    bopsecrets.org/rexroth/cr/1.htm      benign\n",
       "3  http://www.garage-pirenne.be/index.php?option=...  defacement\n",
       "4  http://adventure-nicaragua.net/index.php?optio...  defacement"
      ]
     },
     "execution_count": 2,
     "metadata": {},
     "output_type": "execute_result"
    }
   ],
   "source": [
    "df = pd.read_csv('data/malicious_phish.csv', header=0,)\n",
    "df.head()"
   ]
  },
  {
   "cell_type": "code",
   "execution_count": 3,
   "id": "b4cf5162",
   "metadata": {},
   "outputs": [
    {
     "name": "stdout",
     "output_type": "stream",
     "text": [
      "Index(['url', 'type'], dtype='object')\n"
     ]
    }
   ],
   "source": [
    "print(df.columns)\n"
   ]
  },
  {
   "cell_type": "markdown",
   "id": "374dfb57",
   "metadata": {},
   "source": [
    "### Creating 1 Target"
   ]
  },
  {
   "cell_type": "code",
   "execution_count": 4,
   "id": "54475e9e",
   "metadata": {},
   "outputs": [
    {
     "data": {
      "text/html": [
       "<div>\n",
       "<style scoped>\n",
       "    .dataframe tbody tr th:only-of-type {\n",
       "        vertical-align: middle;\n",
       "    }\n",
       "\n",
       "    .dataframe tbody tr th {\n",
       "        vertical-align: top;\n",
       "    }\n",
       "\n",
       "    .dataframe thead th {\n",
       "        text-align: right;\n",
       "    }\n",
       "</style>\n",
       "<table border=\"1\" class=\"dataframe\">\n",
       "  <thead>\n",
       "    <tr style=\"text-align: right;\">\n",
       "      <th></th>\n",
       "      <th>url</th>\n",
       "      <th>type</th>\n",
       "      <th>Label</th>\n",
       "    </tr>\n",
       "  </thead>\n",
       "  <tbody>\n",
       "    <tr>\n",
       "      <th>0</th>\n",
       "      <td>br-icloud.com.br</td>\n",
       "      <td>phishing</td>\n",
       "      <td>1</td>\n",
       "    </tr>\n",
       "    <tr>\n",
       "      <th>1</th>\n",
       "      <td>mp3raid.com/music/krizz_kaliko.html</td>\n",
       "      <td>benign</td>\n",
       "      <td>0</td>\n",
       "    </tr>\n",
       "    <tr>\n",
       "      <th>2</th>\n",
       "      <td>bopsecrets.org/rexroth/cr/1.htm</td>\n",
       "      <td>benign</td>\n",
       "      <td>0</td>\n",
       "    </tr>\n",
       "    <tr>\n",
       "      <th>3</th>\n",
       "      <td>http://www.garage-pirenne.be/index.php?option=...</td>\n",
       "      <td>defacement</td>\n",
       "      <td>1</td>\n",
       "    </tr>\n",
       "    <tr>\n",
       "      <th>4</th>\n",
       "      <td>http://adventure-nicaragua.net/index.php?optio...</td>\n",
       "      <td>defacement</td>\n",
       "      <td>1</td>\n",
       "    </tr>\n",
       "  </tbody>\n",
       "</table>\n",
       "</div>"
      ],
      "text/plain": [
       "                                                 url        type  Label\n",
       "0                                   br-icloud.com.br    phishing      1\n",
       "1                mp3raid.com/music/krizz_kaliko.html      benign      0\n",
       "2                    bopsecrets.org/rexroth/cr/1.htm      benign      0\n",
       "3  http://www.garage-pirenne.be/index.php?option=...  defacement      1\n",
       "4  http://adventure-nicaragua.net/index.php?optio...  defacement      1"
      ]
     },
     "execution_count": 4,
     "metadata": {},
     "output_type": "execute_result"
    }
   ],
   "source": [
    "def label_type(row):\n",
    "    if row['type'] == 'benign':\n",
    "        return 0\n",
    "    else:\n",
    "        return 1\n",
    "\n",
    "# Create a new column\n",
    "df['Label'] = df.apply(label_type, axis=1)\n",
    "df.head()"
   ]
  },
  {
   "cell_type": "markdown",
   "id": "1df9d8f3",
   "metadata": {},
   "source": [
    "### Delete the type column"
   ]
  },
  {
   "cell_type": "code",
   "execution_count": 5,
   "id": "6ee4352a",
   "metadata": {},
   "outputs": [],
   "source": [
    "df = df.drop(columns=['type'])"
   ]
  },
  {
   "cell_type": "code",
   "execution_count": 6,
   "id": "2bef9789",
   "metadata": {},
   "outputs": [
    {
     "data": {
      "text/html": [
       "<div>\n",
       "<style scoped>\n",
       "    .dataframe tbody tr th:only-of-type {\n",
       "        vertical-align: middle;\n",
       "    }\n",
       "\n",
       "    .dataframe tbody tr th {\n",
       "        vertical-align: top;\n",
       "    }\n",
       "\n",
       "    .dataframe thead th {\n",
       "        text-align: right;\n",
       "    }\n",
       "</style>\n",
       "<table border=\"1\" class=\"dataframe\">\n",
       "  <thead>\n",
       "    <tr style=\"text-align: right;\">\n",
       "      <th></th>\n",
       "      <th>url</th>\n",
       "      <th>Label</th>\n",
       "    </tr>\n",
       "  </thead>\n",
       "  <tbody>\n",
       "    <tr>\n",
       "      <th>0</th>\n",
       "      <td>br-icloud.com.br</td>\n",
       "      <td>1</td>\n",
       "    </tr>\n",
       "    <tr>\n",
       "      <th>1</th>\n",
       "      <td>mp3raid.com/music/krizz_kaliko.html</td>\n",
       "      <td>0</td>\n",
       "    </tr>\n",
       "    <tr>\n",
       "      <th>2</th>\n",
       "      <td>bopsecrets.org/rexroth/cr/1.htm</td>\n",
       "      <td>0</td>\n",
       "    </tr>\n",
       "    <tr>\n",
       "      <th>3</th>\n",
       "      <td>http://www.garage-pirenne.be/index.php?option=...</td>\n",
       "      <td>1</td>\n",
       "    </tr>\n",
       "    <tr>\n",
       "      <th>4</th>\n",
       "      <td>http://adventure-nicaragua.net/index.php?optio...</td>\n",
       "      <td>1</td>\n",
       "    </tr>\n",
       "  </tbody>\n",
       "</table>\n",
       "</div>"
      ],
      "text/plain": [
       "                                                 url  Label\n",
       "0                                   br-icloud.com.br      1\n",
       "1                mp3raid.com/music/krizz_kaliko.html      0\n",
       "2                    bopsecrets.org/rexroth/cr/1.htm      0\n",
       "3  http://www.garage-pirenne.be/index.php?option=...      1\n",
       "4  http://adventure-nicaragua.net/index.php?optio...      1"
      ]
     },
     "execution_count": 6,
     "metadata": {},
     "output_type": "execute_result"
    }
   ],
   "source": [
    "df.head()"
   ]
  },
  {
   "cell_type": "markdown",
   "id": "605b5988",
   "metadata": {},
   "source": [
    "## Feature Creation"
   ]
  },
  {
   "cell_type": "markdown",
   "id": "3ddb5750",
   "metadata": {},
   "source": [
    "### Get URL Length"
   ]
  },
  {
   "cell_type": "code",
   "execution_count": 7,
   "id": "af5d376a",
   "metadata": {},
   "outputs": [],
   "source": [
    "def get_url_length(url):\n",
    "    # Remove common prefixes\n",
    "    prefixes = ['http://', 'https://']\n",
    "    for prefix in prefixes:\n",
    "        if url.startswith(prefix):\n",
    "            url = url[len(prefix):]\n",
    "\n",
    "    # Remove 'www.' if present\n",
    "    url = url.replace('www.', '')\n",
    "\n",
    "    # Return the length of the remaining URL\n",
    "    return len(url)"
   ]
  },
  {
   "cell_type": "code",
   "execution_count": 8,
   "id": "46117f3d",
   "metadata": {},
   "outputs": [],
   "source": [
    "df['url_len'] = df['url'].apply(lambda x: get_url_length(str(x)))"
   ]
  },
  {
   "cell_type": "code",
   "execution_count": 9,
   "id": "b24e3fd7",
   "metadata": {},
   "outputs": [
    {
     "data": {
      "text/html": [
       "<div>\n",
       "<style scoped>\n",
       "    .dataframe tbody tr th:only-of-type {\n",
       "        vertical-align: middle;\n",
       "    }\n",
       "\n",
       "    .dataframe tbody tr th {\n",
       "        vertical-align: top;\n",
       "    }\n",
       "\n",
       "    .dataframe thead th {\n",
       "        text-align: right;\n",
       "    }\n",
       "</style>\n",
       "<table border=\"1\" class=\"dataframe\">\n",
       "  <thead>\n",
       "    <tr style=\"text-align: right;\">\n",
       "      <th></th>\n",
       "      <th>url</th>\n",
       "      <th>Label</th>\n",
       "      <th>url_len</th>\n",
       "    </tr>\n",
       "  </thead>\n",
       "  <tbody>\n",
       "    <tr>\n",
       "      <th>0</th>\n",
       "      <td>br-icloud.com.br</td>\n",
       "      <td>1</td>\n",
       "      <td>16</td>\n",
       "    </tr>\n",
       "    <tr>\n",
       "      <th>1</th>\n",
       "      <td>mp3raid.com/music/krizz_kaliko.html</td>\n",
       "      <td>0</td>\n",
       "      <td>35</td>\n",
       "    </tr>\n",
       "    <tr>\n",
       "      <th>2</th>\n",
       "      <td>bopsecrets.org/rexroth/cr/1.htm</td>\n",
       "      <td>0</td>\n",
       "      <td>31</td>\n",
       "    </tr>\n",
       "    <tr>\n",
       "      <th>3</th>\n",
       "      <td>http://www.garage-pirenne.be/index.php?option=...</td>\n",
       "      <td>1</td>\n",
       "      <td>77</td>\n",
       "    </tr>\n",
       "    <tr>\n",
       "      <th>4</th>\n",
       "      <td>http://adventure-nicaragua.net/index.php?optio...</td>\n",
       "      <td>1</td>\n",
       "      <td>228</td>\n",
       "    </tr>\n",
       "  </tbody>\n",
       "</table>\n",
       "</div>"
      ],
      "text/plain": [
       "                                                 url  Label  url_len\n",
       "0                                   br-icloud.com.br      1       16\n",
       "1                mp3raid.com/music/krizz_kaliko.html      0       35\n",
       "2                    bopsecrets.org/rexroth/cr/1.htm      0       31\n",
       "3  http://www.garage-pirenne.be/index.php?option=...      1       77\n",
       "4  http://adventure-nicaragua.net/index.php?optio...      1      228"
      ]
     },
     "execution_count": 9,
     "metadata": {},
     "output_type": "execute_result"
    }
   ],
   "source": [
    "df.head()\n"
   ]
  },
  {
   "cell_type": "markdown",
   "id": "56b4cce5",
   "metadata": {},
   "source": [
    "### Counting different characters"
   ]
  },
  {
   "cell_type": "code",
   "execution_count": 10,
   "id": "5352f316",
   "metadata": {},
   "outputs": [],
   "source": [
    "def count_letters(url):\n",
    "    num_letters = sum(char.isalpha() for char in url)\n",
    "    return num_letters"
   ]
  },
  {
   "cell_type": "code",
   "execution_count": 11,
   "id": "eca6881b",
   "metadata": {},
   "outputs": [],
   "source": [
    "df['letters_count'] = df['url'].apply(lambda x: count_letters(x))"
   ]
  },
  {
   "cell_type": "code",
   "execution_count": 12,
   "id": "7615df66",
   "metadata": {},
   "outputs": [],
   "source": [
    "def count_digits(url):\n",
    "    num_digits = sum(char.isdigit() for char in url)\n",
    "    return num_digits"
   ]
  },
  {
   "cell_type": "code",
   "execution_count": 13,
   "id": "63bb7ed9",
   "metadata": {},
   "outputs": [],
   "source": [
    "df['digits_count'] = df['url'].apply(lambda x: count_digits(x))"
   ]
  },
  {
   "cell_type": "code",
   "execution_count": 14,
   "id": "372f5915",
   "metadata": {},
   "outputs": [
    {
     "data": {
      "text/html": [
       "<div>\n",
       "<style scoped>\n",
       "    .dataframe tbody tr th:only-of-type {\n",
       "        vertical-align: middle;\n",
       "    }\n",
       "\n",
       "    .dataframe tbody tr th {\n",
       "        vertical-align: top;\n",
       "    }\n",
       "\n",
       "    .dataframe thead th {\n",
       "        text-align: right;\n",
       "    }\n",
       "</style>\n",
       "<table border=\"1\" class=\"dataframe\">\n",
       "  <thead>\n",
       "    <tr style=\"text-align: right;\">\n",
       "      <th></th>\n",
       "      <th>url</th>\n",
       "      <th>Label</th>\n",
       "      <th>url_len</th>\n",
       "      <th>letters_count</th>\n",
       "      <th>digits_count</th>\n",
       "    </tr>\n",
       "  </thead>\n",
       "  <tbody>\n",
       "    <tr>\n",
       "      <th>0</th>\n",
       "      <td>br-icloud.com.br</td>\n",
       "      <td>1</td>\n",
       "      <td>16</td>\n",
       "      <td>13</td>\n",
       "      <td>0</td>\n",
       "    </tr>\n",
       "    <tr>\n",
       "      <th>1</th>\n",
       "      <td>mp3raid.com/music/krizz_kaliko.html</td>\n",
       "      <td>0</td>\n",
       "      <td>35</td>\n",
       "      <td>29</td>\n",
       "      <td>1</td>\n",
       "    </tr>\n",
       "    <tr>\n",
       "      <th>2</th>\n",
       "      <td>bopsecrets.org/rexroth/cr/1.htm</td>\n",
       "      <td>0</td>\n",
       "      <td>31</td>\n",
       "      <td>25</td>\n",
       "      <td>1</td>\n",
       "    </tr>\n",
       "    <tr>\n",
       "      <th>3</th>\n",
       "      <td>http://www.garage-pirenne.be/index.php?option=...</td>\n",
       "      <td>1</td>\n",
       "      <td>77</td>\n",
       "      <td>63</td>\n",
       "      <td>7</td>\n",
       "    </tr>\n",
       "    <tr>\n",
       "      <th>4</th>\n",
       "      <td>http://adventure-nicaragua.net/index.php?optio...</td>\n",
       "      <td>1</td>\n",
       "      <td>228</td>\n",
       "      <td>199</td>\n",
       "      <td>22</td>\n",
       "    </tr>\n",
       "  </tbody>\n",
       "</table>\n",
       "</div>"
      ],
      "text/plain": [
       "                                                 url  Label  url_len  \\\n",
       "0                                   br-icloud.com.br      1       16   \n",
       "1                mp3raid.com/music/krizz_kaliko.html      0       35   \n",
       "2                    bopsecrets.org/rexroth/cr/1.htm      0       31   \n",
       "3  http://www.garage-pirenne.be/index.php?option=...      1       77   \n",
       "4  http://adventure-nicaragua.net/index.php?optio...      1      228   \n",
       "\n",
       "   letters_count  digits_count  \n",
       "0             13             0  \n",
       "1             29             1  \n",
       "2             25             1  \n",
       "3             63             7  \n",
       "4            199            22  "
      ]
     },
     "execution_count": 14,
     "metadata": {},
     "output_type": "execute_result"
    }
   ],
   "source": [
    "df.head()"
   ]
  },
  {
   "cell_type": "code",
   "execution_count": 15,
   "id": "8baefe3f",
   "metadata": {},
   "outputs": [],
   "source": [
    "def count_special_chars(url):\n",
    "    special_chars = set(string.punctuation)\n",
    "    num_special_chars = sum(char in special_chars for char in url)\n",
    "    return num_special_chars"
   ]
  },
  {
   "cell_type": "code",
   "execution_count": 16,
   "id": "01583b74",
   "metadata": {},
   "outputs": [],
   "source": [
    "df['special_chars_count']  = df['url'].apply(lambda x: count_special_chars(x))"
   ]
  },
  {
   "cell_type": "code",
   "execution_count": 17,
   "id": "4c485272",
   "metadata": {},
   "outputs": [
    {
     "data": {
      "text/html": [
       "<div>\n",
       "<style scoped>\n",
       "    .dataframe tbody tr th:only-of-type {\n",
       "        vertical-align: middle;\n",
       "    }\n",
       "\n",
       "    .dataframe tbody tr th {\n",
       "        vertical-align: top;\n",
       "    }\n",
       "\n",
       "    .dataframe thead th {\n",
       "        text-align: right;\n",
       "    }\n",
       "</style>\n",
       "<table border=\"1\" class=\"dataframe\">\n",
       "  <thead>\n",
       "    <tr style=\"text-align: right;\">\n",
       "      <th></th>\n",
       "      <th>url</th>\n",
       "      <th>Label</th>\n",
       "      <th>url_len</th>\n",
       "      <th>letters_count</th>\n",
       "      <th>digits_count</th>\n",
       "      <th>special_chars_count</th>\n",
       "    </tr>\n",
       "  </thead>\n",
       "  <tbody>\n",
       "    <tr>\n",
       "      <th>0</th>\n",
       "      <td>br-icloud.com.br</td>\n",
       "      <td>1</td>\n",
       "      <td>16</td>\n",
       "      <td>13</td>\n",
       "      <td>0</td>\n",
       "      <td>3</td>\n",
       "    </tr>\n",
       "    <tr>\n",
       "      <th>1</th>\n",
       "      <td>mp3raid.com/music/krizz_kaliko.html</td>\n",
       "      <td>0</td>\n",
       "      <td>35</td>\n",
       "      <td>29</td>\n",
       "      <td>1</td>\n",
       "      <td>5</td>\n",
       "    </tr>\n",
       "    <tr>\n",
       "      <th>2</th>\n",
       "      <td>bopsecrets.org/rexroth/cr/1.htm</td>\n",
       "      <td>0</td>\n",
       "      <td>31</td>\n",
       "      <td>25</td>\n",
       "      <td>1</td>\n",
       "      <td>5</td>\n",
       "    </tr>\n",
       "    <tr>\n",
       "      <th>3</th>\n",
       "      <td>http://www.garage-pirenne.be/index.php?option=...</td>\n",
       "      <td>1</td>\n",
       "      <td>77</td>\n",
       "      <td>63</td>\n",
       "      <td>7</td>\n",
       "      <td>18</td>\n",
       "    </tr>\n",
       "    <tr>\n",
       "      <th>4</th>\n",
       "      <td>http://adventure-nicaragua.net/index.php?optio...</td>\n",
       "      <td>1</td>\n",
       "      <td>228</td>\n",
       "      <td>199</td>\n",
       "      <td>22</td>\n",
       "      <td>14</td>\n",
       "    </tr>\n",
       "  </tbody>\n",
       "</table>\n",
       "</div>"
      ],
      "text/plain": [
       "                                                 url  Label  url_len  \\\n",
       "0                                   br-icloud.com.br      1       16   \n",
       "1                mp3raid.com/music/krizz_kaliko.html      0       35   \n",
       "2                    bopsecrets.org/rexroth/cr/1.htm      0       31   \n",
       "3  http://www.garage-pirenne.be/index.php?option=...      1       77   \n",
       "4  http://adventure-nicaragua.net/index.php?optio...      1      228   \n",
       "\n",
       "   letters_count  digits_count  special_chars_count  \n",
       "0             13             0                    3  \n",
       "1             29             1                    5  \n",
       "2             25             1                    5  \n",
       "3             63             7                   18  \n",
       "4            199            22                   14  "
      ]
     },
     "execution_count": 17,
     "metadata": {},
     "output_type": "execute_result"
    }
   ],
   "source": [
    "df.head()"
   ]
  },
  {
   "cell_type": "markdown",
   "id": "66303d2b",
   "metadata": {},
   "source": [
    "### Get If https?"
   ]
  },
  {
   "cell_type": "code",
   "execution_count": 18,
   "id": "bbf0f9cc",
   "metadata": {},
   "outputs": [],
   "source": [
    "def secure_http(url):\n",
    "    return int(urlparse(url).scheme == 'https')"
   ]
  },
  {
   "cell_type": "code",
   "execution_count": 19,
   "id": "eddc1963",
   "metadata": {},
   "outputs": [],
   "source": [
    "df['secure_http']  = df['url'].apply(lambda x: secure_http(x))"
   ]
  },
  {
   "cell_type": "code",
   "execution_count": 20,
   "id": "a2bcb2ca",
   "metadata": {},
   "outputs": [
    {
     "data": {
      "text/plain": [
       "secure_http\n",
       "0    635511\n",
       "1     15680\n",
       "Name: count, dtype: int64"
      ]
     },
     "execution_count": 20,
     "metadata": {},
     "output_type": "execute_result"
    }
   ],
   "source": [
    "df['secure_http'].value_counts()"
   ]
  },
  {
   "cell_type": "markdown",
   "id": "f53cb42a",
   "metadata": {},
   "source": [
    "### Get if has IP address"
   ]
  },
  {
   "cell_type": "code",
   "execution_count": 21,
   "id": "ab376251",
   "metadata": {},
   "outputs": [],
   "source": [
    "import ipaddress\n",
    "def have_ip_address(url):\n",
    "    try:\n",
    "        parsed_url = urlparse(url)\n",
    "        if parsed_url.hostname:\n",
    "            ip = ipaddress.ip_address(parsed_url.hostname)\n",
    "            if isinstance(ip, (ipaddress.IPv4Address, ipaddress.IPv6Address)):\n",
    "                return 1\n",
    "    except ValueError:\n",
    "        pass  # Invalid hostname or IP address\n",
    "\n",
    "    return 0"
   ]
  },
  {
   "cell_type": "code",
   "execution_count": 22,
   "id": "287ce26d",
   "metadata": {},
   "outputs": [],
   "source": [
    "df['have_ip']  = df['url'].apply(lambda x: have_ip_address(x))"
   ]
  },
  {
   "cell_type": "code",
   "execution_count": 23,
   "id": "918f5a9d",
   "metadata": {},
   "outputs": [
    {
     "data": {
      "text/html": [
       "<div>\n",
       "<style scoped>\n",
       "    .dataframe tbody tr th:only-of-type {\n",
       "        vertical-align: middle;\n",
       "    }\n",
       "\n",
       "    .dataframe tbody tr th {\n",
       "        vertical-align: top;\n",
       "    }\n",
       "\n",
       "    .dataframe thead th {\n",
       "        text-align: right;\n",
       "    }\n",
       "</style>\n",
       "<table border=\"1\" class=\"dataframe\">\n",
       "  <thead>\n",
       "    <tr style=\"text-align: right;\">\n",
       "      <th></th>\n",
       "      <th>url</th>\n",
       "      <th>Label</th>\n",
       "      <th>url_len</th>\n",
       "      <th>letters_count</th>\n",
       "      <th>digits_count</th>\n",
       "      <th>special_chars_count</th>\n",
       "      <th>secure_http</th>\n",
       "      <th>have_ip</th>\n",
       "    </tr>\n",
       "  </thead>\n",
       "  <tbody>\n",
       "    <tr>\n",
       "      <th>0</th>\n",
       "      <td>br-icloud.com.br</td>\n",
       "      <td>1</td>\n",
       "      <td>16</td>\n",
       "      <td>13</td>\n",
       "      <td>0</td>\n",
       "      <td>3</td>\n",
       "      <td>0</td>\n",
       "      <td>0</td>\n",
       "    </tr>\n",
       "    <tr>\n",
       "      <th>1</th>\n",
       "      <td>mp3raid.com/music/krizz_kaliko.html</td>\n",
       "      <td>0</td>\n",
       "      <td>35</td>\n",
       "      <td>29</td>\n",
       "      <td>1</td>\n",
       "      <td>5</td>\n",
       "      <td>0</td>\n",
       "      <td>0</td>\n",
       "    </tr>\n",
       "    <tr>\n",
       "      <th>2</th>\n",
       "      <td>bopsecrets.org/rexroth/cr/1.htm</td>\n",
       "      <td>0</td>\n",
       "      <td>31</td>\n",
       "      <td>25</td>\n",
       "      <td>1</td>\n",
       "      <td>5</td>\n",
       "      <td>0</td>\n",
       "      <td>0</td>\n",
       "    </tr>\n",
       "    <tr>\n",
       "      <th>3</th>\n",
       "      <td>http://www.garage-pirenne.be/index.php?option=...</td>\n",
       "      <td>1</td>\n",
       "      <td>77</td>\n",
       "      <td>63</td>\n",
       "      <td>7</td>\n",
       "      <td>18</td>\n",
       "      <td>0</td>\n",
       "      <td>0</td>\n",
       "    </tr>\n",
       "    <tr>\n",
       "      <th>4</th>\n",
       "      <td>http://adventure-nicaragua.net/index.php?optio...</td>\n",
       "      <td>1</td>\n",
       "      <td>228</td>\n",
       "      <td>199</td>\n",
       "      <td>22</td>\n",
       "      <td>14</td>\n",
       "      <td>0</td>\n",
       "      <td>0</td>\n",
       "    </tr>\n",
       "  </tbody>\n",
       "</table>\n",
       "</div>"
      ],
      "text/plain": [
       "                                                 url  Label  url_len  \\\n",
       "0                                   br-icloud.com.br      1       16   \n",
       "1                mp3raid.com/music/krizz_kaliko.html      0       35   \n",
       "2                    bopsecrets.org/rexroth/cr/1.htm      0       31   \n",
       "3  http://www.garage-pirenne.be/index.php?option=...      1       77   \n",
       "4  http://adventure-nicaragua.net/index.php?optio...      1      228   \n",
       "\n",
       "   letters_count  digits_count  special_chars_count  secure_http  have_ip  \n",
       "0             13             0                    3            0        0  \n",
       "1             29             1                    5            0        0  \n",
       "2             25             1                    5            0        0  \n",
       "3             63             7                   18            0        0  \n",
       "4            199            22                   14            0        0  "
      ]
     },
     "execution_count": 23,
     "metadata": {},
     "output_type": "execute_result"
    }
   ],
   "source": [
    "df.head()"
   ]
  },
  {
   "cell_type": "code",
   "execution_count": 24,
   "id": "30bb61a9",
   "metadata": {},
   "outputs": [
    {
     "data": {
      "text/plain": [
       "have_ip\n",
       "0    639102\n",
       "1     12089\n",
       "Name: count, dtype: int64"
      ]
     },
     "execution_count": 24,
     "metadata": {},
     "output_type": "execute_result"
    }
   ],
   "source": [
    "df['have_ip'].value_counts()"
   ]
  },
  {
   "cell_type": "code",
   "execution_count": 25,
   "id": "8ca64c25",
   "metadata": {},
   "outputs": [
    {
     "data": {
      "text/plain": [
       "url                    0\n",
       "Label                  0\n",
       "url_len                0\n",
       "letters_count          0\n",
       "digits_count           0\n",
       "special_chars_count    0\n",
       "secure_http            0\n",
       "have_ip                0\n",
       "dtype: int64"
      ]
     },
     "execution_count": 25,
     "metadata": {},
     "output_type": "execute_result"
    }
   ],
   "source": [
    "df.isnull().sum()"
   ]
  },
  {
   "cell_type": "markdown",
   "id": "ca7fbf99",
   "metadata": {},
   "source": [
    "### Has Shortening service"
   ]
  },
  {
   "cell_type": "code",
   "execution_count": 26,
   "id": "d5c32e0c",
   "metadata": {},
   "outputs": [],
   "source": [
    "import re\n",
    "def has_shortening_service(url):\n",
    "    pattern = re.compile(r'https?://(?:www\\.)?(?:\\w+\\.)*(\\w+)\\.\\w+')\n",
    "    match = pattern.search(url)\n",
    "    \n",
    "    if match:\n",
    "        domain = match.group(1)\n",
    "        common_shortening_services = ['bit', 'goo', 'tinyurl', 'ow', 't', 'is',\n",
    "                                      'cli', 'yfrog', 'migre', 'ff', 'url4', 'twit',\n",
    "                                      'su', 'snipurl', 'short', 'BudURL', 'ping', \n",
    "                                      'post', 'Just', 'bkite', 'snipr', 'fic', \n",
    "                                      'loopt', 'doiop', 'short', 'kl', 'wp', \n",
    "                                      'rubyurl', 'om', 'to', 'bit', 't', 'lnkd', \n",
    "                                      'db', 'qr', 'adf', 'goo', 'bitly', 'cur', \n",
    "                                      'tinyurl', 'ow', 'bit', 'ity', 'q', 'is', \n",
    "                                      'po', 'bc', 'twitthis', 'u', 'j', 'buzurl', \n",
    "                                      'cutt', 'u', 'yourls', 'x', 'prettylinkpro', \n",
    "                                      'scrnch', 'filoops', 'vzturl', 'qr', '1url', \n",
    "                                      'tweez', 'v', 'tr', 'link', 'zip']\n",
    "        \n",
    "        if domain.lower() in common_shortening_services:\n",
    "            return 1\n",
    "    return 0 "
   ]
  },
  {
   "cell_type": "code",
   "execution_count": 27,
   "id": "bdce353e",
   "metadata": {},
   "outputs": [],
   "source": [
    "df['shortened']  = df['url'].apply(lambda x: has_shortening_service(x))"
   ]
  },
  {
   "cell_type": "code",
   "execution_count": 28,
   "id": "66bbb3c8",
   "metadata": {},
   "outputs": [
    {
     "data": {
      "text/html": [
       "<div>\n",
       "<style scoped>\n",
       "    .dataframe tbody tr th:only-of-type {\n",
       "        vertical-align: middle;\n",
       "    }\n",
       "\n",
       "    .dataframe tbody tr th {\n",
       "        vertical-align: top;\n",
       "    }\n",
       "\n",
       "    .dataframe thead th {\n",
       "        text-align: right;\n",
       "    }\n",
       "</style>\n",
       "<table border=\"1\" class=\"dataframe\">\n",
       "  <thead>\n",
       "    <tr style=\"text-align: right;\">\n",
       "      <th></th>\n",
       "      <th>url</th>\n",
       "      <th>Label</th>\n",
       "      <th>url_len</th>\n",
       "      <th>letters_count</th>\n",
       "      <th>digits_count</th>\n",
       "      <th>special_chars_count</th>\n",
       "      <th>secure_http</th>\n",
       "      <th>have_ip</th>\n",
       "      <th>shortened</th>\n",
       "    </tr>\n",
       "  </thead>\n",
       "  <tbody>\n",
       "    <tr>\n",
       "      <th>0</th>\n",
       "      <td>br-icloud.com.br</td>\n",
       "      <td>1</td>\n",
       "      <td>16</td>\n",
       "      <td>13</td>\n",
       "      <td>0</td>\n",
       "      <td>3</td>\n",
       "      <td>0</td>\n",
       "      <td>0</td>\n",
       "      <td>0</td>\n",
       "    </tr>\n",
       "    <tr>\n",
       "      <th>1</th>\n",
       "      <td>mp3raid.com/music/krizz_kaliko.html</td>\n",
       "      <td>0</td>\n",
       "      <td>35</td>\n",
       "      <td>29</td>\n",
       "      <td>1</td>\n",
       "      <td>5</td>\n",
       "      <td>0</td>\n",
       "      <td>0</td>\n",
       "      <td>0</td>\n",
       "    </tr>\n",
       "    <tr>\n",
       "      <th>2</th>\n",
       "      <td>bopsecrets.org/rexroth/cr/1.htm</td>\n",
       "      <td>0</td>\n",
       "      <td>31</td>\n",
       "      <td>25</td>\n",
       "      <td>1</td>\n",
       "      <td>5</td>\n",
       "      <td>0</td>\n",
       "      <td>0</td>\n",
       "      <td>0</td>\n",
       "    </tr>\n",
       "    <tr>\n",
       "      <th>3</th>\n",
       "      <td>http://www.garage-pirenne.be/index.php?option=...</td>\n",
       "      <td>1</td>\n",
       "      <td>77</td>\n",
       "      <td>63</td>\n",
       "      <td>7</td>\n",
       "      <td>18</td>\n",
       "      <td>0</td>\n",
       "      <td>0</td>\n",
       "      <td>0</td>\n",
       "    </tr>\n",
       "    <tr>\n",
       "      <th>4</th>\n",
       "      <td>http://adventure-nicaragua.net/index.php?optio...</td>\n",
       "      <td>1</td>\n",
       "      <td>228</td>\n",
       "      <td>199</td>\n",
       "      <td>22</td>\n",
       "      <td>14</td>\n",
       "      <td>0</td>\n",
       "      <td>0</td>\n",
       "      <td>0</td>\n",
       "    </tr>\n",
       "  </tbody>\n",
       "</table>\n",
       "</div>"
      ],
      "text/plain": [
       "                                                 url  Label  url_len  \\\n",
       "0                                   br-icloud.com.br      1       16   \n",
       "1                mp3raid.com/music/krizz_kaliko.html      0       35   \n",
       "2                    bopsecrets.org/rexroth/cr/1.htm      0       31   \n",
       "3  http://www.garage-pirenne.be/index.php?option=...      1       77   \n",
       "4  http://adventure-nicaragua.net/index.php?optio...      1      228   \n",
       "\n",
       "   letters_count  digits_count  special_chars_count  secure_http  have_ip  \\\n",
       "0             13             0                    3            0        0   \n",
       "1             29             1                    5            0        0   \n",
       "2             25             1                    5            0        0   \n",
       "3             63             7                   18            0        0   \n",
       "4            199            22                   14            0        0   \n",
       "\n",
       "   shortened  \n",
       "0          0  \n",
       "1          0  \n",
       "2          0  \n",
       "3          0  \n",
       "4          0  "
      ]
     },
     "execution_count": 28,
     "metadata": {},
     "output_type": "execute_result"
    }
   ],
   "source": [
    "df.head()"
   ]
  },
  {
   "cell_type": "code",
   "execution_count": 29,
   "id": "08113f34",
   "metadata": {},
   "outputs": [
    {
     "data": {
      "text/plain": [
       "10066"
      ]
     },
     "execution_count": 29,
     "metadata": {},
     "output_type": "execute_result"
    }
   ],
   "source": [
    "df.duplicated().sum()"
   ]
  },
  {
   "cell_type": "code",
   "execution_count": 30,
   "id": "a9a7a5e1",
   "metadata": {},
   "outputs": [],
   "source": [
    "df.drop_duplicates(inplace=True)"
   ]
  },
  {
   "cell_type": "code",
   "execution_count": 31,
   "id": "ca765489",
   "metadata": {},
   "outputs": [
    {
     "data": {
      "text/plain": [
       "0"
      ]
     },
     "execution_count": 31,
     "metadata": {},
     "output_type": "execute_result"
    }
   ],
   "source": [
    "df.duplicated().sum()"
   ]
  },
  {
   "cell_type": "code",
   "execution_count": 32,
   "id": "4a2ae557",
   "metadata": {},
   "outputs": [],
   "source": [
    "data = df.drop(columns=['url'])"
   ]
  },
  {
   "cell_type": "code",
   "execution_count": 33,
   "id": "08fe4970",
   "metadata": {},
   "outputs": [
    {
     "data": {
      "text/plain": [
       "Index(['Label', 'url_len', 'letters_count', 'digits_count',\n",
       "       'special_chars_count', 'secure_http', 'have_ip', 'shortened'],\n",
       "      dtype='object')"
      ]
     },
     "execution_count": 33,
     "metadata": {},
     "output_type": "execute_result"
    }
   ],
   "source": [
    "data.columns"
   ]
  },
  {
   "cell_type": "markdown",
   "id": "7daa1b71",
   "metadata": {},
   "source": [
    "### Splitting Data"
   ]
  },
  {
   "cell_type": "code",
   "execution_count": 34,
   "id": "bc1474ae",
   "metadata": {},
   "outputs": [],
   "source": [
    "target = 'Label'"
   ]
  },
  {
   "cell_type": "code",
   "execution_count": 35,
   "id": "821ec9e0",
   "metadata": {},
   "outputs": [],
   "source": [
    "cols = [target] + [col for col in data if col != target]\n",
    "data = data[cols]"
   ]
  },
  {
   "cell_type": "code",
   "execution_count": 36,
   "id": "d15d006f",
   "metadata": {},
   "outputs": [
    {
     "name": "stdout",
     "output_type": "stream",
     "text": [
      "   Label  url_len  letters_count  digits_count  special_chars_count  \\\n",
      "0      1       16             13             0                    3   \n",
      "1      0       35             29             1                    5   \n",
      "2      0       31             25             1                    5   \n",
      "3      1       77             63             7                   18   \n",
      "4      1      228            199            22                   14   \n",
      "\n",
      "   secure_http  have_ip  shortened  \n",
      "0            0        0          0  \n",
      "1            0        0          0  \n",
      "2            0        0          0  \n",
      "3            0        0          0  \n",
      "4            0        0          0  \n"
     ]
    }
   ],
   "source": [
    "print(data.head())"
   ]
  },
  {
   "cell_type": "code",
   "execution_count": 37,
   "id": "2f595a8c",
   "metadata": {},
   "outputs": [
    {
     "name": "stdout",
     "output_type": "stream",
     "text": [
      "(641125, 8)\n"
     ]
    },
    {
     "data": {
      "text/html": [
       "<div>\n",
       "<style scoped>\n",
       "    .dataframe tbody tr th:only-of-type {\n",
       "        vertical-align: middle;\n",
       "    }\n",
       "\n",
       "    .dataframe tbody tr th {\n",
       "        vertical-align: top;\n",
       "    }\n",
       "\n",
       "    .dataframe thead th {\n",
       "        text-align: right;\n",
       "    }\n",
       "</style>\n",
       "<table border=\"1\" class=\"dataframe\">\n",
       "  <thead>\n",
       "    <tr style=\"text-align: right;\">\n",
       "      <th></th>\n",
       "      <th>url_len</th>\n",
       "      <th>letters_count</th>\n",
       "      <th>digits_count</th>\n",
       "      <th>special_chars_count</th>\n",
       "      <th>secure_http</th>\n",
       "      <th>have_ip</th>\n",
       "      <th>shortened</th>\n",
       "    </tr>\n",
       "  </thead>\n",
       "  <tbody>\n",
       "    <tr>\n",
       "      <th>0</th>\n",
       "      <td>16</td>\n",
       "      <td>13</td>\n",
       "      <td>0</td>\n",
       "      <td>3</td>\n",
       "      <td>0</td>\n",
       "      <td>0</td>\n",
       "      <td>0</td>\n",
       "    </tr>\n",
       "    <tr>\n",
       "      <th>1</th>\n",
       "      <td>35</td>\n",
       "      <td>29</td>\n",
       "      <td>1</td>\n",
       "      <td>5</td>\n",
       "      <td>0</td>\n",
       "      <td>0</td>\n",
       "      <td>0</td>\n",
       "    </tr>\n",
       "    <tr>\n",
       "      <th>2</th>\n",
       "      <td>31</td>\n",
       "      <td>25</td>\n",
       "      <td>1</td>\n",
       "      <td>5</td>\n",
       "      <td>0</td>\n",
       "      <td>0</td>\n",
       "      <td>0</td>\n",
       "    </tr>\n",
       "    <tr>\n",
       "      <th>3</th>\n",
       "      <td>77</td>\n",
       "      <td>63</td>\n",
       "      <td>7</td>\n",
       "      <td>18</td>\n",
       "      <td>0</td>\n",
       "      <td>0</td>\n",
       "      <td>0</td>\n",
       "    </tr>\n",
       "    <tr>\n",
       "      <th>4</th>\n",
       "      <td>228</td>\n",
       "      <td>199</td>\n",
       "      <td>22</td>\n",
       "      <td>14</td>\n",
       "      <td>0</td>\n",
       "      <td>0</td>\n",
       "      <td>0</td>\n",
       "    </tr>\n",
       "  </tbody>\n",
       "</table>\n",
       "</div>"
      ],
      "text/plain": [
       "   url_len  letters_count  digits_count  special_chars_count  secure_http  \\\n",
       "0       16             13             0                    3            0   \n",
       "1       35             29             1                    5            0   \n",
       "2       31             25             1                    5            0   \n",
       "3       77             63             7                   18            0   \n",
       "4      228            199            22                   14            0   \n",
       "\n",
       "   have_ip  shortened  \n",
       "0        0          0  \n",
       "1        0          0  \n",
       "2        0          0  \n",
       "3        0          0  \n",
       "4        0          0  "
      ]
     },
     "execution_count": 37,
     "metadata": {},
     "output_type": "execute_result"
    }
   ],
   "source": [
    "print(data.shape)\n",
    "\n",
    "X = data.drop(\"Label\", axis=1)\n",
    "Y = data[target]\n",
    "X.head()"
   ]
  },
  {
   "cell_type": "code",
   "execution_count": 38,
   "id": "54369adf",
   "metadata": {},
   "outputs": [],
   "source": [
    "# Split the data into training and testing sets\n",
    "Xtrain, Xtest, Ytrain, Ytest = train_test_split(X, Y, test_size=0.2, random_state=SEED)"
   ]
  },
  {
   "cell_type": "code",
   "execution_count": 39,
   "id": "0b746478",
   "metadata": {},
   "outputs": [
    {
     "name": "stdout",
     "output_type": "stream",
     "text": [
      "Xtrain shape = {(512900, 7)}\n",
      "Xtest shape = {(128225, 7)}\n",
      "Ytrain shape = {(512900,)}\n",
      "Ytest shape = {(128225,)}\n",
      "Merged Training data shape = {(512900, 8)}\n",
      "Merged Test data shape = {(128225, 8)}\n"
     ]
    }
   ],
   "source": [
    "print(f\"Xtrain shape =\",{Xtrain.shape})\n",
    "print(f\"Xtest shape =\",{Xtest.shape})\n",
    "print(f\"Ytrain shape =\",{Ytrain.shape})\n",
    "print(f\"Ytest shape =\",{Ytest.shape})\n",
    "\n",
    "train_df = pd.merge(Xtrain, Ytrain, left_index=True, right_index=True) \n",
    "print(f\"Merged Training data shape =\",{train_df.shape})\n",
    "\n",
    "test_df = pd.merge(Xtest, Ytest, left_index=True, right_index=True) \n",
    "print(f\"Merged Test data shape =\",{test_df.shape})"
   ]
  },
  {
   "cell_type": "code",
   "execution_count": 40,
   "id": "82c7e785",
   "metadata": {},
   "outputs": [
    {
     "data": {
      "text/plain": [
       "504615    0\n",
       "453642    0\n",
       "298583    0\n",
       "21719     0\n",
       "221015    0\n",
       "Name: Label, dtype: int64"
      ]
     },
     "execution_count": 40,
     "metadata": {},
     "output_type": "execute_result"
    }
   ],
   "source": [
    "Ytrain.head()"
   ]
  },
  {
   "cell_type": "code",
   "execution_count": 41,
   "id": "2e1b66f6",
   "metadata": {},
   "outputs": [],
   "source": [
    "cols = [target] + [col for col in test_df if col != target]\n",
    "test_df = test_df[cols]"
   ]
  },
  {
   "cell_type": "code",
   "execution_count": 42,
   "id": "66e29277",
   "metadata": {},
   "outputs": [],
   "source": [
    "cols = [target] + [col for col in train_df if col != target]\n",
    "train_df = train_df[cols]"
   ]
  },
  {
   "cell_type": "code",
   "execution_count": 43,
   "id": "630f659f",
   "metadata": {},
   "outputs": [
    {
     "data": {
      "text/html": [
       "<div>\n",
       "<style scoped>\n",
       "    .dataframe tbody tr th:only-of-type {\n",
       "        vertical-align: middle;\n",
       "    }\n",
       "\n",
       "    .dataframe tbody tr th {\n",
       "        vertical-align: top;\n",
       "    }\n",
       "\n",
       "    .dataframe thead th {\n",
       "        text-align: right;\n",
       "    }\n",
       "</style>\n",
       "<table border=\"1\" class=\"dataframe\">\n",
       "  <thead>\n",
       "    <tr style=\"text-align: right;\">\n",
       "      <th></th>\n",
       "      <th>Label</th>\n",
       "      <th>url_len</th>\n",
       "      <th>letters_count</th>\n",
       "      <th>digits_count</th>\n",
       "      <th>special_chars_count</th>\n",
       "      <th>secure_http</th>\n",
       "      <th>have_ip</th>\n",
       "      <th>shortened</th>\n",
       "    </tr>\n",
       "  </thead>\n",
       "  <tbody>\n",
       "    <tr>\n",
       "      <th>504615</th>\n",
       "      <td>0</td>\n",
       "      <td>18</td>\n",
       "      <td>14</td>\n",
       "      <td>0</td>\n",
       "      <td>4</td>\n",
       "      <td>0</td>\n",
       "      <td>0</td>\n",
       "      <td>0</td>\n",
       "    </tr>\n",
       "    <tr>\n",
       "      <th>453642</th>\n",
       "      <td>0</td>\n",
       "      <td>14</td>\n",
       "      <td>12</td>\n",
       "      <td>0</td>\n",
       "      <td>2</td>\n",
       "      <td>0</td>\n",
       "      <td>0</td>\n",
       "      <td>0</td>\n",
       "    </tr>\n",
       "    <tr>\n",
       "      <th>298583</th>\n",
       "      <td>0</td>\n",
       "      <td>61</td>\n",
       "      <td>48</td>\n",
       "      <td>5</td>\n",
       "      <td>8</td>\n",
       "      <td>0</td>\n",
       "      <td>0</td>\n",
       "      <td>0</td>\n",
       "    </tr>\n",
       "    <tr>\n",
       "      <th>21719</th>\n",
       "      <td>0</td>\n",
       "      <td>47</td>\n",
       "      <td>40</td>\n",
       "      <td>0</td>\n",
       "      <td>7</td>\n",
       "      <td>0</td>\n",
       "      <td>0</td>\n",
       "      <td>0</td>\n",
       "    </tr>\n",
       "    <tr>\n",
       "      <th>221015</th>\n",
       "      <td>0</td>\n",
       "      <td>25</td>\n",
       "      <td>21</td>\n",
       "      <td>0</td>\n",
       "      <td>4</td>\n",
       "      <td>0</td>\n",
       "      <td>0</td>\n",
       "      <td>0</td>\n",
       "    </tr>\n",
       "  </tbody>\n",
       "</table>\n",
       "</div>"
      ],
      "text/plain": [
       "        Label  url_len  letters_count  digits_count  special_chars_count  \\\n",
       "504615      0       18             14             0                    4   \n",
       "453642      0       14             12             0                    2   \n",
       "298583      0       61             48             5                    8   \n",
       "21719       0       47             40             0                    7   \n",
       "221015      0       25             21             0                    4   \n",
       "\n",
       "        secure_http  have_ip  shortened  \n",
       "504615            0        0          0  \n",
       "453642            0        0          0  \n",
       "298583            0        0          0  \n",
       "21719             0        0          0  \n",
       "221015            0        0          0  "
      ]
     },
     "execution_count": 43,
     "metadata": {},
     "output_type": "execute_result"
    }
   ],
   "source": [
    "train_df.head()"
   ]
  },
  {
   "cell_type": "markdown",
   "id": "1eeccc9f",
   "metadata": {},
   "source": [
    "### Hiding Scaler"
   ]
  },
  {
   "cell_type": "code",
   "execution_count": 44,
   "id": "6ffac052",
   "metadata": {},
   "outputs": [],
   "source": [
    "#scaler = StandardScaler()"
   ]
  },
  {
   "cell_type": "code",
   "execution_count": 45,
   "id": "360e15db",
   "metadata": {},
   "outputs": [],
   "source": [
    "#Xtrain = scaler.fit_transform(Xtrain)\n",
    "#Xtest = scaler.transform(Xtest)"
   ]
  },
  {
   "cell_type": "code",
   "execution_count": 46,
   "id": "13b69942",
   "metadata": {},
   "outputs": [],
   "source": [
    "# Convert Xtrain and Xtest to DataFrame\n",
    "#Xtrain_df = pd.DataFrame(Xtrain, columns=[f'feature_{i}' for i in range(Xtrain.shape[1])])\n",
    "#Xtest_df = pd.DataFrame(Xtest, columns=[f'feature_{i}' for i in range(Xtest.shape[1])])\n",
    "\n",
    "# Convert Ytrain and Ytest to Series directly without setting index\n",
    "#Ytrain_series = pd.Series(Ytrain, name='target')\n",
    "#Ytest_series = pd.Series(Ytest, name='target')\n",
    "\n",
    "# Ensure indices are consistent by resetting if necessary\n",
    "#Xtrain_df.reset_index(drop=True, inplace=True)\n",
    "#Ytrain_series.reset_index(drop=True, inplace=True)\n",
    "#Xtest_df.reset_index(drop=True, inplace=True)\n",
    "#Ytest_series.reset_index(drop=True, inplace=True)\n",
    "\n",
    "# Merge the DataFrames and Series using the same index\n",
    "#train_df = pd.concat([Xtrain_df, Ytrain_series], axis=1)\n",
    "#test_df = pd.concat([Xtest_df, Ytest_series], axis=1)\n",
    "\n",
    "# Print shapes as a sanity check\n",
    "#print(f\"Xtrain shape = {Xtrain_df.shape}\")\n",
    "#print(f\"Xtest shape = {Xtest_df.shape}\")\n",
    "#print(f\"Ytrain shape = {Ytrain_series.shape}\")\n",
    "#print(f\"Ytest shape = {Ytest_series.shape}\")\n",
    "#print(f\"Merged Training data shape = {train_df.shape}\")\n",
    "#print(f\"Merged Test data shape = {test_df.shape}\")\n"
   ]
  },
  {
   "cell_type": "markdown",
   "id": "da6fc8ce",
   "metadata": {},
   "source": [
    "## Move data to S3"
   ]
  },
  {
   "cell_type": "code",
   "execution_count": 47,
   "id": "d93deb95",
   "metadata": {},
   "outputs": [],
   "source": [
    "#Ytrain_series.head()"
   ]
  },
  {
   "cell_type": "code",
   "execution_count": 48,
   "id": "8835887f",
   "metadata": {},
   "outputs": [
    {
     "data": {
      "text/plain": [
       "Label                  0\n",
       "url_len                0\n",
       "letters_count          0\n",
       "digits_count           0\n",
       "special_chars_count    0\n",
       "secure_http            0\n",
       "have_ip                0\n",
       "shortened              0\n",
       "dtype: int64"
      ]
     },
     "execution_count": 48,
     "metadata": {},
     "output_type": "execute_result"
    }
   ],
   "source": [
    "test_df.isnull().sum()"
   ]
  },
  {
   "cell_type": "code",
   "execution_count": 49,
   "id": "84272656",
   "metadata": {},
   "outputs": [
    {
     "name": "stdout",
     "output_type": "stream",
     "text": [
      "New training DataFrame head:\n",
      "        Label  url_len  letters_count  digits_count  special_chars_count  \\\n",
      "504615      0       18             14             0                    4   \n",
      "453642      0       14             12             0                    2   \n",
      "298583      0       61             48             5                    8   \n",
      "21719       0       47             40             0                    7   \n",
      "221015      0       25             21             0                    4   \n",
      "\n",
      "        secure_http  have_ip  shortened  \n",
      "504615            0        0          0  \n",
      "453642            0        0          0  \n",
      "298583            0        0          0  \n",
      "21719             0        0          0  \n",
      "221015            0        0          0  \n",
      "\n",
      "New testing DataFrame head:\n",
      "        Label  url_len  letters_count  digits_count  special_chars_count  \\\n",
      "40901       0       76             51            10                   15   \n",
      "333602      0       52             47             0                    5   \n",
      "470949      0       50             44             0                    6   \n",
      "148145      1       93             85             2                   17   \n",
      "9856        0       31             27             0                    4   \n",
      "\n",
      "        secure_http  have_ip  shortened  \n",
      "40901             0        0          0  \n",
      "333602            0        0          0  \n",
      "470949            0        0          0  \n",
      "148145            0        0          0  \n",
      "9856              0        0          0  \n"
     ]
    }
   ],
   "source": [
    "#train_df = pd.concat([Ytrain_series, Xtrain_df], axis=1)\n",
    "#test_df = pd.concat([Ytest_series, Xtest_df], axis=1)\n",
    "\n",
    "# Verify the new arrangement\n",
    "print(\"New training DataFrame head:\")\n",
    "print(train_df.head())\n",
    "print(\"\\nNew testing DataFrame head:\")\n",
    "print(test_df.head())"
   ]
  },
  {
   "cell_type": "code",
   "execution_count": 50,
   "id": "10989f73",
   "metadata": {},
   "outputs": [],
   "source": [
    "import boto3\n",
    "bucket_name = 'sagemaker-malverticus-build-deploy-modelv2'\n",
    "\n",
    "train_df.to_csv('data.csv', header = False, index = False)\n",
    "key = 'data/train/data'\n",
    "\n",
    "url = 's3://{}/{}'.format(bucket_name , key)\n",
    "boto3.Session().resource('s3').Bucket(bucket_name).Object(key).upload_file('data.csv')\n",
    "\n",
    "test_df.to_csv('data.csv', header = False, index = False)\n",
    "key = 'data/test/data'\n",
    "\n",
    "url = 's3://{}/{}'.format(bucket_name , key)\n",
    "boto3.Session().resource('s3').Bucket(bucket_name).Object(key).upload_file('data.csv')"
   ]
  },
  {
   "cell_type": "markdown",
   "id": "b8390e4c",
   "metadata": {},
   "source": [
    "## Model Creation"
   ]
  },
  {
   "cell_type": "code",
   "execution_count": 51,
   "id": "f21bddb2",
   "metadata": {},
   "outputs": [
    {
     "name": "stdout",
     "output_type": "stream",
     "text": [
      "sagemaker.config INFO - Not applying SDK defaults from location: /etc/xdg/sagemaker/config.yaml\n",
      "sagemaker.config INFO - Not applying SDK defaults from location: /home/ec2-user/.config/sagemaker/config.yaml\n"
     ]
    },
    {
     "name": "stderr",
     "output_type": "stream",
     "text": [
      "The method get_image_uri has been renamed in sagemaker>=2.\n",
      "See: https://sagemaker.readthedocs.io/en/stable/v2.html for details.\n",
      "train_instance_count has been renamed in sagemaker>=2.\n",
      "See: https://sagemaker.readthedocs.io/en/stable/v2.html for details.\n",
      "train_instance_type has been renamed in sagemaker>=2.\n",
      "See: https://sagemaker.readthedocs.io/en/stable/v2.html for details.\n",
      "train_volume_size has been renamed in sagemaker>=2.\n",
      "See: https://sagemaker.readthedocs.io/en/stable/v2.html for details.\n"
     ]
    }
   ],
   "source": [
    "import sagemaker\n",
    "from sagemaker.amazon.amazon_estimator import get_image_uri\n",
    "from sagemaker import get_execution_role\n",
    "\n",
    "key = 'model/xgboost_model'\n",
    "\n",
    "s3_output_location = url = 's3://{}/{}'.format(bucket_name , key) \n",
    "\n",
    "xgb_model = sagemaker.estimator.Estimator(\n",
    "    get_image_uri(boto3.Session().region_name, 'xgboost'),\n",
    "    get_execution_role(),\n",
    "    train_instance_count =1,\n",
    "    train_instance_type = 'ml.m4.xlarge',\n",
    "    train_volume_size = 5,\n",
    "    output_path = s3_output_location,\n",
    "    sagemaker_session = sagemaker.Session()\n",
    "\n",
    ")\n",
    "\n",
    "xgb_model.set_hyperparameters(\n",
    "    objective='binary:logistic', \n",
    "    num_round=50,  \n",
    "    max_depth=0, \n",
    "    eta=0.2, \n",
    "    subsample=0.7,  #\n",
    "    colsample_bytree=0.8  \n",
    ")"
   ]
  },
  {
   "cell_type": "markdown",
   "id": "be517882",
   "metadata": {},
   "source": [
    "## Model Training"
   ]
  },
  {
   "cell_type": "code",
   "execution_count": 52,
   "id": "a4709192",
   "metadata": {},
   "outputs": [
    {
     "name": "stderr",
     "output_type": "stream",
     "text": [
      "The class sagemaker.session.s3_input has been renamed in sagemaker>=2.\n",
      "See: https://sagemaker.readthedocs.io/en/stable/v2.html for details.\n",
      "The class sagemaker.session.s3_input has been renamed in sagemaker>=2.\n",
      "See: https://sagemaker.readthedocs.io/en/stable/v2.html for details.\n",
      "INFO:sagemaker:Creating training-job with name: xgboost-2024-04-23-15-57-39-865\n"
     ]
    },
    {
     "name": "stdout",
     "output_type": "stream",
     "text": [
      "2024-04-23 15:57:40 Starting - Starting the training job...\n",
      "2024-04-23 15:57:54 Starting - Preparing the instances for training......\n",
      "2024-04-23 15:59:01 Downloading - Downloading input data......\n",
      "2024-04-23 15:59:47 Downloading - Downloading the training image...\n",
      "2024-04-23 16:00:32 Training - Training image download completed. Training in progress...\u001b[34mArguments: train\u001b[0m\n",
      "\u001b[34m[2024-04-23:16:00:43:INFO] Running standalone xgboost training.\u001b[0m\n",
      "\u001b[34m[2024-04-23:16:00:43:INFO] File size need to be processed in the node: 11.39mb. Available memory size in the node: 8516.08mb\u001b[0m\n",
      "\u001b[34m[2024-04-23:16:00:43:INFO] Determined delimiter of CSV input is ','\u001b[0m\n",
      "\u001b[34m[16:00:43] S3DistributionType set as FullyReplicated\u001b[0m\n",
      "\u001b[34m[16:00:43] 512900x7 matrix with 3590300 entries loaded from /opt/ml/input/data/train?format=csv&label_column=0&delimiter=,\u001b[0m\n",
      "\u001b[34m[2024-04-23:16:00:43:INFO] Determined delimiter of CSV input is ','\u001b[0m\n",
      "\u001b[34m[16:00:43] S3DistributionType set as FullyReplicated\u001b[0m\n",
      "\u001b[34m[16:00:43] 128225x7 matrix with 897575 entries loaded from /opt/ml/input/data/validation?format=csv&label_column=0&delimiter=,\u001b[0m\n",
      "\u001b[34m[16:00:43] src/tree/updater_prune.cc:74: tree pruning end, 1 roots, 40 extra nodes, 0 pruned nodes, max_depth=5\u001b[0m\n",
      "\u001b[34m[0]#011train-error:0.222478#011validation-error:0.223747\u001b[0m\n",
      "\u001b[34m[16:00:44] src/tree/updater_prune.cc:74: tree pruning end, 1 roots, 48 extra nodes, 0 pruned nodes, max_depth=5\u001b[0m\n",
      "\u001b[34m[1]#011train-error:0.19634#011validation-error:0.197192\u001b[0m\n",
      "\u001b[34m[16:00:44] src/tree/updater_prune.cc:74: tree pruning end, 1 roots, 48 extra nodes, 0 pruned nodes, max_depth=5\u001b[0m\n",
      "\u001b[34m[2]#011train-error:0.195839#011validation-error:0.196303\u001b[0m\n",
      "\u001b[34m[16:00:44] src/tree/updater_prune.cc:74: tree pruning end, 1 roots, 48 extra nodes, 0 pruned nodes, max_depth=5\u001b[0m\n",
      "\u001b[34m[3]#011train-error:0.184441#011validation-error:0.185447\u001b[0m\n",
      "\u001b[34m[16:00:44] src/tree/updater_prune.cc:74: tree pruning end, 1 roots, 50 extra nodes, 0 pruned nodes, max_depth=5\u001b[0m\n",
      "\u001b[34m[4]#011train-error:0.192289#011validation-error:0.192778\u001b[0m\n",
      "\u001b[34m[16:00:45] src/tree/updater_prune.cc:74: tree pruning end, 1 roots, 48 extra nodes, 0 pruned nodes, max_depth=5\u001b[0m\n",
      "\u001b[34m[5]#011train-error:0.184143#011validation-error:0.184792\u001b[0m\n",
      "\u001b[34m[16:00:45] src/tree/updater_prune.cc:74: tree pruning end, 1 roots, 50 extra nodes, 0 pruned nodes, max_depth=5\u001b[0m\n",
      "\u001b[34m[6]#011train-error:0.175502#011validation-error:0.176292\u001b[0m\n",
      "\u001b[34m[16:00:45] src/tree/updater_prune.cc:74: tree pruning end, 1 roots, 44 extra nodes, 0 pruned nodes, max_depth=5\u001b[0m\n",
      "\u001b[34m[7]#011train-error:0.174584#011validation-error:0.174974\u001b[0m\n",
      "\u001b[34m[16:00:46] src/tree/updater_prune.cc:74: tree pruning end, 1 roots, 58 extra nodes, 0 pruned nodes, max_depth=5\u001b[0m\n",
      "\u001b[34m[8]#011train-error:0.171872#011validation-error:0.172151\u001b[0m\n",
      "\u001b[34m[16:00:46] src/tree/updater_prune.cc:74: tree pruning end, 1 roots, 32 extra nodes, 0 pruned nodes, max_depth=5\u001b[0m\n",
      "\u001b[34m[9]#011train-error:0.169817#011validation-error:0.169975\u001b[0m\n",
      "\u001b[34m[16:00:46] src/tree/updater_prune.cc:74: tree pruning end, 1 roots, 60 extra nodes, 0 pruned nodes, max_depth=5\u001b[0m\n",
      "\u001b[34m[10]#011train-error:0.165446#011validation-error:0.165584\u001b[0m\n",
      "\u001b[34m[16:00:46] src/tree/updater_prune.cc:74: tree pruning end, 1 roots, 62 extra nodes, 0 pruned nodes, max_depth=5\u001b[0m\n",
      "\u001b[34m[11]#011train-error:0.159678#011validation-error:0.159899\u001b[0m\n",
      "\u001b[34m[16:00:46] src/tree/updater_prune.cc:74: tree pruning end, 1 roots, 32 extra nodes, 0 pruned nodes, max_depth=5\u001b[0m\n",
      "\u001b[34m[12]#011train-error:0.159421#011validation-error:0.159719\u001b[0m\n",
      "\u001b[34m[16:00:47] src/tree/updater_prune.cc:74: tree pruning end, 1 roots, 28 extra nodes, 0 pruned nodes, max_depth=5\u001b[0m\n",
      "\u001b[34m[13]#011train-error:0.160468#011validation-error:0.160437\u001b[0m\n",
      "\u001b[34m[16:00:47] src/tree/updater_prune.cc:74: tree pruning end, 1 roots, 28 extra nodes, 0 pruned nodes, max_depth=5\u001b[0m\n",
      "\u001b[34m[14]#011train-error:0.157929#011validation-error:0.158253\u001b[0m\n",
      "\u001b[34m[16:00:47] src/tree/updater_prune.cc:74: tree pruning end, 1 roots, 62 extra nodes, 0 pruned nodes, max_depth=5\u001b[0m\n",
      "\u001b[34m[15]#011train-error:0.15699#011validation-error:0.157614\u001b[0m\n",
      "\u001b[34m[16:00:47] src/tree/updater_prune.cc:74: tree pruning end, 1 roots, 20 extra nodes, 0 pruned nodes, max_depth=5\u001b[0m\n",
      "\u001b[34m[16]#011train-error:0.157516#011validation-error:0.15812\u001b[0m\n",
      "\u001b[34m[16:00:47] src/tree/updater_prune.cc:74: tree pruning end, 1 roots, 56 extra nodes, 0 pruned nodes, max_depth=5\u001b[0m\n",
      "\u001b[34m[17]#011train-error:0.15449#011validation-error:0.155243\u001b[0m\n",
      "\u001b[34m[16:00:48] src/tree/updater_prune.cc:74: tree pruning end, 1 roots, 58 extra nodes, 0 pruned nodes, max_depth=5\u001b[0m\n",
      "\u001b[34m[18]#011train-error:0.150367#011validation-error:0.151125\u001b[0m\n",
      "\u001b[34m[16:00:48] src/tree/updater_prune.cc:74: tree pruning end, 1 roots, 60 extra nodes, 0 pruned nodes, max_depth=5\u001b[0m\n",
      "\u001b[34m[19]#011train-error:0.151127#011validation-error:0.152006\u001b[0m\n",
      "\u001b[34m[16:00:48] src/tree/updater_prune.cc:74: tree pruning end, 1 roots, 56 extra nodes, 0 pruned nodes, max_depth=5\u001b[0m\n",
      "\u001b[34m[20]#011train-error:0.151437#011validation-error:0.152466\u001b[0m\n",
      "\u001b[34m[16:00:48] src/tree/updater_prune.cc:74: tree pruning end, 1 roots, 60 extra nodes, 0 pruned nodes, max_depth=5\u001b[0m\n",
      "\u001b[34m[21]#011train-error:0.149283#011validation-error:0.150423\u001b[0m\n",
      "\u001b[34m[16:00:49] src/tree/updater_prune.cc:74: tree pruning end, 1 roots, 34 extra nodes, 0 pruned nodes, max_depth=5\u001b[0m\n",
      "\u001b[34m[22]#011train-error:0.145465#011validation-error:0.14668\u001b[0m\n",
      "\u001b[34m[16:00:49] src/tree/updater_prune.cc:74: tree pruning end, 1 roots, 32 extra nodes, 0 pruned nodes, max_depth=5\u001b[0m\n",
      "\u001b[34m[23]#011train-error:0.144923#011validation-error:0.146025\u001b[0m\n",
      "\u001b[34m[16:00:49] src/tree/updater_prune.cc:74: tree pruning end, 1 roots, 26 extra nodes, 0 pruned nodes, max_depth=5\u001b[0m\n",
      "\u001b[34m[24]#011train-error:0.144753#011validation-error:0.1459\u001b[0m\n",
      "\u001b[34m[16:00:49] src/tree/updater_prune.cc:74: tree pruning end, 1 roots, 52 extra nodes, 0 pruned nodes, max_depth=5\u001b[0m\n",
      "\u001b[34m[25]#011train-error:0.143831#011validation-error:0.144621\u001b[0m\n",
      "\u001b[34m[16:00:49] src/tree/updater_prune.cc:74: tree pruning end, 1 roots, 54 extra nodes, 0 pruned nodes, max_depth=5\u001b[0m\n",
      "\u001b[34m[26]#011train-error:0.144845#011validation-error:0.145814\u001b[0m\n",
      "\u001b[34m[16:00:49] src/tree/updater_prune.cc:74: tree pruning end, 1 roots, 62 extra nodes, 0 pruned nodes, max_depth=5\u001b[0m\n",
      "\u001b[34m[27]#011train-error:0.143147#011validation-error:0.144106\u001b[0m\n",
      "\u001b[34m[16:00:50] src/tree/updater_prune.cc:74: tree pruning end, 1 roots, 60 extra nodes, 0 pruned nodes, max_depth=5\u001b[0m\n",
      "\u001b[34m[28]#011train-error:0.13684#011validation-error:0.137539\u001b[0m\n",
      "\u001b[34m[16:00:50] src/tree/updater_prune.cc:74: tree pruning end, 1 roots, 62 extra nodes, 0 pruned nodes, max_depth=5\u001b[0m\n",
      "\u001b[34m[29]#011train-error:0.135399#011validation-error:0.136448\u001b[0m\n",
      "\u001b[34m[16:00:50] src/tree/updater_prune.cc:74: tree pruning end, 1 roots, 58 extra nodes, 0 pruned nodes, max_depth=5\u001b[0m\n",
      "\u001b[34m[30]#011train-error:0.13288#011validation-error:0.133679\u001b[0m\n",
      "\u001b[34m[16:00:50] src/tree/updater_prune.cc:74: tree pruning end, 1 roots, 56 extra nodes, 0 pruned nodes, max_depth=5\u001b[0m\n",
      "\u001b[34m[31]#011train-error:0.131355#011validation-error:0.132236\u001b[0m\n",
      "\u001b[34m[16:00:51] src/tree/updater_prune.cc:74: tree pruning end, 1 roots, 60 extra nodes, 0 pruned nodes, max_depth=5\u001b[0m\n",
      "\u001b[34m[32]#011train-error:0.129879#011validation-error:0.130996\u001b[0m\n",
      "\u001b[34m[16:00:51] src/tree/updater_prune.cc:74: tree pruning end, 1 roots, 62 extra nodes, 0 pruned nodes, max_depth=5\u001b[0m\n",
      "\u001b[34m[33]#011train-error:0.127916#011validation-error:0.128766\u001b[0m\n",
      "\u001b[34m[16:00:51] src/tree/updater_prune.cc:74: tree pruning end, 1 roots, 62 extra nodes, 0 pruned nodes, max_depth=5\u001b[0m\n",
      "\u001b[34m[34]#011train-error:0.12715#011validation-error:0.128337\u001b[0m\n",
      "\u001b[34m[16:00:51] src/tree/updater_prune.cc:74: tree pruning end, 1 roots, 60 extra nodes, 0 pruned nodes, max_depth=5\u001b[0m\n",
      "\u001b[34m[35]#011train-error:0.12698#011validation-error:0.128025\u001b[0m\n",
      "\u001b[34m[16:00:51] src/tree/updater_prune.cc:74: tree pruning end, 1 roots, 36 extra nodes, 0 pruned nodes, max_depth=5\u001b[0m\n",
      "\u001b[34m[36]#011train-error:0.1266#011validation-error:0.127588\u001b[0m\n",
      "\u001b[34m[16:00:52] src/tree/updater_prune.cc:74: tree pruning end, 1 roots, 60 extra nodes, 0 pruned nodes, max_depth=5\u001b[0m\n",
      "\u001b[34m[37]#011train-error:0.123642#011validation-error:0.124539\u001b[0m\n",
      "\u001b[34m[16:00:52] src/tree/updater_prune.cc:74: tree pruning end, 1 roots, 60 extra nodes, 0 pruned nodes, max_depth=5\u001b[0m\n",
      "\u001b[34m[38]#011train-error:0.12262#011validation-error:0.123556\u001b[0m\n",
      "\u001b[34m[16:00:52] src/tree/updater_prune.cc:74: tree pruning end, 1 roots, 62 extra nodes, 0 pruned nodes, max_depth=5\u001b[0m\n",
      "\u001b[34m[39]#011train-error:0.122035#011validation-error:0.122893\u001b[0m\n",
      "\u001b[34m[16:00:52] src/tree/updater_prune.cc:74: tree pruning end, 1 roots, 58 extra nodes, 0 pruned nodes, max_depth=5\u001b[0m\n",
      "\u001b[34m[40]#011train-error:0.12123#011validation-error:0.122012\u001b[0m\n",
      "\u001b[34m[16:00:52] src/tree/updater_prune.cc:74: tree pruning end, 1 roots, 62 extra nodes, 0 pruned nodes, max_depth=5\u001b[0m\n",
      "\u001b[34m[41]#011train-error:0.120033#011validation-error:0.120788\u001b[0m\n",
      "\u001b[34m[16:00:53] src/tree/updater_prune.cc:74: tree pruning end, 1 roots, 62 extra nodes, 0 pruned nodes, max_depth=5\u001b[0m\n",
      "\u001b[34m[42]#011train-error:0.119093#011validation-error:0.119938\u001b[0m\n",
      "\u001b[34m[16:00:53] src/tree/updater_prune.cc:74: tree pruning end, 1 roots, 62 extra nodes, 0 pruned nodes, max_depth=5\u001b[0m\n",
      "\u001b[34m[43]#011train-error:0.118173#011validation-error:0.11901\u001b[0m\n",
      "\u001b[34m[16:00:53] src/tree/updater_prune.cc:74: tree pruning end, 1 roots, 58 extra nodes, 0 pruned nodes, max_depth=5\u001b[0m\n",
      "\u001b[34m[44]#011train-error:0.116602#011validation-error:0.117325\u001b[0m\n",
      "\u001b[34m[16:00:53] src/tree/updater_prune.cc:74: tree pruning end, 1 roots, 34 extra nodes, 0 pruned nodes, max_depth=5\u001b[0m\n",
      "\u001b[34m[45]#011train-error:0.116902#011validation-error:0.117598\u001b[0m\n",
      "\u001b[34m[16:00:53] src/tree/updater_prune.cc:74: tree pruning end, 1 roots, 60 extra nodes, 0 pruned nodes, max_depth=5\u001b[0m\n",
      "\u001b[34m[46]#011train-error:0.1165#011validation-error:0.117029\u001b[0m\n",
      "\u001b[34m[16:00:54] src/tree/updater_prune.cc:74: tree pruning end, 1 roots, 62 extra nodes, 0 pruned nodes, max_depth=5\u001b[0m\n",
      "\u001b[34m[47]#011train-error:0.115666#011validation-error:0.116264\u001b[0m\n",
      "\u001b[34m[16:00:54] src/tree/updater_prune.cc:74: tree pruning end, 1 roots, 56 extra nodes, 0 pruned nodes, max_depth=5\u001b[0m\n",
      "\u001b[34m[48]#011train-error:0.114562#011validation-error:0.114993\u001b[0m\n",
      "\u001b[34m[16:00:54] src/tree/updater_prune.cc:74: tree pruning end, 1 roots, 30 extra nodes, 0 pruned nodes, max_depth=5\u001b[0m\n",
      "\u001b[34m[49]#011train-error:0.114434#011validation-error:0.114923\u001b[0m\n",
      "\u001b[34m[16:00:54] src/tree/updater_prune.cc:74: tree pruning end, 1 roots, 24 extra nodes, 0 pruned nodes, max_depth=5\u001b[0m\n",
      "\u001b[34m[50]#011train-error:0.114395#011validation-error:0.114853\u001b[0m\n",
      "\u001b[34m[16:00:54] src/tree/updater_prune.cc:74: tree pruning end, 1 roots, 60 extra nodes, 0 pruned nodes, max_depth=5\u001b[0m\n",
      "\u001b[34m[51]#011train-error:0.114071#011validation-error:0.114783\u001b[0m\n",
      "\u001b[34m[16:00:55] src/tree/updater_prune.cc:74: tree pruning end, 1 roots, 58 extra nodes, 0 pruned nodes, max_depth=5\u001b[0m\n",
      "\u001b[34m[52]#011train-error:0.113582#011validation-error:0.114291\u001b[0m\n",
      "\u001b[34m[16:00:55] src/tree/updater_prune.cc:74: tree pruning end, 1 roots, 62 extra nodes, 0 pruned nodes, max_depth=5\u001b[0m\n",
      "\u001b[34m[53]#011train-error:0.112355#011validation-error:0.112965\u001b[0m\n",
      "\u001b[34m[16:00:55] src/tree/updater_prune.cc:74: tree pruning end, 1 roots, 62 extra nodes, 0 pruned nodes, max_depth=5\u001b[0m\n",
      "\u001b[34m[54]#011train-error:0.111308#011validation-error:0.112061\u001b[0m\n",
      "\u001b[34m[16:00:55] src/tree/updater_prune.cc:74: tree pruning end, 1 roots, 62 extra nodes, 0 pruned nodes, max_depth=5\u001b[0m\n",
      "\u001b[34m[55]#011train-error:0.110571#011validation-error:0.110844\u001b[0m\n",
      "\u001b[34m[16:00:55] src/tree/updater_prune.cc:74: tree pruning end, 1 roots, 62 extra nodes, 0 pruned nodes, max_depth=5\u001b[0m\n",
      "\u001b[34m[56]#011train-error:0.110232#011validation-error:0.110501\u001b[0m\n",
      "\u001b[34m[16:00:56] src/tree/updater_prune.cc:74: tree pruning end, 1 roots, 62 extra nodes, 0 pruned nodes, max_depth=5\u001b[0m\n",
      "\u001b[34m[57]#011train-error:0.109193#011validation-error:0.109487\u001b[0m\n",
      "\u001b[34m[16:00:56] src/tree/updater_prune.cc:74: tree pruning end, 1 roots, 58 extra nodes, 0 pruned nodes, max_depth=5\u001b[0m\n",
      "\u001b[34m[58]#011train-error:0.108549#011validation-error:0.108973\u001b[0m\n",
      "\u001b[34m[16:00:56] src/tree/updater_prune.cc:74: tree pruning end, 1 roots, 54 extra nodes, 0 pruned nodes, max_depth=5\u001b[0m\n",
      "\u001b[34m[59]#011train-error:0.108508#011validation-error:0.108895\u001b[0m\n",
      "\u001b[34m[16:00:56] src/tree/updater_prune.cc:74: tree pruning end, 1 roots, 62 extra nodes, 0 pruned nodes, max_depth=5\u001b[0m\n",
      "\u001b[34m[60]#011train-error:0.107417#011validation-error:0.107881\u001b[0m\n",
      "\u001b[34m[16:00:57] src/tree/updater_prune.cc:74: tree pruning end, 1 roots, 62 extra nodes, 0 pruned nodes, max_depth=5\u001b[0m\n",
      "\u001b[34m[61]#011train-error:0.105461#011validation-error:0.106243\u001b[0m\n",
      "\u001b[34m[16:00:57] src/tree/updater_prune.cc:74: tree pruning end, 1 roots, 62 extra nodes, 0 pruned nodes, max_depth=5\u001b[0m\n",
      "\u001b[34m[62]#011train-error:0.10389#011validation-error:0.104683\u001b[0m\n",
      "\u001b[34m[16:00:57] src/tree/updater_prune.cc:74: tree pruning end, 1 roots, 52 extra nodes, 0 pruned nodes, max_depth=5\u001b[0m\n",
      "\u001b[34m[63]#011train-error:0.103352#011validation-error:0.104254\u001b[0m\n",
      "\u001b[34m[16:00:57] src/tree/updater_prune.cc:74: tree pruning end, 1 roots, 52 extra nodes, 0 pruned nodes, max_depth=5\u001b[0m\n",
      "\u001b[34m[64]#011train-error:0.103155#011validation-error:0.104028\u001b[0m\n",
      "\u001b[34m[16:00:57] src/tree/updater_prune.cc:74: tree pruning end, 1 roots, 56 extra nodes, 0 pruned nodes, max_depth=5\u001b[0m\n",
      "\u001b[34m[65]#011train-error:0.102587#011validation-error:0.103545\u001b[0m\n",
      "\u001b[34m[16:00:58] src/tree/updater_prune.cc:74: tree pruning end, 1 roots, 62 extra nodes, 0 pruned nodes, max_depth=5\u001b[0m\n",
      "\u001b[34m[66]#011train-error:0.101831#011validation-error:0.102655\u001b[0m\n",
      "\u001b[34m[16:00:58] src/tree/updater_prune.cc:74: tree pruning end, 1 roots, 60 extra nodes, 0 pruned nodes, max_depth=5\u001b[0m\n",
      "\u001b[34m[67]#011train-error:0.1013#011validation-error:0.102172\u001b[0m\n",
      "\u001b[34m[16:00:58] src/tree/updater_prune.cc:74: tree pruning end, 1 roots, 62 extra nodes, 0 pruned nodes, max_depth=5\u001b[0m\n",
      "\u001b[34m[68]#011train-error:0.100673#011validation-error:0.101564\u001b[0m\n",
      "\u001b[34m[16:00:58] src/tree/updater_prune.cc:74: tree pruning end, 1 roots, 62 extra nodes, 0 pruned nodes, max_depth=5\u001b[0m\n",
      "\u001b[34m[69]#011train-error:0.100702#011validation-error:0.101501\u001b[0m\n",
      "\u001b[34m[16:00:58] src/tree/updater_prune.cc:74: tree pruning end, 1 roots, 62 extra nodes, 0 pruned nodes, max_depth=5\u001b[0m\n",
      "\u001b[34m[70]#011train-error:0.100049#011validation-error:0.100792\u001b[0m\n",
      "\u001b[34m[16:00:59] src/tree/updater_prune.cc:74: tree pruning end, 1 roots, 62 extra nodes, 0 pruned nodes, max_depth=5\u001b[0m\n",
      "\u001b[34m[71]#011train-error:0.099134#011validation-error:0.099918\u001b[0m\n",
      "\u001b[34m[16:00:59] src/tree/updater_prune.cc:74: tree pruning end, 1 roots, 62 extra nodes, 0 pruned nodes, max_depth=5\u001b[0m\n",
      "\u001b[34m[72]#011train-error:0.098409#011validation-error:0.099232\u001b[0m\n",
      "\u001b[34m[16:00:59] src/tree/updater_prune.cc:74: tree pruning end, 1 roots, 62 extra nodes, 0 pruned nodes, max_depth=5\u001b[0m\n",
      "\u001b[34m[73]#011train-error:0.097458#011validation-error:0.098397\u001b[0m\n",
      "\n",
      "2024-04-23 16:01:07 Uploading - Uploading generated training model\u001b[34m[16:00:59] src/tree/updater_prune.cc:74: tree pruning end, 1 roots, 32 extra nodes, 0 pruned nodes, max_depth=5\u001b[0m\n",
      "\u001b[34m[74]#011train-error:0.097358#011validation-error:0.098358\u001b[0m\n",
      "\u001b[34m[16:00:59] src/tree/updater_prune.cc:74: tree pruning end, 1 roots, 54 extra nodes, 0 pruned nodes, max_depth=5\u001b[0m\n",
      "\u001b[34m[75]#011train-error:0.097177#011validation-error:0.098132\u001b[0m\n",
      "\u001b[34m[16:01:00] src/tree/updater_prune.cc:74: tree pruning end, 1 roots, 62 extra nodes, 0 pruned nodes, max_depth=5\u001b[0m\n",
      "\u001b[34m[76]#011train-error:0.09651#011validation-error:0.097461\u001b[0m\n",
      "\u001b[34m[16:01:00] src/tree/updater_prune.cc:74: tree pruning end, 1 roots, 54 extra nodes, 0 pruned nodes, max_depth=5\u001b[0m\n",
      "\u001b[34m[77]#011train-error:0.096559#011validation-error:0.097539\u001b[0m\n",
      "\u001b[34m[16:01:00] src/tree/updater_prune.cc:74: tree pruning end, 1 roots, 62 extra nodes, 0 pruned nodes, max_depth=5\u001b[0m\n",
      "\u001b[34m[78]#011train-error:0.096216#011validation-error:0.097181\u001b[0m\n",
      "\u001b[34m[16:01:00] src/tree/updater_prune.cc:74: tree pruning end, 1 roots, 62 extra nodes, 0 pruned nodes, max_depth=5\u001b[0m\n",
      "\u001b[34m[79]#011train-error:0.095668#011validation-error:0.096533\u001b[0m\n",
      "\u001b[34m[16:01:00] src/tree/updater_prune.cc:74: tree pruning end, 1 roots, 60 extra nodes, 0 pruned nodes, max_depth=5\u001b[0m\n",
      "\u001b[34m[80]#011train-error:0.095494#011validation-error:0.09644\u001b[0m\n",
      "\u001b[34m[16:01:01] src/tree/updater_prune.cc:74: tree pruning end, 1 roots, 62 extra nodes, 0 pruned nodes, max_depth=5\u001b[0m\n",
      "\u001b[34m[81]#011train-error:0.095017#011validation-error:0.095785\u001b[0m\n",
      "\u001b[34m[16:01:01] src/tree/updater_prune.cc:74: tree pruning end, 1 roots, 60 extra nodes, 0 pruned nodes, max_depth=5\u001b[0m\n",
      "\u001b[34m[82]#011train-error:0.094946#011validation-error:0.095598\u001b[0m\n",
      "\u001b[34m[16:01:01] src/tree/updater_prune.cc:74: tree pruning end, 1 roots, 62 extra nodes, 0 pruned nodes, max_depth=5\u001b[0m\n",
      "\u001b[34m[83]#011train-error:0.094272#011validation-error:0.095036\u001b[0m\n",
      "\u001b[34m[16:01:02] src/tree/updater_prune.cc:74: tree pruning end, 1 roots, 44 extra nodes, 0 pruned nodes, max_depth=5\u001b[0m\n",
      "\u001b[34m[84]#011train-error:0.094186#011validation-error:0.094958\u001b[0m\n",
      "\u001b[34m[16:01:02] src/tree/updater_prune.cc:74: tree pruning end, 1 roots, 62 extra nodes, 0 pruned nodes, max_depth=5\u001b[0m\n",
      "\u001b[34m[85]#011train-error:0.093831#011validation-error:0.094716\u001b[0m\n",
      "\u001b[34m[16:01:02] src/tree/updater_prune.cc:74: tree pruning end, 1 roots, 62 extra nodes, 0 pruned nodes, max_depth=5\u001b[0m\n",
      "\u001b[34m[86]#011train-error:0.093143#011validation-error:0.094139\u001b[0m\n",
      "\u001b[34m[16:01:02] src/tree/updater_prune.cc:74: tree pruning end, 1 roots, 60 extra nodes, 0 pruned nodes, max_depth=5\u001b[0m\n",
      "\u001b[34m[87]#011train-error:0.092837#011validation-error:0.093648\u001b[0m\n",
      "\u001b[34m[16:01:03] src/tree/updater_prune.cc:74: tree pruning end, 1 roots, 60 extra nodes, 0 pruned nodes, max_depth=5\u001b[0m\n",
      "\u001b[34m[88]#011train-error:0.092572#011validation-error:0.093211\u001b[0m\n",
      "\u001b[34m[16:01:03] src/tree/updater_prune.cc:74: tree pruning end, 1 roots, 60 extra nodes, 0 pruned nodes, max_depth=5\u001b[0m\n",
      "\u001b[34m[89]#011train-error:0.092472#011validation-error:0.093102\u001b[0m\n",
      "\u001b[34m[16:01:03] src/tree/updater_prune.cc:74: tree pruning end, 1 roots, 62 extra nodes, 0 pruned nodes, max_depth=5\u001b[0m\n",
      "\u001b[34m[90]#011train-error:0.091919#011validation-error:0.09254\u001b[0m\n",
      "\u001b[34m[16:01:03] src/tree/updater_prune.cc:74: tree pruning end, 1 roots, 46 extra nodes, 0 pruned nodes, max_depth=5\u001b[0m\n",
      "\u001b[34m[91]#011train-error:0.091954#011validation-error:0.092572\u001b[0m\n",
      "\u001b[34m[16:01:04] src/tree/updater_prune.cc:74: tree pruning end, 1 roots, 62 extra nodes, 0 pruned nodes, max_depth=5\u001b[0m\n",
      "\u001b[34m[92]#011train-error:0.091599#011validation-error:0.092525\u001b[0m\n",
      "\u001b[34m[16:01:04] src/tree/updater_prune.cc:74: tree pruning end, 1 roots, 60 extra nodes, 0 pruned nodes, max_depth=5\u001b[0m\n",
      "\u001b[34m[93]#011train-error:0.091279#011validation-error:0.092135\u001b[0m\n",
      "\u001b[34m[16:01:04] src/tree/updater_prune.cc:74: tree pruning end, 1 roots, 62 extra nodes, 0 pruned nodes, max_depth=5\u001b[0m\n",
      "\u001b[34m[94]#011train-error:0.091105#011validation-error:0.091878\u001b[0m\n",
      "\u001b[34m[16:01:04] src/tree/updater_prune.cc:74: tree pruning end, 1 roots, 62 extra nodes, 0 pruned nodes, max_depth=5\u001b[0m\n",
      "\u001b[34m[95]#011train-error:0.090663#011validation-error:0.091636\u001b[0m\n",
      "\u001b[34m[16:01:05] src/tree/updater_prune.cc:74: tree pruning end, 1 roots, 62 extra nodes, 0 pruned nodes, max_depth=5\u001b[0m\n",
      "\u001b[34m[96]#011train-error:0.090951#011validation-error:0.091948\u001b[0m\n",
      "\u001b[34m[16:01:05] src/tree/updater_prune.cc:74: tree pruning end, 1 roots, 62 extra nodes, 0 pruned nodes, max_depth=5\u001b[0m\n",
      "\u001b[34m[97]#011train-error:0.090696#011validation-error:0.091698\u001b[0m\n",
      "\u001b[34m[16:01:05] src/tree/updater_prune.cc:74: tree pruning end, 1 roots, 62 extra nodes, 0 pruned nodes, max_depth=5\u001b[0m\n",
      "\u001b[34m[98]#011train-error:0.090164#011validation-error:0.091332\u001b[0m\n",
      "\u001b[34m[16:01:05] src/tree/updater_prune.cc:74: tree pruning end, 1 roots, 62 extra nodes, 0 pruned nodes, max_depth=5\u001b[0m\n",
      "\u001b[34m[99]#011train-error:0.089709#011validation-error:0.090872\u001b[0m\n",
      "\n",
      "2024-04-23 16:01:24 Completed - Training job completed\n",
      "Training seconds: 142\n",
      "Billable seconds: 142\n"
     ]
    }
   ],
   "source": [
    "train_data_location = 's3://{}/{}'.format(bucket_name, 'data/train')\n",
    "validation_data_location = 's3://{}/{}'.format(bucket_name, 'data/test')\n",
    "\n",
    "train_channel = sagemaker.session.s3_input(train_data_location, content_type = 'text/csv') \n",
    "validation_channel =  sagemaker.session.s3_input(validation_data_location, content_type = 'text/csv') \n",
    "\n",
    "data_channels = {'train': train_channel, 'validation': validation_channel}\n",
    "\n",
    "xgb_model.fit(inputs = data_channels)"
   ]
  },
  {
   "cell_type": "code",
   "execution_count": 53,
   "id": "83854f38",
   "metadata": {},
   "outputs": [
    {
     "name": "stderr",
     "output_type": "stream",
     "text": [
      "INFO:sagemaker:Creating training-job with name: xgboost-2024-04-23-16-01-52-306\n"
     ]
    },
    {
     "name": "stdout",
     "output_type": "stream",
     "text": [
      "2024-04-23 16:01:52 Starting - Starting the training job...\n",
      "2024-04-23 16:02:07 Starting - Preparing the instances for training......\n",
      "2024-04-23 16:03:14 Downloading - Downloading input data......\n",
      "2024-04-23 16:03:54 Downloading - Downloading the training image...\n",
      "2024-04-23 16:04:40 Training - Training image download completed. Training in progress..\u001b[34mArguments: train\u001b[0m\n",
      "\u001b[34m[2024-04-23:16:04:52:INFO] Running standalone xgboost training.\u001b[0m\n",
      "\u001b[34m[2024-04-23:16:04:52:INFO] File size need to be processed in the node: 11.39mb. Available memory size in the node: 8490.8mb\u001b[0m\n",
      "\u001b[34m[2024-04-23:16:04:52:INFO] Determined delimiter of CSV input is ','\u001b[0m\n",
      "\u001b[34m[16:04:52] S3DistributionType set as FullyReplicated\u001b[0m\n",
      "\u001b[34m[16:04:53] 512900x7 matrix with 3590300 entries loaded from /opt/ml/input/data/train?format=csv&label_column=0&delimiter=,\u001b[0m\n",
      "\u001b[34m[2024-04-23:16:04:53:INFO] Determined delimiter of CSV input is ','\u001b[0m\n",
      "\u001b[34m[16:04:53] S3DistributionType set as FullyReplicated\u001b[0m\n",
      "\u001b[34m[16:04:53] 128225x7 matrix with 897575 entries loaded from /opt/ml/input/data/validation?format=csv&label_column=0&delimiter=,\u001b[0m\n",
      "\u001b[34m[16:04:53] src/tree/updater_prune.cc:74: tree pruning end, 1 roots, 40 extra nodes, 0 pruned nodes, max_depth=5\u001b[0m\n",
      "\u001b[34m[0]#011train-error:0.222478#011validation-error:0.223747\u001b[0m\n",
      "\u001b[34m[16:04:53] src/tree/updater_prune.cc:74: tree pruning end, 1 roots, 48 extra nodes, 0 pruned nodes, max_depth=5\u001b[0m\n",
      "\u001b[34m[1]#011train-error:0.19634#011validation-error:0.197192\u001b[0m\n",
      "\u001b[34m[16:04:53] src/tree/updater_prune.cc:74: tree pruning end, 1 roots, 48 extra nodes, 0 pruned nodes, max_depth=5\u001b[0m\n",
      "\u001b[34m[2]#011train-error:0.195839#011validation-error:0.196303\u001b[0m\n",
      "\u001b[34m[16:04:54] src/tree/updater_prune.cc:74: tree pruning end, 1 roots, 48 extra nodes, 0 pruned nodes, max_depth=5\u001b[0m\n",
      "\u001b[34m[3]#011train-error:0.184441#011validation-error:0.185447\u001b[0m\n",
      "\u001b[34m[16:04:54] src/tree/updater_prune.cc:74: tree pruning end, 1 roots, 50 extra nodes, 0 pruned nodes, max_depth=5\u001b[0m\n",
      "\u001b[34m[4]#011train-error:0.192289#011validation-error:0.192778\u001b[0m\n",
      "\u001b[34m[16:04:54] src/tree/updater_prune.cc:74: tree pruning end, 1 roots, 48 extra nodes, 0 pruned nodes, max_depth=5\u001b[0m\n",
      "\u001b[34m[5]#011train-error:0.184143#011validation-error:0.184792\u001b[0m\n",
      "\u001b[34m[16:04:54] src/tree/updater_prune.cc:74: tree pruning end, 1 roots, 50 extra nodes, 0 pruned nodes, max_depth=5\u001b[0m\n",
      "\u001b[34m[6]#011train-error:0.175502#011validation-error:0.176292\u001b[0m\n",
      "\u001b[34m[16:04:55] src/tree/updater_prune.cc:74: tree pruning end, 1 roots, 44 extra nodes, 0 pruned nodes, max_depth=5\u001b[0m\n",
      "\u001b[34m[7]#011train-error:0.174584#011validation-error:0.174974\u001b[0m\n",
      "\u001b[34m[16:04:55] src/tree/updater_prune.cc:74: tree pruning end, 1 roots, 58 extra nodes, 0 pruned nodes, max_depth=5\u001b[0m\n",
      "\u001b[34m[8]#011train-error:0.171872#011validation-error:0.172151\u001b[0m\n",
      "\u001b[34m[16:04:55] src/tree/updater_prune.cc:74: tree pruning end, 1 roots, 32 extra nodes, 0 pruned nodes, max_depth=5\u001b[0m\n",
      "\u001b[34m[9]#011train-error:0.169817#011validation-error:0.169975\u001b[0m\n",
      "\u001b[34m[16:04:55] src/tree/updater_prune.cc:74: tree pruning end, 1 roots, 60 extra nodes, 0 pruned nodes, max_depth=5\u001b[0m\n",
      "\u001b[34m[10]#011train-error:0.165446#011validation-error:0.165584\u001b[0m\n",
      "\u001b[34m[16:04:56] src/tree/updater_prune.cc:74: tree pruning end, 1 roots, 62 extra nodes, 0 pruned nodes, max_depth=5\u001b[0m\n",
      "\u001b[34m[11]#011train-error:0.159678#011validation-error:0.159899\u001b[0m\n",
      "\u001b[34m[16:04:56] src/tree/updater_prune.cc:74: tree pruning end, 1 roots, 32 extra nodes, 0 pruned nodes, max_depth=5\u001b[0m\n",
      "\u001b[34m[12]#011train-error:0.159421#011validation-error:0.159719\u001b[0m\n",
      "\u001b[34m[16:04:56] src/tree/updater_prune.cc:74: tree pruning end, 1 roots, 28 extra nodes, 0 pruned nodes, max_depth=5\u001b[0m\n",
      "\u001b[34m[13]#011train-error:0.160468#011validation-error:0.160437\u001b[0m\n",
      "\u001b[34m[16:04:56] src/tree/updater_prune.cc:74: tree pruning end, 1 roots, 28 extra nodes, 0 pruned nodes, max_depth=5\u001b[0m\n",
      "\u001b[34m[14]#011train-error:0.157929#011validation-error:0.158253\u001b[0m\n",
      "\u001b[34m[16:04:56] src/tree/updater_prune.cc:74: tree pruning end, 1 roots, 62 extra nodes, 0 pruned nodes, max_depth=5\u001b[0m\n",
      "\u001b[34m[15]#011train-error:0.15699#011validation-error:0.157614\u001b[0m\n",
      "\u001b[34m[16:04:57] src/tree/updater_prune.cc:74: tree pruning end, 1 roots, 20 extra nodes, 0 pruned nodes, max_depth=5\u001b[0m\n",
      "\u001b[34m[16]#011train-error:0.157516#011validation-error:0.15812\u001b[0m\n",
      "\u001b[34m[16:04:57] src/tree/updater_prune.cc:74: tree pruning end, 1 roots, 56 extra nodes, 0 pruned nodes, max_depth=5\u001b[0m\n",
      "\u001b[34m[17]#011train-error:0.15449#011validation-error:0.155243\u001b[0m\n",
      "\u001b[34m[16:04:57] src/tree/updater_prune.cc:74: tree pruning end, 1 roots, 58 extra nodes, 0 pruned nodes, max_depth=5\u001b[0m\n",
      "\u001b[34m[18]#011train-error:0.150367#011validation-error:0.151125\u001b[0m\n",
      "\u001b[34m[16:04:57] src/tree/updater_prune.cc:74: tree pruning end, 1 roots, 60 extra nodes, 0 pruned nodes, max_depth=5\u001b[0m\n",
      "\u001b[34m[19]#011train-error:0.151127#011validation-error:0.152006\u001b[0m\n",
      "\u001b[34m[16:04:57] src/tree/updater_prune.cc:74: tree pruning end, 1 roots, 56 extra nodes, 0 pruned nodes, max_depth=5\u001b[0m\n",
      "\u001b[34m[20]#011train-error:0.151437#011validation-error:0.152466\u001b[0m\n",
      "\u001b[34m[16:04:58] src/tree/updater_prune.cc:74: tree pruning end, 1 roots, 60 extra nodes, 0 pruned nodes, max_depth=5\u001b[0m\n",
      "\u001b[34m[21]#011train-error:0.149283#011validation-error:0.150423\u001b[0m\n",
      "\u001b[34m[16:04:58] src/tree/updater_prune.cc:74: tree pruning end, 1 roots, 34 extra nodes, 0 pruned nodes, max_depth=5\u001b[0m\n",
      "\u001b[34m[22]#011train-error:0.145465#011validation-error:0.14668\u001b[0m\n",
      "\u001b[34m[16:04:58] src/tree/updater_prune.cc:74: tree pruning end, 1 roots, 32 extra nodes, 0 pruned nodes, max_depth=5\u001b[0m\n",
      "\u001b[34m[23]#011train-error:0.144923#011validation-error:0.146025\u001b[0m\n",
      "\u001b[34m[16:04:58] src/tree/updater_prune.cc:74: tree pruning end, 1 roots, 26 extra nodes, 0 pruned nodes, max_depth=5\u001b[0m\n",
      "\u001b[34m[24]#011train-error:0.144753#011validation-error:0.1459\u001b[0m\n",
      "\u001b[34m[16:04:58] src/tree/updater_prune.cc:74: tree pruning end, 1 roots, 52 extra nodes, 0 pruned nodes, max_depth=5\u001b[0m\n",
      "\u001b[34m[25]#011train-error:0.143831#011validation-error:0.144621\u001b[0m\n",
      "\u001b[34m[16:04:58] src/tree/updater_prune.cc:74: tree pruning end, 1 roots, 54 extra nodes, 0 pruned nodes, max_depth=5\u001b[0m\n",
      "\u001b[34m[26]#011train-error:0.144845#011validation-error:0.145814\u001b[0m\n",
      "\u001b[34m[16:04:59] src/tree/updater_prune.cc:74: tree pruning end, 1 roots, 62 extra nodes, 0 pruned nodes, max_depth=5\u001b[0m\n",
      "\u001b[34m[27]#011train-error:0.143147#011validation-error:0.144106\u001b[0m\n",
      "\u001b[34m[16:04:59] src/tree/updater_prune.cc:74: tree pruning end, 1 roots, 60 extra nodes, 0 pruned nodes, max_depth=5\u001b[0m\n",
      "\u001b[34m[28]#011train-error:0.13684#011validation-error:0.137539\u001b[0m\n",
      "\u001b[34m[16:04:59] src/tree/updater_prune.cc:74: tree pruning end, 1 roots, 62 extra nodes, 0 pruned nodes, max_depth=5\u001b[0m\n",
      "\u001b[34m[29]#011train-error:0.135399#011validation-error:0.136448\u001b[0m\n",
      "\u001b[34m[16:04:59] src/tree/updater_prune.cc:74: tree pruning end, 1 roots, 58 extra nodes, 0 pruned nodes, max_depth=5\u001b[0m\n",
      "\u001b[34m[30]#011train-error:0.13288#011validation-error:0.133679\u001b[0m\n",
      "\u001b[34m[16:04:59] src/tree/updater_prune.cc:74: tree pruning end, 1 roots, 56 extra nodes, 0 pruned nodes, max_depth=5\u001b[0m\n",
      "\u001b[34m[31]#011train-error:0.131355#011validation-error:0.132236\u001b[0m\n",
      "\u001b[34m[16:05:00] src/tree/updater_prune.cc:74: tree pruning end, 1 roots, 60 extra nodes, 0 pruned nodes, max_depth=5\u001b[0m\n",
      "\u001b[34m[32]#011train-error:0.129879#011validation-error:0.130996\u001b[0m\n",
      "\u001b[34m[16:05:00] src/tree/updater_prune.cc:74: tree pruning end, 1 roots, 62 extra nodes, 0 pruned nodes, max_depth=5\u001b[0m\n",
      "\u001b[34m[33]#011train-error:0.127916#011validation-error:0.128766\u001b[0m\n",
      "\u001b[34m[16:05:00] src/tree/updater_prune.cc:74: tree pruning end, 1 roots, 62 extra nodes, 0 pruned nodes, max_depth=5\u001b[0m\n",
      "\u001b[34m[34]#011train-error:0.12715#011validation-error:0.128337\u001b[0m\n",
      "\u001b[34m[16:05:00] src/tree/updater_prune.cc:74: tree pruning end, 1 roots, 60 extra nodes, 0 pruned nodes, max_depth=5\u001b[0m\n",
      "\u001b[34m[35]#011train-error:0.12698#011validation-error:0.128025\u001b[0m\n",
      "\u001b[34m[16:05:00] src/tree/updater_prune.cc:74: tree pruning end, 1 roots, 36 extra nodes, 0 pruned nodes, max_depth=5\u001b[0m\n",
      "\u001b[34m[36]#011train-error:0.1266#011validation-error:0.127588\u001b[0m\n",
      "\u001b[34m[16:05:01] src/tree/updater_prune.cc:74: tree pruning end, 1 roots, 60 extra nodes, 0 pruned nodes, max_depth=5\u001b[0m\n",
      "\u001b[34m[37]#011train-error:0.123642#011validation-error:0.124539\u001b[0m\n",
      "\u001b[34m[16:05:01] src/tree/updater_prune.cc:74: tree pruning end, 1 roots, 60 extra nodes, 0 pruned nodes, max_depth=5\u001b[0m\n",
      "\u001b[34m[38]#011train-error:0.12262#011validation-error:0.123556\u001b[0m\n",
      "\u001b[34m[16:05:01] src/tree/updater_prune.cc:74: tree pruning end, 1 roots, 62 extra nodes, 0 pruned nodes, max_depth=5\u001b[0m\n",
      "\u001b[34m[39]#011train-error:0.122035#011validation-error:0.122893\u001b[0m\n",
      "\u001b[34m[16:05:01] src/tree/updater_prune.cc:74: tree pruning end, 1 roots, 58 extra nodes, 0 pruned nodes, max_depth=5\u001b[0m\n",
      "\u001b[34m[40]#011train-error:0.12123#011validation-error:0.122012\u001b[0m\n",
      "\u001b[34m[16:05:02] src/tree/updater_prune.cc:74: tree pruning end, 1 roots, 62 extra nodes, 0 pruned nodes, max_depth=5\u001b[0m\n",
      "\u001b[34m[41]#011train-error:0.120033#011validation-error:0.120788\u001b[0m\n",
      "\u001b[34m[16:05:02] src/tree/updater_prune.cc:74: tree pruning end, 1 roots, 62 extra nodes, 0 pruned nodes, max_depth=5\u001b[0m\n",
      "\u001b[34m[42]#011train-error:0.119093#011validation-error:0.119938\u001b[0m\n",
      "\u001b[34m[16:05:02] src/tree/updater_prune.cc:74: tree pruning end, 1 roots, 62 extra nodes, 0 pruned nodes, max_depth=5\u001b[0m\n",
      "\u001b[34m[43]#011train-error:0.118173#011validation-error:0.11901\u001b[0m\n",
      "\u001b[34m[16:05:02] src/tree/updater_prune.cc:74: tree pruning end, 1 roots, 58 extra nodes, 0 pruned nodes, max_depth=5\u001b[0m\n",
      "\u001b[34m[44]#011train-error:0.116602#011validation-error:0.117325\u001b[0m\n",
      "\u001b[34m[16:05:03] src/tree/updater_prune.cc:74: tree pruning end, 1 roots, 34 extra nodes, 0 pruned nodes, max_depth=5\u001b[0m\n",
      "\u001b[34m[45]#011train-error:0.116902#011validation-error:0.117598\u001b[0m\n",
      "\u001b[34m[16:05:03] src/tree/updater_prune.cc:74: tree pruning end, 1 roots, 60 extra nodes, 0 pruned nodes, max_depth=5\u001b[0m\n",
      "\u001b[34m[46]#011train-error:0.1165#011validation-error:0.117029\u001b[0m\n",
      "\u001b[34m[16:05:03] src/tree/updater_prune.cc:74: tree pruning end, 1 roots, 62 extra nodes, 0 pruned nodes, max_depth=5\u001b[0m\n",
      "\u001b[34m[47]#011train-error:0.115666#011validation-error:0.116264\u001b[0m\n",
      "\u001b[34m[16:05:03] src/tree/updater_prune.cc:74: tree pruning end, 1 roots, 56 extra nodes, 0 pruned nodes, max_depth=5\u001b[0m\n",
      "\u001b[34m[48]#011train-error:0.114562#011validation-error:0.114993\u001b[0m\n",
      "\u001b[34m[16:05:04] src/tree/updater_prune.cc:74: tree pruning end, 1 roots, 30 extra nodes, 0 pruned nodes, max_depth=5\u001b[0m\n",
      "\u001b[34m[49]#011train-error:0.114434#011validation-error:0.114923\u001b[0m\n",
      "\u001b[34m[16:05:04] src/tree/updater_prune.cc:74: tree pruning end, 1 roots, 24 extra nodes, 0 pruned nodes, max_depth=5\u001b[0m\n",
      "\u001b[34m[50]#011train-error:0.114395#011validation-error:0.114853\u001b[0m\n",
      "\u001b[34m[16:05:04] src/tree/updater_prune.cc:74: tree pruning end, 1 roots, 60 extra nodes, 0 pruned nodes, max_depth=5\u001b[0m\n",
      "\u001b[34m[51]#011train-error:0.114071#011validation-error:0.114783\u001b[0m\n",
      "\u001b[34m[16:05:04] src/tree/updater_prune.cc:74: tree pruning end, 1 roots, 58 extra nodes, 0 pruned nodes, max_depth=5\u001b[0m\n",
      "\u001b[34m[52]#011train-error:0.113582#011validation-error:0.114291\u001b[0m\n",
      "\u001b[34m[16:05:04] src/tree/updater_prune.cc:74: tree pruning end, 1 roots, 62 extra nodes, 0 pruned nodes, max_depth=5\u001b[0m\n",
      "\u001b[34m[53]#011train-error:0.112355#011validation-error:0.112965\u001b[0m\n",
      "\u001b[34m[16:05:04] src/tree/updater_prune.cc:74: tree pruning end, 1 roots, 62 extra nodes, 0 pruned nodes, max_depth=5\u001b[0m\n",
      "\u001b[34m[54]#011train-error:0.111308#011validation-error:0.112061\u001b[0m\n",
      "\u001b[34m[16:05:05] src/tree/updater_prune.cc:74: tree pruning end, 1 roots, 62 extra nodes, 0 pruned nodes, max_depth=5\u001b[0m\n",
      "\u001b[34m[55]#011train-error:0.110571#011validation-error:0.110844\u001b[0m\n",
      "\u001b[34m[16:05:05] src/tree/updater_prune.cc:74: tree pruning end, 1 roots, 62 extra nodes, 0 pruned nodes, max_depth=5\u001b[0m\n",
      "\u001b[34m[56]#011train-error:0.110232#011validation-error:0.110501\u001b[0m\n",
      "\u001b[34m[16:05:05] src/tree/updater_prune.cc:74: tree pruning end, 1 roots, 62 extra nodes, 0 pruned nodes, max_depth=5\u001b[0m\n",
      "\u001b[34m[57]#011train-error:0.109193#011validation-error:0.109487\u001b[0m\n",
      "\u001b[34m[16:05:05] src/tree/updater_prune.cc:74: tree pruning end, 1 roots, 58 extra nodes, 0 pruned nodes, max_depth=5\u001b[0m\n",
      "\u001b[34m[58]#011train-error:0.108549#011validation-error:0.108973\u001b[0m\n",
      "\u001b[34m[16:05:05] src/tree/updater_prune.cc:74: tree pruning end, 1 roots, 54 extra nodes, 0 pruned nodes, max_depth=5\u001b[0m\n",
      "\u001b[34m[59]#011train-error:0.108508#011validation-error:0.108895\u001b[0m\n",
      "\u001b[34m[16:05:06] src/tree/updater_prune.cc:74: tree pruning end, 1 roots, 62 extra nodes, 0 pruned nodes, max_depth=5\u001b[0m\n",
      "\u001b[34m[60]#011train-error:0.107417#011validation-error:0.107881\u001b[0m\n",
      "\u001b[34m[16:05:06] src/tree/updater_prune.cc:74: tree pruning end, 1 roots, 62 extra nodes, 0 pruned nodes, max_depth=5\u001b[0m\n",
      "\u001b[34m[61]#011train-error:0.105461#011validation-error:0.106243\u001b[0m\n",
      "\u001b[34m[16:05:06] src/tree/updater_prune.cc:74: tree pruning end, 1 roots, 62 extra nodes, 0 pruned nodes, max_depth=5\u001b[0m\n",
      "\u001b[34m[62]#011train-error:0.10389#011validation-error:0.104683\u001b[0m\n",
      "\u001b[34m[16:05:06] src/tree/updater_prune.cc:74: tree pruning end, 1 roots, 52 extra nodes, 0 pruned nodes, max_depth=5\u001b[0m\n",
      "\u001b[34m[63]#011train-error:0.103352#011validation-error:0.104254\u001b[0m\n",
      "\u001b[34m[16:05:06] src/tree/updater_prune.cc:74: tree pruning end, 1 roots, 52 extra nodes, 0 pruned nodes, max_depth=5\u001b[0m\n",
      "\u001b[34m[64]#011train-error:0.103155#011validation-error:0.104028\u001b[0m\n",
      "\u001b[34m[16:05:07] src/tree/updater_prune.cc:74: tree pruning end, 1 roots, 56 extra nodes, 0 pruned nodes, max_depth=5\u001b[0m\n",
      "\u001b[34m[65]#011train-error:0.102587#011validation-error:0.103545\u001b[0m\n",
      "\u001b[34m[16:05:07] src/tree/updater_prune.cc:74: tree pruning end, 1 roots, 62 extra nodes, 0 pruned nodes, max_depth=5\u001b[0m\n",
      "\u001b[34m[66]#011train-error:0.101831#011validation-error:0.102655\u001b[0m\n",
      "\u001b[34m[16:05:07] src/tree/updater_prune.cc:74: tree pruning end, 1 roots, 60 extra nodes, 0 pruned nodes, max_depth=5\u001b[0m\n",
      "\u001b[34m[67]#011train-error:0.1013#011validation-error:0.102172\u001b[0m\n",
      "\u001b[34m[16:05:07] src/tree/updater_prune.cc:74: tree pruning end, 1 roots, 62 extra nodes, 0 pruned nodes, max_depth=5\u001b[0m\n",
      "\u001b[34m[68]#011train-error:0.100673#011validation-error:0.101564\u001b[0m\n",
      "\u001b[34m[16:05:07] src/tree/updater_prune.cc:74: tree pruning end, 1 roots, 62 extra nodes, 0 pruned nodes, max_depth=5\u001b[0m\n",
      "\u001b[34m[69]#011train-error:0.100702#011validation-error:0.101501\u001b[0m\n",
      "\n",
      "2024-04-23 16:05:20 Uploading - Uploading generated training model\u001b[34m[16:05:08] src/tree/updater_prune.cc:74: tree pruning end, 1 roots, 62 extra nodes, 0 pruned nodes, max_depth=5\u001b[0m\n",
      "\u001b[34m[70]#011train-error:0.100049#011validation-error:0.100792\u001b[0m\n",
      "\u001b[34m[16:05:08] src/tree/updater_prune.cc:74: tree pruning end, 1 roots, 62 extra nodes, 0 pruned nodes, max_depth=5\u001b[0m\n",
      "\u001b[34m[71]#011train-error:0.099134#011validation-error:0.099918\u001b[0m\n",
      "\u001b[34m[16:05:08] src/tree/updater_prune.cc:74: tree pruning end, 1 roots, 62 extra nodes, 0 pruned nodes, max_depth=5\u001b[0m\n",
      "\u001b[34m[72]#011train-error:0.098409#011validation-error:0.099232\u001b[0m\n",
      "\u001b[34m[16:05:08] src/tree/updater_prune.cc:74: tree pruning end, 1 roots, 62 extra nodes, 0 pruned nodes, max_depth=5\u001b[0m\n",
      "\u001b[34m[73]#011train-error:0.097458#011validation-error:0.098397\u001b[0m\n",
      "\u001b[34m[16:05:08] src/tree/updater_prune.cc:74: tree pruning end, 1 roots, 32 extra nodes, 0 pruned nodes, max_depth=5\u001b[0m\n",
      "\u001b[34m[74]#011train-error:0.097358#011validation-error:0.098358\u001b[0m\n",
      "\u001b[34m[16:05:08] src/tree/updater_prune.cc:74: tree pruning end, 1 roots, 54 extra nodes, 0 pruned nodes, max_depth=5\u001b[0m\n",
      "\u001b[34m[75]#011train-error:0.097177#011validation-error:0.098132\u001b[0m\n",
      "\u001b[34m[16:05:09] src/tree/updater_prune.cc:74: tree pruning end, 1 roots, 62 extra nodes, 0 pruned nodes, max_depth=5\u001b[0m\n",
      "\u001b[34m[76]#011train-error:0.09651#011validation-error:0.097461\u001b[0m\n",
      "\u001b[34m[16:05:09] src/tree/updater_prune.cc:74: tree pruning end, 1 roots, 54 extra nodes, 0 pruned nodes, max_depth=5\u001b[0m\n",
      "\u001b[34m[77]#011train-error:0.096559#011validation-error:0.097539\u001b[0m\n",
      "\u001b[34m[16:05:09] src/tree/updater_prune.cc:74: tree pruning end, 1 roots, 62 extra nodes, 0 pruned nodes, max_depth=5\u001b[0m\n",
      "\u001b[34m[78]#011train-error:0.096216#011validation-error:0.097181\u001b[0m\n",
      "\u001b[34m[16:05:09] src/tree/updater_prune.cc:74: tree pruning end, 1 roots, 62 extra nodes, 0 pruned nodes, max_depth=5\u001b[0m\n",
      "\u001b[34m[79]#011train-error:0.095668#011validation-error:0.096533\u001b[0m\n",
      "\u001b[34m[16:05:09] src/tree/updater_prune.cc:74: tree pruning end, 1 roots, 60 extra nodes, 0 pruned nodes, max_depth=5\u001b[0m\n",
      "\u001b[34m[80]#011train-error:0.095494#011validation-error:0.09644\u001b[0m\n",
      "\u001b[34m[16:05:10] src/tree/updater_prune.cc:74: tree pruning end, 1 roots, 62 extra nodes, 0 pruned nodes, max_depth=5\u001b[0m\n",
      "\u001b[34m[81]#011train-error:0.095017#011validation-error:0.095785\u001b[0m\n",
      "\u001b[34m[16:05:10] src/tree/updater_prune.cc:74: tree pruning end, 1 roots, 60 extra nodes, 0 pruned nodes, max_depth=5\u001b[0m\n",
      "\u001b[34m[82]#011train-error:0.094946#011validation-error:0.095598\u001b[0m\n",
      "\u001b[34m[16:05:10] src/tree/updater_prune.cc:74: tree pruning end, 1 roots, 62 extra nodes, 0 pruned nodes, max_depth=5\u001b[0m\n",
      "\u001b[34m[83]#011train-error:0.094272#011validation-error:0.095036\u001b[0m\n",
      "\u001b[34m[16:05:10] src/tree/updater_prune.cc:74: tree pruning end, 1 roots, 44 extra nodes, 0 pruned nodes, max_depth=5\u001b[0m\n",
      "\u001b[34m[84]#011train-error:0.094186#011validation-error:0.094958\u001b[0m\n",
      "\u001b[34m[16:05:10] src/tree/updater_prune.cc:74: tree pruning end, 1 roots, 62 extra nodes, 0 pruned nodes, max_depth=5\u001b[0m\n",
      "\u001b[34m[85]#011train-error:0.093831#011validation-error:0.094716\u001b[0m\n",
      "\u001b[34m[16:05:11] src/tree/updater_prune.cc:74: tree pruning end, 1 roots, 62 extra nodes, 0 pruned nodes, max_depth=5\u001b[0m\n",
      "\u001b[34m[86]#011train-error:0.093143#011validation-error:0.094139\u001b[0m\n",
      "\u001b[34m[16:05:11] src/tree/updater_prune.cc:74: tree pruning end, 1 roots, 60 extra nodes, 0 pruned nodes, max_depth=5\u001b[0m\n",
      "\u001b[34m[87]#011train-error:0.092837#011validation-error:0.093648\u001b[0m\n",
      "\u001b[34m[16:05:11] src/tree/updater_prune.cc:74: tree pruning end, 1 roots, 60 extra nodes, 0 pruned nodes, max_depth=5\u001b[0m\n",
      "\u001b[34m[88]#011train-error:0.092572#011validation-error:0.093211\u001b[0m\n",
      "\u001b[34m[16:05:11] src/tree/updater_prune.cc:74: tree pruning end, 1 roots, 60 extra nodes, 0 pruned nodes, max_depth=5\u001b[0m\n",
      "\u001b[34m[89]#011train-error:0.092472#011validation-error:0.093102\u001b[0m\n",
      "\u001b[34m[16:05:11] src/tree/updater_prune.cc:74: tree pruning end, 1 roots, 62 extra nodes, 0 pruned nodes, max_depth=5\u001b[0m\n",
      "\u001b[34m[90]#011train-error:0.091919#011validation-error:0.09254\u001b[0m\n",
      "\u001b[34m[16:05:11] src/tree/updater_prune.cc:74: tree pruning end, 1 roots, 46 extra nodes, 0 pruned nodes, max_depth=5\u001b[0m\n",
      "\u001b[34m[91]#011train-error:0.091954#011validation-error:0.092572\u001b[0m\n",
      "\u001b[34m[16:05:12] src/tree/updater_prune.cc:74: tree pruning end, 1 roots, 62 extra nodes, 0 pruned nodes, max_depth=5\u001b[0m\n",
      "\u001b[34m[92]#011train-error:0.091599#011validation-error:0.092525\u001b[0m\n",
      "\u001b[34m[16:05:12] src/tree/updater_prune.cc:74: tree pruning end, 1 roots, 60 extra nodes, 0 pruned nodes, max_depth=5\u001b[0m\n",
      "\u001b[34m[93]#011train-error:0.091279#011validation-error:0.092135\u001b[0m\n",
      "\u001b[34m[16:05:12] src/tree/updater_prune.cc:74: tree pruning end, 1 roots, 62 extra nodes, 0 pruned nodes, max_depth=5\u001b[0m\n",
      "\u001b[34m[94]#011train-error:0.091105#011validation-error:0.091878\u001b[0m\n",
      "\u001b[34m[16:05:12] src/tree/updater_prune.cc:74: tree pruning end, 1 roots, 62 extra nodes, 0 pruned nodes, max_depth=5\u001b[0m\n",
      "\u001b[34m[95]#011train-error:0.090663#011validation-error:0.091636\u001b[0m\n",
      "\u001b[34m[16:05:12] src/tree/updater_prune.cc:74: tree pruning end, 1 roots, 62 extra nodes, 0 pruned nodes, max_depth=5\u001b[0m\n",
      "\u001b[34m[96]#011train-error:0.090951#011validation-error:0.091948\u001b[0m\n",
      "\u001b[34m[16:05:13] src/tree/updater_prune.cc:74: tree pruning end, 1 roots, 62 extra nodes, 0 pruned nodes, max_depth=5\u001b[0m\n",
      "\u001b[34m[97]#011train-error:0.090696#011validation-error:0.091698\u001b[0m\n",
      "\u001b[34m[16:05:13] src/tree/updater_prune.cc:74: tree pruning end, 1 roots, 62 extra nodes, 0 pruned nodes, max_depth=5\u001b[0m\n",
      "\u001b[34m[98]#011train-error:0.090164#011validation-error:0.091332\u001b[0m\n",
      "\u001b[34m[16:05:13] src/tree/updater_prune.cc:74: tree pruning end, 1 roots, 62 extra nodes, 0 pruned nodes, max_depth=5\u001b[0m\n",
      "\u001b[34m[99]#011train-error:0.089709#011validation-error:0.090872\u001b[0m\n",
      "\n",
      "2024-04-23 16:05:32 Completed - Training job completed\n",
      "Training seconds: 137\n",
      "Billable seconds: 137\n"
     ]
    }
   ],
   "source": [
    "from sagemaker.inputs import TrainingInput\n",
    "\n",
    "# Assuming bucket_name and xgb_model have been defined correctly\n",
    "\n",
    "# Define the paths to your train and test datasets stored in S3\n",
    "train_data_location = f's3://{bucket_name}/data/train'\n",
    "validation_data_location = f's3://{bucket_name}/data/test'\n",
    "\n",
    "# Set up the channels for training and test data\n",
    "train_channel = TrainingInput(train_data_location, content_type='text/csv')\n",
    "validation_channel = TrainingInput(validation_data_location, content_type='text/csv')\n",
    "\n",
    "# Prepare the data channels dictionary\n",
    "data_channels = {'train': train_channel, 'validation': validation_channel}\n",
    "\n",
    "# Fit the model\n",
    "xgb_model.fit(inputs=data_channels)\n"
   ]
  },
  {
   "cell_type": "markdown",
   "id": "d416b754",
   "metadata": {},
   "source": [
    "## Deploy Model"
   ]
  },
  {
   "cell_type": "code",
   "execution_count": 54,
   "id": "163a4ed6",
   "metadata": {},
   "outputs": [
    {
     "name": "stderr",
     "output_type": "stream",
     "text": [
      "INFO:sagemaker:Creating model with name: xgboost-2024-04-23-16-06-04-759\n",
      "INFO:sagemaker:Creating endpoint-config with name xgboost-2024-04-23-16-06-04-759\n",
      "INFO:sagemaker:Creating endpoint with name xgboost-2024-04-23-16-06-04-759\n"
     ]
    },
    {
     "name": "stdout",
     "output_type": "stream",
     "text": [
      "-----!"
     ]
    }
   ],
   "source": [
    "xgb_classifier = xgb_model.deploy(initial_instance_count = 1,\n",
    "                                 instance_type = 'ml.m4.xlarge')"
   ]
  }
 ],
 "metadata": {
  "kernelspec": {
   "display_name": "conda_python3",
   "language": "python",
   "name": "conda_python3"
  },
  "language_info": {
   "codemirror_mode": {
    "name": "ipython",
    "version": 3
   },
   "file_extension": ".py",
   "mimetype": "text/x-python",
   "name": "python",
   "nbconvert_exporter": "python",
   "pygments_lexer": "ipython3",
   "version": "3.10.13"
  }
 },
 "nbformat": 4,
 "nbformat_minor": 5
}
