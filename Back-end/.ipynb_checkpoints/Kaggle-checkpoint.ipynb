{
 "cells": [
  {
   "cell_type": "code",
   "execution_count": 1,
   "id": "74907216-032c-40a1-a1eb-b82d11b041ae",
   "metadata": {},
   "outputs": [],
   "source": [
    "#/kaggle/input/malicious-urls-dataset/malicious_phish.csv"
   ]
  },
  {
   "cell_type": "code",
   "execution_count": 2,
   "id": "56e5548f-cb6b-49a5-a836-1299fde2c83b",
   "metadata": {
    "tags": []
   },
   "outputs": [],
   "source": [
    "import pandas as pd\n",
    "import numpy as np\n",
    "import matplotlib.pyplot as plt\n",
    "import seaborn as sns\n",
    "import string\n",
    "from urllib.parse import urlparse\n",
    "\n",
    "from IPython.display import display, Markdown\n",
    "sns.set_style(\"darkgrid\")\n",
    "pd.set_option('display.max_columns', None)\n",
    "\n",
    "import sys, os, yaml\n",
    "\n",
    "DATASET = \"Kaggle\"\n",
    "\n",
    "ROOT = \"./\"\n",
    "COLAB = 'google.colab' in sys.modules\n",
    "if COLAB:\n",
    "    ROOT = f\"/content/gdrive/MyDrive/datasets/{DATASET.replace(' ','_')}/\"\n",
    "\n",
    "\n",
    "DEBUG = False\n",
    "SEED = 1612"
   ]
  },
  {
   "cell_type": "code",
   "execution_count": 3,
   "id": "8e0f79b4-abd5-4515-a4d9-45596657a669",
   "metadata": {
    "tags": []
   },
   "outputs": [],
   "source": [
    "if COLAB:\n",
    "    from google.colab import drive\n",
    "    if not os.path.isdir(\"/content/gdrive\"):\n",
    "        drive.mount(\"/content/gdrive\")\n",
    "        d = \"/content/gdrive/MyDrive/datasets\"\n",
    "        if not os.path.isdir(d): os.makedirs(d)\n",
    "        if not os.path.isdir(ROOT): os.makedirs(ROOT)\n",
    "\n",
    "def makedirs(d):\n",
    "    if COLAB:\n",
    "        if not os.path.isdir(ROOT+d): os.makedirs(ROOT+d)\n",
    "    else:\n",
    "        if not os.path.isdir(ROOT+d): os.makedirs(ROOT+d, mode=0o777, exist_ok=True)\n",
    "\n",
    "for d in ['orig','data','output']: makedirs(d)"
   ]
  },
  {
   "cell_type": "code",
   "execution_count": 4,
   "id": "2b23dea5-2f84-4fcc-a684-3964f7e1a03c",
   "metadata": {
    "tags": []
   },
   "outputs": [],
   "source": [
    "def convert_column_to_boolean(df, column_name):\n",
    "    df[column_name] = df[column_name].astype(bool)\n",
    "    return df"
   ]
  },
  {
   "cell_type": "code",
   "execution_count": 5,
   "id": "f5093e8a-2bb1-44a8-b29f-f749e99827c2",
   "metadata": {},
   "outputs": [
    {
     "name": "stdout",
     "output_type": "stream",
     "text": [
      "(651191, 2)\n"
     ]
    },
    {
     "data": {
      "text/html": [
       "<div>\n",
       "<style scoped>\n",
       "    .dataframe tbody tr th:only-of-type {\n",
       "        vertical-align: middle;\n",
       "    }\n",
       "\n",
       "    .dataframe tbody tr th {\n",
       "        vertical-align: top;\n",
       "    }\n",
       "\n",
       "    .dataframe thead th {\n",
       "        text-align: right;\n",
       "    }\n",
       "</style>\n",
       "<table border=\"1\" class=\"dataframe\">\n",
       "  <thead>\n",
       "    <tr style=\"text-align: right;\">\n",
       "      <th></th>\n",
       "      <th>url</th>\n",
       "      <th>type</th>\n",
       "    </tr>\n",
       "  </thead>\n",
       "  <tbody>\n",
       "    <tr>\n",
       "      <th>0</th>\n",
       "      <td>br-icloud.com.br</td>\n",
       "      <td>phishing</td>\n",
       "    </tr>\n",
       "    <tr>\n",
       "      <th>1</th>\n",
       "      <td>mp3raid.com/music/krizz_kaliko.html</td>\n",
       "      <td>benign</td>\n",
       "    </tr>\n",
       "    <tr>\n",
       "      <th>2</th>\n",
       "      <td>bopsecrets.org/rexroth/cr/1.htm</td>\n",
       "      <td>benign</td>\n",
       "    </tr>\n",
       "    <tr>\n",
       "      <th>3</th>\n",
       "      <td>http://www.garage-pirenne.be/index.php?option=...</td>\n",
       "      <td>defacement</td>\n",
       "    </tr>\n",
       "    <tr>\n",
       "      <th>4</th>\n",
       "      <td>http://adventure-nicaragua.net/index.php?optio...</td>\n",
       "      <td>defacement</td>\n",
       "    </tr>\n",
       "  </tbody>\n",
       "</table>\n",
       "</div>"
      ],
      "text/plain": [
       "                                                 url        type\n",
       "0                                   br-icloud.com.br    phishing\n",
       "1                mp3raid.com/music/krizz_kaliko.html      benign\n",
       "2                    bopsecrets.org/rexroth/cr/1.htm      benign\n",
       "3  http://www.garage-pirenne.be/index.php?option=...  defacement\n",
       "4  http://adventure-nicaragua.net/index.php?optio...  defacement"
      ]
     },
     "execution_count": 5,
     "metadata": {},
     "output_type": "execute_result"
    }
   ],
   "source": [
    "df = pd.read_csv(f\"{ROOT}/malicious_phish.csv\")\n",
    "print(df.shape)\n",
    "df.head()"
   ]
  },
  {
   "cell_type": "code",
   "execution_count": 6,
   "id": "28eefe22-dcf2-4eb4-9215-4b5b6f223596",
   "metadata": {
    "tags": []
   },
   "outputs": [],
   "source": [
    "from sklearn.model_selection import train_test_split\n",
    "\n",
    "from sklearn.preprocessing import StandardScaler\n",
    "\n",
    "from sklearn.linear_model import LogisticRegression\n",
    "from sklearn.tree import DecisionTreeClassifier\n",
    "from sklearn.neural_network import MLPClassifier\n",
    "from sklearn.neighbors import KNeighborsClassifier\n",
    "from sklearn.svm import SVC\n",
    "from sklearn.gaussian_process import GaussianProcessClassifier\n",
    "from sklearn.gaussian_process.kernels import RBF\n",
    "from sklearn.tree import DecisionTreeClassifier\n",
    "from sklearn.ensemble import RandomForestClassifier, AdaBoostClassifier\n",
    "from sklearn.naive_bayes import GaussianNB\n",
    "from sklearn.discriminant_analysis import QuadraticDiscriminantAnalysis\n",
    "\n",
    "from sklearn.model_selection import cross_val_score\n",
    "from sklearn.metrics import confusion_matrix, classification_report"
   ]
  },
  {
   "cell_type": "code",
   "execution_count": 7,
   "id": "32a012df-3eb2-4fe1-8d11-04915933b6f0",
   "metadata": {},
   "outputs": [
    {
     "name": "stdout",
     "output_type": "stream",
     "text": [
      "                                                      url        type  Label\n",
      "0                                        br-icloud.com.br    phishing      1\n",
      "1                     mp3raid.com/music/krizz_kaliko.html      benign      0\n",
      "2                         bopsecrets.org/rexroth/cr/1.htm      benign      0\n",
      "3       http://www.garage-pirenne.be/index.php?option=...  defacement      1\n",
      "4       http://adventure-nicaragua.net/index.php?optio...  defacement      1\n",
      "...                                                   ...         ...    ...\n",
      "651186            xbox360.ign.com/objects/850/850402.html    phishing      1\n",
      "651187       games.teamxbox.com/xbox-360/1860/Dead-Space/    phishing      1\n",
      "651188         www.gamespot.com/xbox360/action/deadspace/    phishing      1\n",
      "651189      en.wikipedia.org/wiki/Dead_Space_(video_game)    phishing      1\n",
      "651190          www.angelfire.com/goth/devilmaycrytonite/    phishing      1\n",
      "\n",
      "[651191 rows x 3 columns]\n"
     ]
    }
   ],
   "source": [
    "def label_type(row):\n",
    "    if row['type'] == 'benign':\n",
    "        return 0\n",
    "    else:\n",
    "        return 1\n",
    "\n",
    "# Apply the function to create a new column\n",
    "df['Label'] = df.apply(label_type, axis=1)\n",
    "\n",
    "# Show the modified DataFrame\n",
    "print(df)"
   ]
  },
  {
   "cell_type": "code",
   "execution_count": 8,
   "id": "32c95973-77b4-4b7d-829d-44967bb4b36d",
   "metadata": {
    "tags": []
   },
   "outputs": [],
   "source": [
    "df = convert_column_to_boolean(df, 'Label')"
   ]
  },
  {
   "cell_type": "code",
   "execution_count": 9,
   "id": "3cd68b14-af65-48b9-96ab-93b89a3b2006",
   "metadata": {
    "tags": []
   },
   "outputs": [],
   "source": [
    "df = df.drop(columns=['type'])"
   ]
  },
  {
   "cell_type": "code",
   "execution_count": 10,
   "id": "e63fa0af-efa3-42a6-9d3d-2751d513db26",
   "metadata": {
    "tags": []
   },
   "outputs": [],
   "source": [
    "def get_url_length(url):\n",
    "    # Remove common prefixes\n",
    "    prefixes = ['http://', 'https://']\n",
    "    for prefix in prefixes:\n",
    "        if url.startswith(prefix):\n",
    "            url = url[len(prefix):]\n",
    "\n",
    "    # Remove 'www.' if present\n",
    "    url = url.replace('www.', '')\n",
    "\n",
    "    # Return the length of the remaining URL\n",
    "    return len(url)"
   ]
  },
  {
   "cell_type": "code",
   "execution_count": 11,
   "id": "77bd0c3b-b187-4843-9252-2502e7f9e8f2",
   "metadata": {
    "tags": []
   },
   "outputs": [],
   "source": [
    "df['url_len'] = df['url'].apply(lambda x: get_url_length(str(x)))"
   ]
  },
  {
   "cell_type": "code",
   "execution_count": 12,
   "id": "d01fc540-0ce3-4148-9464-93fcc1086131",
   "metadata": {
    "tags": []
   },
   "outputs": [
    {
     "data": {
      "text/html": [
       "<div>\n",
       "<style scoped>\n",
       "    .dataframe tbody tr th:only-of-type {\n",
       "        vertical-align: middle;\n",
       "    }\n",
       "\n",
       "    .dataframe tbody tr th {\n",
       "        vertical-align: top;\n",
       "    }\n",
       "\n",
       "    .dataframe thead th {\n",
       "        text-align: right;\n",
       "    }\n",
       "</style>\n",
       "<table border=\"1\" class=\"dataframe\">\n",
       "  <thead>\n",
       "    <tr style=\"text-align: right;\">\n",
       "      <th></th>\n",
       "      <th>url</th>\n",
       "      <th>Label</th>\n",
       "      <th>url_len</th>\n",
       "    </tr>\n",
       "  </thead>\n",
       "  <tbody>\n",
       "    <tr>\n",
       "      <th>0</th>\n",
       "      <td>br-icloud.com.br</td>\n",
       "      <td>True</td>\n",
       "      <td>16</td>\n",
       "    </tr>\n",
       "    <tr>\n",
       "      <th>1</th>\n",
       "      <td>mp3raid.com/music/krizz_kaliko.html</td>\n",
       "      <td>False</td>\n",
       "      <td>35</td>\n",
       "    </tr>\n",
       "    <tr>\n",
       "      <th>2</th>\n",
       "      <td>bopsecrets.org/rexroth/cr/1.htm</td>\n",
       "      <td>False</td>\n",
       "      <td>31</td>\n",
       "    </tr>\n",
       "    <tr>\n",
       "      <th>3</th>\n",
       "      <td>http://www.garage-pirenne.be/index.php?option=...</td>\n",
       "      <td>True</td>\n",
       "      <td>77</td>\n",
       "    </tr>\n",
       "    <tr>\n",
       "      <th>4</th>\n",
       "      <td>http://adventure-nicaragua.net/index.php?optio...</td>\n",
       "      <td>True</td>\n",
       "      <td>228</td>\n",
       "    </tr>\n",
       "  </tbody>\n",
       "</table>\n",
       "</div>"
      ],
      "text/plain": [
       "                                                 url  Label  url_len\n",
       "0                                   br-icloud.com.br   True       16\n",
       "1                mp3raid.com/music/krizz_kaliko.html  False       35\n",
       "2                    bopsecrets.org/rexroth/cr/1.htm  False       31\n",
       "3  http://www.garage-pirenne.be/index.php?option=...   True       77\n",
       "4  http://adventure-nicaragua.net/index.php?optio...   True      228"
      ]
     },
     "execution_count": 12,
     "metadata": {},
     "output_type": "execute_result"
    }
   ],
   "source": [
    "df.head()"
   ]
  },
  {
   "cell_type": "code",
   "execution_count": 13,
   "id": "87ed3ef9-3639-484c-97db-f54302e90b50",
   "metadata": {
    "tags": []
   },
   "outputs": [],
   "source": [
    "#pip install tld"
   ]
  },
  {
   "cell_type": "code",
   "execution_count": 13,
   "id": "228f196f-0e11-4bff-bdaf-e3026c7f7605",
   "metadata": {
    "tags": []
   },
   "outputs": [],
   "source": [
    "from tldextract import extract as tld_extract\n",
    "from tld import get_tld, is_tld\n",
    "#from tld.exceptions import TldDomainNotFound, TldBadUrl, TldIOError\n",
    "\n",
    "def extract_pri_domain(url):\n",
    "    try:\n",
    "        res = get_tld(url, as_object = True, fail_silently=False,fix_protocol=True)\n",
    "        pri_domain= res.parsed_url.netloc\n",
    "    except :\n",
    "        pri_domain= None\n",
    "    return pri_domain"
   ]
  },
  {
   "cell_type": "code",
   "execution_count": 14,
   "id": "6f7c2067-b87a-4312-b579-5121ec724d42",
   "metadata": {
    "tags": []
   },
   "outputs": [],
   "source": [
    "df['pri_domain'] = df['url'].apply(lambda x: extract_pri_domain(x))"
   ]
  },
  {
   "cell_type": "code",
   "execution_count": 15,
   "id": "72a473a3-3215-4706-8a0a-913d60e03d42",
   "metadata": {
    "tags": []
   },
   "outputs": [
    {
     "data": {
      "text/html": [
       "<div>\n",
       "<style scoped>\n",
       "    .dataframe tbody tr th:only-of-type {\n",
       "        vertical-align: middle;\n",
       "    }\n",
       "\n",
       "    .dataframe tbody tr th {\n",
       "        vertical-align: top;\n",
       "    }\n",
       "\n",
       "    .dataframe thead th {\n",
       "        text-align: right;\n",
       "    }\n",
       "</style>\n",
       "<table border=\"1\" class=\"dataframe\">\n",
       "  <thead>\n",
       "    <tr style=\"text-align: right;\">\n",
       "      <th></th>\n",
       "      <th>url</th>\n",
       "      <th>Label</th>\n",
       "      <th>url_len</th>\n",
       "      <th>pri_domain</th>\n",
       "    </tr>\n",
       "  </thead>\n",
       "  <tbody>\n",
       "    <tr>\n",
       "      <th>0</th>\n",
       "      <td>br-icloud.com.br</td>\n",
       "      <td>True</td>\n",
       "      <td>16</td>\n",
       "      <td>br-icloud.com.br</td>\n",
       "    </tr>\n",
       "    <tr>\n",
       "      <th>1</th>\n",
       "      <td>mp3raid.com/music/krizz_kaliko.html</td>\n",
       "      <td>False</td>\n",
       "      <td>35</td>\n",
       "      <td>mp3raid.com</td>\n",
       "    </tr>\n",
       "    <tr>\n",
       "      <th>2</th>\n",
       "      <td>bopsecrets.org/rexroth/cr/1.htm</td>\n",
       "      <td>False</td>\n",
       "      <td>31</td>\n",
       "      <td>bopsecrets.org</td>\n",
       "    </tr>\n",
       "    <tr>\n",
       "      <th>3</th>\n",
       "      <td>http://www.garage-pirenne.be/index.php?option=...</td>\n",
       "      <td>True</td>\n",
       "      <td>77</td>\n",
       "      <td>www.garage-pirenne.be</td>\n",
       "    </tr>\n",
       "    <tr>\n",
       "      <th>4</th>\n",
       "      <td>http://adventure-nicaragua.net/index.php?optio...</td>\n",
       "      <td>True</td>\n",
       "      <td>228</td>\n",
       "      <td>adventure-nicaragua.net</td>\n",
       "    </tr>\n",
       "  </tbody>\n",
       "</table>\n",
       "</div>"
      ],
      "text/plain": [
       "                                                 url  Label  url_len  \\\n",
       "0                                   br-icloud.com.br   True       16   \n",
       "1                mp3raid.com/music/krizz_kaliko.html  False       35   \n",
       "2                    bopsecrets.org/rexroth/cr/1.htm  False       31   \n",
       "3  http://www.garage-pirenne.be/index.php?option=...   True       77   \n",
       "4  http://adventure-nicaragua.net/index.php?optio...   True      228   \n",
       "\n",
       "                pri_domain  \n",
       "0         br-icloud.com.br  \n",
       "1              mp3raid.com  \n",
       "2           bopsecrets.org  \n",
       "3    www.garage-pirenne.be  \n",
       "4  adventure-nicaragua.net  "
      ]
     },
     "execution_count": 15,
     "metadata": {},
     "output_type": "execute_result"
    }
   ],
   "source": [
    "df.head()"
   ]
  },
  {
   "cell_type": "code",
   "execution_count": 16,
   "id": "ea0c2ba0-447d-46b2-b856-28798ab95c2b",
   "metadata": {
    "tags": []
   },
   "outputs": [],
   "source": [
    "def count_letters(url):\n",
    "    num_letters = sum(char.isalpha() for char in url)\n",
    "    return num_letters\n",
    "\n",
    "def count_digits(url):\n",
    "    num_digits = sum(char.isdigit() for char in url)\n",
    "    return num_digits\n",
    "\n",
    "def count_special_chars(url):\n",
    "    special_chars = set(string.punctuation)\n",
    "    num_special_chars = sum(char in special_chars for char in url)\n",
    "    return num_special_chars"
   ]
  },
  {
   "cell_type": "code",
   "execution_count": 17,
   "id": "0f4d8e11-ff64-4db5-8716-2eb68852c2f1",
   "metadata": {
    "tags": []
   },
   "outputs": [],
   "source": [
    "df['letters_count']        = df['url'].apply(lambda x: count_letters(x))\n",
    "df['digits_count']         = df['url'].apply(lambda x: count_digits(x))\n",
    "df['special_chars_count']  = df['url'].apply(lambda x: count_special_chars(x))"
   ]
  },
  {
   "cell_type": "code",
   "execution_count": 18,
   "id": "f760a660-3d63-4629-a88f-5a075fa4a170",
   "metadata": {
    "tags": []
   },
   "outputs": [
    {
     "data": {
      "text/html": [
       "<div>\n",
       "<style scoped>\n",
       "    .dataframe tbody tr th:only-of-type {\n",
       "        vertical-align: middle;\n",
       "    }\n",
       "\n",
       "    .dataframe tbody tr th {\n",
       "        vertical-align: top;\n",
       "    }\n",
       "\n",
       "    .dataframe thead th {\n",
       "        text-align: right;\n",
       "    }\n",
       "</style>\n",
       "<table border=\"1\" class=\"dataframe\">\n",
       "  <thead>\n",
       "    <tr style=\"text-align: right;\">\n",
       "      <th></th>\n",
       "      <th>url</th>\n",
       "      <th>Label</th>\n",
       "      <th>url_len</th>\n",
       "      <th>pri_domain</th>\n",
       "      <th>letters_count</th>\n",
       "      <th>digits_count</th>\n",
       "      <th>special_chars_count</th>\n",
       "    </tr>\n",
       "  </thead>\n",
       "  <tbody>\n",
       "    <tr>\n",
       "      <th>0</th>\n",
       "      <td>br-icloud.com.br</td>\n",
       "      <td>True</td>\n",
       "      <td>16</td>\n",
       "      <td>br-icloud.com.br</td>\n",
       "      <td>13</td>\n",
       "      <td>0</td>\n",
       "      <td>3</td>\n",
       "    </tr>\n",
       "    <tr>\n",
       "      <th>1</th>\n",
       "      <td>mp3raid.com/music/krizz_kaliko.html</td>\n",
       "      <td>False</td>\n",
       "      <td>35</td>\n",
       "      <td>mp3raid.com</td>\n",
       "      <td>29</td>\n",
       "      <td>1</td>\n",
       "      <td>5</td>\n",
       "    </tr>\n",
       "    <tr>\n",
       "      <th>2</th>\n",
       "      <td>bopsecrets.org/rexroth/cr/1.htm</td>\n",
       "      <td>False</td>\n",
       "      <td>31</td>\n",
       "      <td>bopsecrets.org</td>\n",
       "      <td>25</td>\n",
       "      <td>1</td>\n",
       "      <td>5</td>\n",
       "    </tr>\n",
       "    <tr>\n",
       "      <th>3</th>\n",
       "      <td>http://www.garage-pirenne.be/index.php?option=...</td>\n",
       "      <td>True</td>\n",
       "      <td>77</td>\n",
       "      <td>www.garage-pirenne.be</td>\n",
       "      <td>63</td>\n",
       "      <td>7</td>\n",
       "      <td>18</td>\n",
       "    </tr>\n",
       "    <tr>\n",
       "      <th>4</th>\n",
       "      <td>http://adventure-nicaragua.net/index.php?optio...</td>\n",
       "      <td>True</td>\n",
       "      <td>228</td>\n",
       "      <td>adventure-nicaragua.net</td>\n",
       "      <td>199</td>\n",
       "      <td>22</td>\n",
       "      <td>14</td>\n",
       "    </tr>\n",
       "  </tbody>\n",
       "</table>\n",
       "</div>"
      ],
      "text/plain": [
       "                                                 url  Label  url_len  \\\n",
       "0                                   br-icloud.com.br   True       16   \n",
       "1                mp3raid.com/music/krizz_kaliko.html  False       35   \n",
       "2                    bopsecrets.org/rexroth/cr/1.htm  False       31   \n",
       "3  http://www.garage-pirenne.be/index.php?option=...   True       77   \n",
       "4  http://adventure-nicaragua.net/index.php?optio...   True      228   \n",
       "\n",
       "                pri_domain  letters_count  digits_count  special_chars_count  \n",
       "0         br-icloud.com.br             13             0                    3  \n",
       "1              mp3raid.com             29             1                    5  \n",
       "2           bopsecrets.org             25             1                    5  \n",
       "3    www.garage-pirenne.be             63             7                   18  \n",
       "4  adventure-nicaragua.net            199            22                   14  "
      ]
     },
     "execution_count": 18,
     "metadata": {},
     "output_type": "execute_result"
    }
   ],
   "source": [
    "df.head()"
   ]
  },
  {
   "cell_type": "code",
   "execution_count": 19,
   "id": "db637991-b6d0-4637-b1b5-e0b2256cf432",
   "metadata": {
    "tags": []
   },
   "outputs": [],
   "source": [
    "def secure_http(url):\n",
    "    return int(urlparse(url).scheme == 'https')"
   ]
  },
  {
   "cell_type": "code",
   "execution_count": 20,
   "id": "90509b3e-c750-45b7-ac8f-b7ccd5de28cb",
   "metadata": {
    "tags": []
   },
   "outputs": [],
   "source": [
    "df['secure_http']  = df['url'].apply(lambda x: secure_http(x))"
   ]
  },
  {
   "cell_type": "code",
   "execution_count": 21,
   "id": "c8e7899e-d098-4d3c-96c8-b00e2b3a063c",
   "metadata": {
    "tags": []
   },
   "outputs": [],
   "source": [
    "df = convert_column_to_boolean(df, 'secure_http')"
   ]
  },
  {
   "cell_type": "code",
   "execution_count": 22,
   "id": "d9aa808e-4967-49c1-99c2-764495d2854c",
   "metadata": {
    "tags": []
   },
   "outputs": [
    {
     "data": {
      "text/html": [
       "<div>\n",
       "<style scoped>\n",
       "    .dataframe tbody tr th:only-of-type {\n",
       "        vertical-align: middle;\n",
       "    }\n",
       "\n",
       "    .dataframe tbody tr th {\n",
       "        vertical-align: top;\n",
       "    }\n",
       "\n",
       "    .dataframe thead th {\n",
       "        text-align: right;\n",
       "    }\n",
       "</style>\n",
       "<table border=\"1\" class=\"dataframe\">\n",
       "  <thead>\n",
       "    <tr style=\"text-align: right;\">\n",
       "      <th></th>\n",
       "      <th>url</th>\n",
       "      <th>Label</th>\n",
       "      <th>url_len</th>\n",
       "      <th>pri_domain</th>\n",
       "      <th>letters_count</th>\n",
       "      <th>digits_count</th>\n",
       "      <th>special_chars_count</th>\n",
       "      <th>secure_http</th>\n",
       "    </tr>\n",
       "  </thead>\n",
       "  <tbody>\n",
       "    <tr>\n",
       "      <th>0</th>\n",
       "      <td>br-icloud.com.br</td>\n",
       "      <td>True</td>\n",
       "      <td>16</td>\n",
       "      <td>br-icloud.com.br</td>\n",
       "      <td>13</td>\n",
       "      <td>0</td>\n",
       "      <td>3</td>\n",
       "      <td>False</td>\n",
       "    </tr>\n",
       "    <tr>\n",
       "      <th>1</th>\n",
       "      <td>mp3raid.com/music/krizz_kaliko.html</td>\n",
       "      <td>False</td>\n",
       "      <td>35</td>\n",
       "      <td>mp3raid.com</td>\n",
       "      <td>29</td>\n",
       "      <td>1</td>\n",
       "      <td>5</td>\n",
       "      <td>False</td>\n",
       "    </tr>\n",
       "    <tr>\n",
       "      <th>2</th>\n",
       "      <td>bopsecrets.org/rexroth/cr/1.htm</td>\n",
       "      <td>False</td>\n",
       "      <td>31</td>\n",
       "      <td>bopsecrets.org</td>\n",
       "      <td>25</td>\n",
       "      <td>1</td>\n",
       "      <td>5</td>\n",
       "      <td>False</td>\n",
       "    </tr>\n",
       "    <tr>\n",
       "      <th>3</th>\n",
       "      <td>http://www.garage-pirenne.be/index.php?option=...</td>\n",
       "      <td>True</td>\n",
       "      <td>77</td>\n",
       "      <td>www.garage-pirenne.be</td>\n",
       "      <td>63</td>\n",
       "      <td>7</td>\n",
       "      <td>18</td>\n",
       "      <td>False</td>\n",
       "    </tr>\n",
       "    <tr>\n",
       "      <th>4</th>\n",
       "      <td>http://adventure-nicaragua.net/index.php?optio...</td>\n",
       "      <td>True</td>\n",
       "      <td>228</td>\n",
       "      <td>adventure-nicaragua.net</td>\n",
       "      <td>199</td>\n",
       "      <td>22</td>\n",
       "      <td>14</td>\n",
       "      <td>False</td>\n",
       "    </tr>\n",
       "  </tbody>\n",
       "</table>\n",
       "</div>"
      ],
      "text/plain": [
       "                                                 url  Label  url_len  \\\n",
       "0                                   br-icloud.com.br   True       16   \n",
       "1                mp3raid.com/music/krizz_kaliko.html  False       35   \n",
       "2                    bopsecrets.org/rexroth/cr/1.htm  False       31   \n",
       "3  http://www.garage-pirenne.be/index.php?option=...   True       77   \n",
       "4  http://adventure-nicaragua.net/index.php?optio...   True      228   \n",
       "\n",
       "                pri_domain  letters_count  digits_count  special_chars_count  \\\n",
       "0         br-icloud.com.br             13             0                    3   \n",
       "1              mp3raid.com             29             1                    5   \n",
       "2           bopsecrets.org             25             1                    5   \n",
       "3    www.garage-pirenne.be             63             7                   18   \n",
       "4  adventure-nicaragua.net            199            22                   14   \n",
       "\n",
       "   secure_http  \n",
       "0        False  \n",
       "1        False  \n",
       "2        False  \n",
       "3        False  \n",
       "4        False  "
      ]
     },
     "execution_count": 22,
     "metadata": {},
     "output_type": "execute_result"
    }
   ],
   "source": [
    "df.head()"
   ]
  },
  {
   "cell_type": "code",
   "execution_count": 23,
   "id": "9c4b8e50-4cef-40e8-b1fc-817c45d6c39b",
   "metadata": {
    "tags": []
   },
   "outputs": [],
   "source": [
    "import ipaddress\n",
    "def have_ip_address(url):\n",
    "    try:\n",
    "        parsed_url = urlparse(url)\n",
    "        if parsed_url.hostname:\n",
    "            ip = ipaddress.ip_address(parsed_url.hostname)\n",
    "            return isinstance(ip, (ipaddress.IPv4Address, ipaddress.IPv6Address))\n",
    "    except ValueError:\n",
    "        pass  # Invalid hostname or IP address\n",
    "\n",
    "    return 0"
   ]
  },
  {
   "cell_type": "code",
   "execution_count": 24,
   "id": "f0e5bbdd-b39c-463f-9dd9-f2309dc5600c",
   "metadata": {
    "tags": []
   },
   "outputs": [],
   "source": [
    "df['have_ip']  = df['url'].apply(lambda x: have_ip_address(x))"
   ]
  },
  {
   "cell_type": "code",
   "execution_count": 25,
   "id": "0412aa0e-68e9-4e8b-8340-d43e9a1eec01",
   "metadata": {
    "tags": []
   },
   "outputs": [],
   "source": [
    "df = convert_column_to_boolean(df, 'have_ip')"
   ]
  },
  {
   "cell_type": "code",
   "execution_count": 26,
   "id": "7ef5c064-4db6-4e99-8e79-cec4e6a87032",
   "metadata": {
    "tags": []
   },
   "outputs": [
    {
     "data": {
      "text/html": [
       "<div>\n",
       "<style scoped>\n",
       "    .dataframe tbody tr th:only-of-type {\n",
       "        vertical-align: middle;\n",
       "    }\n",
       "\n",
       "    .dataframe tbody tr th {\n",
       "        vertical-align: top;\n",
       "    }\n",
       "\n",
       "    .dataframe thead th {\n",
       "        text-align: right;\n",
       "    }\n",
       "</style>\n",
       "<table border=\"1\" class=\"dataframe\">\n",
       "  <thead>\n",
       "    <tr style=\"text-align: right;\">\n",
       "      <th></th>\n",
       "      <th>url</th>\n",
       "      <th>Label</th>\n",
       "      <th>url_len</th>\n",
       "      <th>pri_domain</th>\n",
       "      <th>letters_count</th>\n",
       "      <th>digits_count</th>\n",
       "      <th>special_chars_count</th>\n",
       "      <th>secure_http</th>\n",
       "      <th>have_ip</th>\n",
       "    </tr>\n",
       "  </thead>\n",
       "  <tbody>\n",
       "    <tr>\n",
       "      <th>0</th>\n",
       "      <td>br-icloud.com.br</td>\n",
       "      <td>True</td>\n",
       "      <td>16</td>\n",
       "      <td>br-icloud.com.br</td>\n",
       "      <td>13</td>\n",
       "      <td>0</td>\n",
       "      <td>3</td>\n",
       "      <td>False</td>\n",
       "      <td>False</td>\n",
       "    </tr>\n",
       "    <tr>\n",
       "      <th>1</th>\n",
       "      <td>mp3raid.com/music/krizz_kaliko.html</td>\n",
       "      <td>False</td>\n",
       "      <td>35</td>\n",
       "      <td>mp3raid.com</td>\n",
       "      <td>29</td>\n",
       "      <td>1</td>\n",
       "      <td>5</td>\n",
       "      <td>False</td>\n",
       "      <td>False</td>\n",
       "    </tr>\n",
       "    <tr>\n",
       "      <th>2</th>\n",
       "      <td>bopsecrets.org/rexroth/cr/1.htm</td>\n",
       "      <td>False</td>\n",
       "      <td>31</td>\n",
       "      <td>bopsecrets.org</td>\n",
       "      <td>25</td>\n",
       "      <td>1</td>\n",
       "      <td>5</td>\n",
       "      <td>False</td>\n",
       "      <td>False</td>\n",
       "    </tr>\n",
       "    <tr>\n",
       "      <th>3</th>\n",
       "      <td>http://www.garage-pirenne.be/index.php?option=...</td>\n",
       "      <td>True</td>\n",
       "      <td>77</td>\n",
       "      <td>www.garage-pirenne.be</td>\n",
       "      <td>63</td>\n",
       "      <td>7</td>\n",
       "      <td>18</td>\n",
       "      <td>False</td>\n",
       "      <td>False</td>\n",
       "    </tr>\n",
       "    <tr>\n",
       "      <th>4</th>\n",
       "      <td>http://adventure-nicaragua.net/index.php?optio...</td>\n",
       "      <td>True</td>\n",
       "      <td>228</td>\n",
       "      <td>adventure-nicaragua.net</td>\n",
       "      <td>199</td>\n",
       "      <td>22</td>\n",
       "      <td>14</td>\n",
       "      <td>False</td>\n",
       "      <td>False</td>\n",
       "    </tr>\n",
       "  </tbody>\n",
       "</table>\n",
       "</div>"
      ],
      "text/plain": [
       "                                                 url  Label  url_len  \\\n",
       "0                                   br-icloud.com.br   True       16   \n",
       "1                mp3raid.com/music/krizz_kaliko.html  False       35   \n",
       "2                    bopsecrets.org/rexroth/cr/1.htm  False       31   \n",
       "3  http://www.garage-pirenne.be/index.php?option=...   True       77   \n",
       "4  http://adventure-nicaragua.net/index.php?optio...   True      228   \n",
       "\n",
       "                pri_domain  letters_count  digits_count  special_chars_count  \\\n",
       "0         br-icloud.com.br             13             0                    3   \n",
       "1              mp3raid.com             29             1                    5   \n",
       "2           bopsecrets.org             25             1                    5   \n",
       "3    www.garage-pirenne.be             63             7                   18   \n",
       "4  adventure-nicaragua.net            199            22                   14   \n",
       "\n",
       "   secure_http  have_ip  \n",
       "0        False    False  \n",
       "1        False    False  \n",
       "2        False    False  \n",
       "3        False    False  \n",
       "4        False    False  "
      ]
     },
     "execution_count": 26,
     "metadata": {},
     "output_type": "execute_result"
    }
   ],
   "source": [
    "df.head()"
   ]
  },
  {
   "cell_type": "code",
   "execution_count": 27,
   "id": "f32cc375-4c68-40f4-a876-f5cac32bb485",
   "metadata": {
    "tags": []
   },
   "outputs": [
    {
     "data": {
      "text/plain": [
       "url                        0\n",
       "Label                      0\n",
       "url_len                    0\n",
       "pri_domain             12217\n",
       "letters_count              0\n",
       "digits_count               0\n",
       "special_chars_count        0\n",
       "secure_http                0\n",
       "have_ip                    0\n",
       "dtype: int64"
      ]
     },
     "execution_count": 27,
     "metadata": {},
     "output_type": "execute_result"
    }
   ],
   "source": [
    "df.isnull().sum()"
   ]
  },
  {
   "cell_type": "code",
   "execution_count": 28,
   "id": "0e474bc4-14fd-4235-bf88-34449d89faf7",
   "metadata": {
    "tags": []
   },
   "outputs": [
    {
     "data": {
      "text/html": [
       "<div>\n",
       "<style scoped>\n",
       "    .dataframe tbody tr th:only-of-type {\n",
       "        vertical-align: middle;\n",
       "    }\n",
       "\n",
       "    .dataframe tbody tr th {\n",
       "        vertical-align: top;\n",
       "    }\n",
       "\n",
       "    .dataframe thead th {\n",
       "        text-align: right;\n",
       "    }\n",
       "</style>\n",
       "<table border=\"1\" class=\"dataframe\">\n",
       "  <thead>\n",
       "    <tr style=\"text-align: right;\">\n",
       "      <th></th>\n",
       "      <th>url</th>\n",
       "      <th>Label</th>\n",
       "      <th>url_len</th>\n",
       "      <th>pri_domain</th>\n",
       "      <th>letters_count</th>\n",
       "      <th>digits_count</th>\n",
       "      <th>special_chars_count</th>\n",
       "      <th>secure_http</th>\n",
       "      <th>have_ip</th>\n",
       "    </tr>\n",
       "  </thead>\n",
       "  <tbody>\n",
       "    <tr>\n",
       "      <th>0</th>\n",
       "      <td>br-icloud.com.br</td>\n",
       "      <td>True</td>\n",
       "      <td>16</td>\n",
       "      <td>br-icloud.com.br</td>\n",
       "      <td>13</td>\n",
       "      <td>0</td>\n",
       "      <td>3</td>\n",
       "      <td>False</td>\n",
       "      <td>False</td>\n",
       "    </tr>\n",
       "    <tr>\n",
       "      <th>1</th>\n",
       "      <td>mp3raid.com/music/krizz_kaliko.html</td>\n",
       "      <td>False</td>\n",
       "      <td>35</td>\n",
       "      <td>mp3raid.com</td>\n",
       "      <td>29</td>\n",
       "      <td>1</td>\n",
       "      <td>5</td>\n",
       "      <td>False</td>\n",
       "      <td>False</td>\n",
       "    </tr>\n",
       "    <tr>\n",
       "      <th>2</th>\n",
       "      <td>bopsecrets.org/rexroth/cr/1.htm</td>\n",
       "      <td>False</td>\n",
       "      <td>31</td>\n",
       "      <td>bopsecrets.org</td>\n",
       "      <td>25</td>\n",
       "      <td>1</td>\n",
       "      <td>5</td>\n",
       "      <td>False</td>\n",
       "      <td>False</td>\n",
       "    </tr>\n",
       "    <tr>\n",
       "      <th>3</th>\n",
       "      <td>http://www.garage-pirenne.be/index.php?option=...</td>\n",
       "      <td>True</td>\n",
       "      <td>77</td>\n",
       "      <td>www.garage-pirenne.be</td>\n",
       "      <td>63</td>\n",
       "      <td>7</td>\n",
       "      <td>18</td>\n",
       "      <td>False</td>\n",
       "      <td>False</td>\n",
       "    </tr>\n",
       "    <tr>\n",
       "      <th>4</th>\n",
       "      <td>http://adventure-nicaragua.net/index.php?optio...</td>\n",
       "      <td>True</td>\n",
       "      <td>228</td>\n",
       "      <td>adventure-nicaragua.net</td>\n",
       "      <td>199</td>\n",
       "      <td>22</td>\n",
       "      <td>14</td>\n",
       "      <td>False</td>\n",
       "      <td>False</td>\n",
       "    </tr>\n",
       "  </tbody>\n",
       "</table>\n",
       "</div>"
      ],
      "text/plain": [
       "                                                 url  Label  url_len  \\\n",
       "0                                   br-icloud.com.br   True       16   \n",
       "1                mp3raid.com/music/krizz_kaliko.html  False       35   \n",
       "2                    bopsecrets.org/rexroth/cr/1.htm  False       31   \n",
       "3  http://www.garage-pirenne.be/index.php?option=...   True       77   \n",
       "4  http://adventure-nicaragua.net/index.php?optio...   True      228   \n",
       "\n",
       "                pri_domain  letters_count  digits_count  special_chars_count  \\\n",
       "0         br-icloud.com.br             13             0                    3   \n",
       "1              mp3raid.com             29             1                    5   \n",
       "2           bopsecrets.org             25             1                    5   \n",
       "3    www.garage-pirenne.be             63             7                   18   \n",
       "4  adventure-nicaragua.net            199            22                   14   \n",
       "\n",
       "   secure_http  have_ip  \n",
       "0        False    False  \n",
       "1        False    False  \n",
       "2        False    False  \n",
       "3        False    False  \n",
       "4        False    False  "
      ]
     },
     "execution_count": 28,
     "metadata": {},
     "output_type": "execute_result"
    }
   ],
   "source": [
    "df.head()"
   ]
  },
  {
   "cell_type": "code",
   "execution_count": 29,
   "id": "63b8f7dc-61b1-4709-bdd3-2e0f5b1d5751",
   "metadata": {
    "tags": []
   },
   "outputs": [
    {
     "data": {
      "text/plain": [
       "url                        0\n",
       "Label                      0\n",
       "url_len                    0\n",
       "pri_domain             12217\n",
       "letters_count              0\n",
       "digits_count               0\n",
       "special_chars_count        0\n",
       "secure_http                0\n",
       "have_ip                    0\n",
       "dtype: int64"
      ]
     },
     "execution_count": 29,
     "metadata": {},
     "output_type": "execute_result"
    }
   ],
   "source": [
    "df.isnull().sum()"
   ]
  },
  {
   "cell_type": "code",
   "execution_count": 30,
   "id": "c272b772-e28b-4e64-84cb-486ca9048364",
   "metadata": {
    "tags": []
   },
   "outputs": [],
   "source": [
    "#df.fillna(0,inplace=True)"
   ]
  },
  {
   "cell_type": "code",
   "execution_count": 31,
   "id": "338e6078-3312-405d-893f-80cb1fa04eb0",
   "metadata": {
    "tags": []
   },
   "outputs": [
    {
     "data": {
      "text/plain": [
       "url                        0\n",
       "Label                      0\n",
       "url_len                    0\n",
       "pri_domain             12217\n",
       "letters_count              0\n",
       "digits_count               0\n",
       "special_chars_count        0\n",
       "secure_http                0\n",
       "have_ip                    0\n",
       "dtype: int64"
      ]
     },
     "execution_count": 31,
     "metadata": {},
     "output_type": "execute_result"
    }
   ],
   "source": [
    "df.isnull().sum()"
   ]
  },
  {
   "cell_type": "code",
   "execution_count": 32,
   "id": "e520e801-419e-4635-a191-bd74501400fe",
   "metadata": {
    "tags": []
   },
   "outputs": [
    {
     "name": "stdout",
     "output_type": "stream",
     "text": [
      "<class 'pandas.core.frame.DataFrame'>\n",
      "RangeIndex: 651191 entries, 0 to 651190\n",
      "Data columns (total 9 columns):\n",
      " #   Column               Non-Null Count   Dtype \n",
      "---  ------               --------------   ----- \n",
      " 0   url                  651191 non-null  object\n",
      " 1   Label                651191 non-null  bool  \n",
      " 2   url_len              651191 non-null  int64 \n",
      " 3   pri_domain           638974 non-null  object\n",
      " 4   letters_count        651191 non-null  int64 \n",
      " 5   digits_count         651191 non-null  int64 \n",
      " 6   special_chars_count  651191 non-null  int64 \n",
      " 7   secure_http          651191 non-null  bool  \n",
      " 8   have_ip              651191 non-null  bool  \n",
      "dtypes: bool(3), int64(4), object(2)\n",
      "memory usage: 31.7+ MB\n"
     ]
    }
   ],
   "source": [
    "df.info()"
   ]
  },
  {
   "cell_type": "code",
   "execution_count": 43,
   "id": "3236a122-8d5e-4812-877c-b9fb2cbef72b",
   "metadata": {
    "tags": []
   },
   "outputs": [],
   "source": [
    "import re\n",
    "def has_shortening_service(url):\n",
    "    pattern = re.compile(r'https?://(?:www\\.)?(?:\\w+\\.)*(\\w+)\\.\\w+')\n",
    "    match = pattern.search(url)\n",
    "    \n",
    "    if match:\n",
    "        domain = match.group(1)\n",
    "        common_shortening_services = ['bit', 'goo', 'tinyurl', 'ow', 't', 'is',\n",
    "                                      'cli', 'yfrog', 'migre', 'ff', 'url4', 'twit',\n",
    "                                      'su', 'snipurl', 'short', 'BudURL', 'ping', \n",
    "                                      'post', 'Just', 'bkite', 'snipr', 'fic', \n",
    "                                      'loopt', 'doiop', 'short', 'kl', 'wp', \n",
    "                                      'rubyurl', 'om', 'to', 'bit', 't', 'lnkd', \n",
    "                                      'db', 'qr', 'adf', 'goo', 'bitly', 'cur', \n",
    "                                      'tinyurl', 'ow', 'bit', 'ity', 'q', 'is', \n",
    "                                      'po', 'bc', 'twitthis', 'u', 'j', 'buzurl', \n",
    "                                      'cutt', 'u', 'yourls', 'x', 'prettylinkpro', \n",
    "                                      'scrnch', 'filoops', 'vzturl', 'qr', '1url', \n",
    "                                      'tweez', 'v', 'tr', 'link', 'zip']\n",
    "        \n",
    "        if domain.lower() in common_shortening_services:\n",
    "            return 1\n",
    "    return 0         "
   ]
  },
  {
   "cell_type": "code",
   "execution_count": 44,
   "id": "38598254-314d-4165-ab68-a78b0a5d640a",
   "metadata": {
    "tags": []
   },
   "outputs": [],
   "source": [
    "df['shortened']  = df['url'].apply(lambda x: has_shortening_service(x))"
   ]
  },
  {
   "cell_type": "code",
   "execution_count": 45,
   "id": "43b1156b-8917-4128-972b-104b57dbceed",
   "metadata": {
    "tags": []
   },
   "outputs": [],
   "source": [
    "df = convert_column_to_boolean(df, 'shortened')"
   ]
  },
  {
   "cell_type": "code",
   "execution_count": 46,
   "id": "46e4410b-af3b-4a93-9cf4-950803ec686b",
   "metadata": {
    "tags": []
   },
   "outputs": [
    {
     "data": {
      "text/html": [
       "<div>\n",
       "<style scoped>\n",
       "    .dataframe tbody tr th:only-of-type {\n",
       "        vertical-align: middle;\n",
       "    }\n",
       "\n",
       "    .dataframe tbody tr th {\n",
       "        vertical-align: top;\n",
       "    }\n",
       "\n",
       "    .dataframe thead th {\n",
       "        text-align: right;\n",
       "    }\n",
       "</style>\n",
       "<table border=\"1\" class=\"dataframe\">\n",
       "  <thead>\n",
       "    <tr style=\"text-align: right;\">\n",
       "      <th></th>\n",
       "      <th>url</th>\n",
       "      <th>Label</th>\n",
       "      <th>url_len</th>\n",
       "      <th>pri_domain</th>\n",
       "      <th>letters_count</th>\n",
       "      <th>digits_count</th>\n",
       "      <th>special_chars_count</th>\n",
       "      <th>secure_http</th>\n",
       "      <th>have_ip</th>\n",
       "      <th>shortened</th>\n",
       "    </tr>\n",
       "  </thead>\n",
       "  <tbody>\n",
       "    <tr>\n",
       "      <th>0</th>\n",
       "      <td>br-icloud.com.br</td>\n",
       "      <td>True</td>\n",
       "      <td>16</td>\n",
       "      <td>br-icloud.com.br</td>\n",
       "      <td>13</td>\n",
       "      <td>0</td>\n",
       "      <td>3</td>\n",
       "      <td>False</td>\n",
       "      <td>False</td>\n",
       "      <td>False</td>\n",
       "    </tr>\n",
       "    <tr>\n",
       "      <th>1</th>\n",
       "      <td>mp3raid.com/music/krizz_kaliko.html</td>\n",
       "      <td>False</td>\n",
       "      <td>35</td>\n",
       "      <td>mp3raid.com</td>\n",
       "      <td>29</td>\n",
       "      <td>1</td>\n",
       "      <td>5</td>\n",
       "      <td>False</td>\n",
       "      <td>False</td>\n",
       "      <td>False</td>\n",
       "    </tr>\n",
       "    <tr>\n",
       "      <th>2</th>\n",
       "      <td>bopsecrets.org/rexroth/cr/1.htm</td>\n",
       "      <td>False</td>\n",
       "      <td>31</td>\n",
       "      <td>bopsecrets.org</td>\n",
       "      <td>25</td>\n",
       "      <td>1</td>\n",
       "      <td>5</td>\n",
       "      <td>False</td>\n",
       "      <td>False</td>\n",
       "      <td>False</td>\n",
       "    </tr>\n",
       "    <tr>\n",
       "      <th>3</th>\n",
       "      <td>http://www.garage-pirenne.be/index.php?option=...</td>\n",
       "      <td>True</td>\n",
       "      <td>77</td>\n",
       "      <td>www.garage-pirenne.be</td>\n",
       "      <td>63</td>\n",
       "      <td>7</td>\n",
       "      <td>18</td>\n",
       "      <td>False</td>\n",
       "      <td>False</td>\n",
       "      <td>False</td>\n",
       "    </tr>\n",
       "    <tr>\n",
       "      <th>4</th>\n",
       "      <td>http://adventure-nicaragua.net/index.php?optio...</td>\n",
       "      <td>True</td>\n",
       "      <td>228</td>\n",
       "      <td>adventure-nicaragua.net</td>\n",
       "      <td>199</td>\n",
       "      <td>22</td>\n",
       "      <td>14</td>\n",
       "      <td>False</td>\n",
       "      <td>False</td>\n",
       "      <td>False</td>\n",
       "    </tr>\n",
       "  </tbody>\n",
       "</table>\n",
       "</div>"
      ],
      "text/plain": [
       "                                                 url  Label  url_len  \\\n",
       "0                                   br-icloud.com.br   True       16   \n",
       "1                mp3raid.com/music/krizz_kaliko.html  False       35   \n",
       "2                    bopsecrets.org/rexroth/cr/1.htm  False       31   \n",
       "3  http://www.garage-pirenne.be/index.php?option=...   True       77   \n",
       "4  http://adventure-nicaragua.net/index.php?optio...   True      228   \n",
       "\n",
       "                pri_domain  letters_count  digits_count  special_chars_count  \\\n",
       "0         br-icloud.com.br             13             0                    3   \n",
       "1              mp3raid.com             29             1                    5   \n",
       "2           bopsecrets.org             25             1                    5   \n",
       "3    www.garage-pirenne.be             63             7                   18   \n",
       "4  adventure-nicaragua.net            199            22                   14   \n",
       "\n",
       "   secure_http  have_ip  shortened  \n",
       "0        False    False      False  \n",
       "1        False    False      False  \n",
       "2        False    False      False  \n",
       "3        False    False      False  \n",
       "4        False    False      False  "
      ]
     },
     "execution_count": 46,
     "metadata": {},
     "output_type": "execute_result"
    }
   ],
   "source": [
    "df.head()"
   ]
  },
  {
   "cell_type": "code",
   "execution_count": 48,
   "id": "60fce340-1bd9-4c7d-9e86-03deaedd7bed",
   "metadata": {
    "tags": []
   },
   "outputs": [
    {
     "name": "stdout",
     "output_type": "stream",
     "text": [
      "<class 'pandas.core.frame.DataFrame'>\n",
      "Int64Index: 641125 entries, 0 to 651190\n",
      "Data columns (total 10 columns):\n",
      " #   Column               Non-Null Count   Dtype \n",
      "---  ------               --------------   ----- \n",
      " 0   url                  641125 non-null  object\n",
      " 1   Label                641125 non-null  bool  \n",
      " 2   url_len              641125 non-null  int64 \n",
      " 3   pri_domain           628910 non-null  object\n",
      " 4   letters_count        641125 non-null  int64 \n",
      " 5   digits_count         641125 non-null  int64 \n",
      " 6   special_chars_count  641125 non-null  int64 \n",
      " 7   secure_http          641125 non-null  bool  \n",
      " 8   have_ip              641125 non-null  bool  \n",
      " 9   shortened            641125 non-null  bool  \n",
      "dtypes: bool(4), int64(4), object(2)\n",
      "memory usage: 36.7+ MB\n"
     ]
    }
   ],
   "source": [
    "df.info()"
   ]
  },
  {
   "cell_type": "code",
   "execution_count": 49,
   "id": "8b65ee75-70aa-47d4-8df2-1149796c5d93",
   "metadata": {
    "tags": []
   },
   "outputs": [
    {
     "data": {
      "text/plain": [
       "0"
      ]
     },
     "execution_count": 49,
     "metadata": {},
     "output_type": "execute_result"
    }
   ],
   "source": [
    "df.duplicated().sum()"
   ]
  },
  {
   "cell_type": "code",
   "execution_count": 50,
   "id": "dbeb5c6b-6986-47c0-86ce-22397ed15b46",
   "metadata": {
    "tags": []
   },
   "outputs": [],
   "source": [
    "df.drop_duplicates(inplace=True)"
   ]
  },
  {
   "cell_type": "code",
   "execution_count": 51,
   "id": "5ecd35da-e5e0-4548-8649-ce365dae3c6b",
   "metadata": {
    "tags": []
   },
   "outputs": [],
   "source": [
    "data = df.drop(columns=['url','pri_domain'])"
   ]
  },
  {
   "cell_type": "code",
   "execution_count": 52,
   "id": "c1bdb5c0-9294-4ef3-a9fb-fac350fc0c68",
   "metadata": {
    "tags": []
   },
   "outputs": [
    {
     "data": {
      "text/plain": [
       "Index(['Label', 'url_len', 'letters_count', 'digits_count',\n",
       "       'special_chars_count', 'secure_http', 'have_ip', 'shortened'],\n",
       "      dtype='object')"
      ]
     },
     "execution_count": 52,
     "metadata": {},
     "output_type": "execute_result"
    }
   ],
   "source": [
    "data.columns"
   ]
  },
  {
   "cell_type": "code",
   "execution_count": 53,
   "id": "8c8b7b00-ea10-4128-a5d4-8cb5bb554809",
   "metadata": {
    "tags": []
   },
   "outputs": [
    {
     "data": {
      "text/html": [
       "<div>\n",
       "<style scoped>\n",
       "    .dataframe tbody tr th:only-of-type {\n",
       "        vertical-align: middle;\n",
       "    }\n",
       "\n",
       "    .dataframe tbody tr th {\n",
       "        vertical-align: top;\n",
       "    }\n",
       "\n",
       "    .dataframe thead th {\n",
       "        text-align: right;\n",
       "    }\n",
       "</style>\n",
       "<table border=\"1\" class=\"dataframe\">\n",
       "  <thead>\n",
       "    <tr style=\"text-align: right;\">\n",
       "      <th></th>\n",
       "      <th>Label</th>\n",
       "      <th>url_len</th>\n",
       "      <th>letters_count</th>\n",
       "      <th>digits_count</th>\n",
       "      <th>special_chars_count</th>\n",
       "      <th>secure_http</th>\n",
       "      <th>have_ip</th>\n",
       "      <th>shortened</th>\n",
       "    </tr>\n",
       "  </thead>\n",
       "  <tbody>\n",
       "    <tr>\n",
       "      <th>0</th>\n",
       "      <td>True</td>\n",
       "      <td>16</td>\n",
       "      <td>13</td>\n",
       "      <td>0</td>\n",
       "      <td>3</td>\n",
       "      <td>False</td>\n",
       "      <td>False</td>\n",
       "      <td>False</td>\n",
       "    </tr>\n",
       "    <tr>\n",
       "      <th>1</th>\n",
       "      <td>False</td>\n",
       "      <td>35</td>\n",
       "      <td>29</td>\n",
       "      <td>1</td>\n",
       "      <td>5</td>\n",
       "      <td>False</td>\n",
       "      <td>False</td>\n",
       "      <td>False</td>\n",
       "    </tr>\n",
       "    <tr>\n",
       "      <th>2</th>\n",
       "      <td>False</td>\n",
       "      <td>31</td>\n",
       "      <td>25</td>\n",
       "      <td>1</td>\n",
       "      <td>5</td>\n",
       "      <td>False</td>\n",
       "      <td>False</td>\n",
       "      <td>False</td>\n",
       "    </tr>\n",
       "    <tr>\n",
       "      <th>3</th>\n",
       "      <td>True</td>\n",
       "      <td>77</td>\n",
       "      <td>63</td>\n",
       "      <td>7</td>\n",
       "      <td>18</td>\n",
       "      <td>False</td>\n",
       "      <td>False</td>\n",
       "      <td>False</td>\n",
       "    </tr>\n",
       "    <tr>\n",
       "      <th>4</th>\n",
       "      <td>True</td>\n",
       "      <td>228</td>\n",
       "      <td>199</td>\n",
       "      <td>22</td>\n",
       "      <td>14</td>\n",
       "      <td>False</td>\n",
       "      <td>False</td>\n",
       "      <td>False</td>\n",
       "    </tr>\n",
       "  </tbody>\n",
       "</table>\n",
       "</div>"
      ],
      "text/plain": [
       "   Label  url_len  letters_count  digits_count  special_chars_count  \\\n",
       "0   True       16             13             0                    3   \n",
       "1  False       35             29             1                    5   \n",
       "2  False       31             25             1                    5   \n",
       "3   True       77             63             7                   18   \n",
       "4   True      228            199            22                   14   \n",
       "\n",
       "   secure_http  have_ip  shortened  \n",
       "0        False    False      False  \n",
       "1        False    False      False  \n",
       "2        False    False      False  \n",
       "3        False    False      False  \n",
       "4        False    False      False  "
      ]
     },
     "execution_count": 53,
     "metadata": {},
     "output_type": "execute_result"
    }
   ],
   "source": [
    "data.head()"
   ]
  },
  {
   "cell_type": "code",
   "execution_count": 54,
   "id": "df4eafd9-b5f4-4fa9-9c44-fa5951967814",
   "metadata": {
    "tags": []
   },
   "outputs": [],
   "source": [
    "#target = data['Label']\n",
    "#df_train, df_test = train_test_split(data, stratify=data.Label, test_size=.40, random_state=132)\n",
    "#features = data.columns.tolist()\n",
    "#features.remove('Label')\n",
    "#if target in features: features.remove(target)\n",
    "#print(f\"Number of features {len(features)}\\n{features}\")\n",
    "\n",
    "\n",
    "\n",
    "from sklearn.model_selection import train_test_split\n",
    "\n",
    "# Assuming 'data' is your DataFrame and 'Lable' is a typo for 'Label'\n",
    "\n",
    "target = data['Label']  # Corrected spelling from 'Lable' to 'Label'\n",
    "df_train, df_test = train_test_split(data, stratify=data.Label, test_size=0.40, random_state=132)  # Using the correct column name 'Label'\n",
    "\n",
    "features = data.columns.tolist()\n",
    "features.remove('Label')  # Corrected spelling\n",
    "\n",
    "# Instead of scaling, directly use the feature values\n",
    "X_train = df_train.loc[:, features].values\n",
    "y_train = df_train.Label.values  # Using the correct column name 'Label'\n",
    "\n",
    "X_test = df_test.loc[:, features].values\n",
    "y_test = df_test.Label.values  # Using the correct column name 'Label'\n"
   ]
  },
  {
   "cell_type": "code",
   "execution_count": 55,
   "id": "9c4d3aa5-613e-4fad-8574-1e5b4716a959",
   "metadata": {
    "tags": []
   },
   "outputs": [
    {
     "data": {
      "text/plain": [
       "['url_len',\n",
       " 'letters_count',\n",
       " 'digits_count',\n",
       " 'special_chars_count',\n",
       " 'secure_http',\n",
       " 'have_ip',\n",
       " 'shortened']"
      ]
     },
     "execution_count": 55,
     "metadata": {},
     "output_type": "execute_result"
    }
   ],
   "source": [
    "features"
   ]
  },
  {
   "cell_type": "code",
   "execution_count": 56,
   "id": "ca745d91-7aa2-422e-99f6-e0fabfaac2a7",
   "metadata": {
    "tags": []
   },
   "outputs": [],
   "source": [
    "#from sklearn.preprocessing import StandardScaler\n",
    "\n",
    "#scaler = StandardScaler()\n",
    "\n",
    "#X_train = scaler.fit_transform(df_train.loc[:,features].values)\n",
    "#y_train = df_train.Label.values\n",
    "\n",
    "#X_test = scaler.transform(df_test.loc[:,features].values)\n",
    "#y_test = df_test.Label.values"
   ]
  },
  {
   "cell_type": "code",
   "execution_count": 57,
   "id": "43371cdd-b6ae-4bd7-af35-f676d7ddc86c",
   "metadata": {
    "tags": []
   },
   "outputs": [
    {
     "data": {
      "text/plain": [
       "(384675, 7)"
      ]
     },
     "execution_count": 57,
     "metadata": {},
     "output_type": "execute_result"
    }
   ],
   "source": [
    "X_train.shape"
   ]
  },
  {
   "cell_type": "code",
   "execution_count": 58,
   "id": "979ce3e5-636f-4c8d-a371-966a339ccbf0",
   "metadata": {
    "tags": []
   },
   "outputs": [
    {
     "data": {
      "text/plain": [
       "(384675,)"
      ]
     },
     "execution_count": 58,
     "metadata": {},
     "output_type": "execute_result"
    }
   ],
   "source": [
    "y_train.shape"
   ]
  },
  {
   "cell_type": "code",
   "execution_count": 59,
   "id": "9cc5b899-21f0-4c36-bfa0-86518cb042c8",
   "metadata": {
    "tags": []
   },
   "outputs": [
    {
     "name": "stdout",
     "output_type": "stream",
     "text": [
      "installed\n"
     ]
    }
   ],
   "source": [
    "!pip install xgboost > NUL 2>&1\n",
    "print(\"installed\")"
   ]
  },
  {
   "cell_type": "code",
   "execution_count": 60,
   "id": "2c3cfb1e-4e36-49e8-9e73-a00f6f1fa63c",
   "metadata": {
    "tags": []
   },
   "outputs": [],
   "source": [
    "from sklearn.linear_model import LogisticRegression\n",
    "from sklearn.tree import DecisionTreeClassifier\n",
    "from sklearn.neighbors import KNeighborsClassifier\n",
    "from sklearn.ensemble import RandomForestClassifier, AdaBoostClassifier\n",
    "from sklearn.model_selection import train_test_split\n",
    "\n",
    "from sklearn.preprocessing import StandardScaler\n",
    "\n",
    "from sklearn.linear_model import LogisticRegression\n",
    "from sklearn.tree import DecisionTreeClassifier\n",
    "from sklearn.neural_network import MLPClassifier\n",
    "from sklearn.neighbors import KNeighborsClassifier\n",
    "from sklearn.svm import SVC\n",
    "from sklearn.gaussian_process import GaussianProcessClassifier\n",
    "from sklearn.gaussian_process.kernels import RBF\n",
    "from xgboost import XGBClassifier\n",
    "from sklearn.tree import DecisionTreeClassifier\n",
    "from sklearn.ensemble import RandomForestClassifier, AdaBoostClassifier\n",
    "from sklearn.naive_bayes import GaussianNB\n",
    "from sklearn.discriminant_analysis import QuadraticDiscriminantAnalysis\n",
    "import warnings\n",
    "from sklearn.model_selection import cross_val_score\n",
    "from sklearn.metrics import confusion_matrix, classification_report"
   ]
  },
  {
   "cell_type": "code",
   "execution_count": null,
   "id": "bd88a7ec-f2da-441c-87b5-dbd448809f60",
   "metadata": {
    "tags": []
   },
   "outputs": [],
   "source": [
    "models = {\n",
    "   \"LR\": LogisticRegression(solver ='liblinear'),\n",
    "    \"DT\": DecisionTreeClassifier(),\n",
    "    \"DT(max_depth=3)\": DecisionTreeClassifier(max_depth=3),\n",
    "    \"KNN\": KNeighborsClassifier(),\n",
    "  #  \"SVC\": SVC(),\n",
    "    \"ADA\": AdaBoostClassifier(),\n",
    "    \"RFC\":  RandomForestClassifier(),\n",
    "    \"XGB\": XGBClassifier(),\n",
    "    \"NB\" : GaussianNB()\n",
    "\n",
    "}\n",
    "\n",
    "def train_models():\n",
    "    best = {'name':None, 'mean':0}\n",
    "\n",
    "    for name,model in models.items():\n",
    "\n",
    "        scores = cross_val_score(model, X_train, y_train, scoring='accuracy', cv=5)\n",
    "        mean = scores.mean()\n",
    "        std = scores.std()\n",
    "\n",
    "        print (\"\\nModel %s\" % name)\n",
    "        print (\"\\tCV scores: \" +  \", \".join([f\"{s:.2f}\" for s in scores]))\n",
    "        print (f\"\\tmean={mean:.2%} std={std:.4f}\")\n",
    "\n",
    "        if mean>best['mean']:\n",
    "            best = {'name':name, 'mean':mean}\n",
    "\n",
    "    print (f\"\\nBest Performing Model {best['name']} with (mean CV of) accuracy = {best['mean']:.2%}\" )\n"
   ]
  },
  {
   "cell_type": "code",
   "execution_count": 61,
   "id": "6adacb2b-8742-428e-8488-089e03b0e8c8",
   "metadata": {},
   "outputs": [
    {
     "data": {
      "text/html": [
       "<style>#sk-container-id-1 {color: black;}#sk-container-id-1 pre{padding: 0;}#sk-container-id-1 div.sk-toggleable {background-color: white;}#sk-container-id-1 label.sk-toggleable__label {cursor: pointer;display: block;width: 100%;margin-bottom: 0;padding: 0.3em;box-sizing: border-box;text-align: center;}#sk-container-id-1 label.sk-toggleable__label-arrow:before {content: \"▸\";float: left;margin-right: 0.25em;color: #696969;}#sk-container-id-1 label.sk-toggleable__label-arrow:hover:before {color: black;}#sk-container-id-1 div.sk-estimator:hover label.sk-toggleable__label-arrow:before {color: black;}#sk-container-id-1 div.sk-toggleable__content {max-height: 0;max-width: 0;overflow: hidden;text-align: left;background-color: #f0f8ff;}#sk-container-id-1 div.sk-toggleable__content pre {margin: 0.2em;color: black;border-radius: 0.25em;background-color: #f0f8ff;}#sk-container-id-1 input.sk-toggleable__control:checked~div.sk-toggleable__content {max-height: 200px;max-width: 100%;overflow: auto;}#sk-container-id-1 input.sk-toggleable__control:checked~label.sk-toggleable__label-arrow:before {content: \"▾\";}#sk-container-id-1 div.sk-estimator input.sk-toggleable__control:checked~label.sk-toggleable__label {background-color: #d4ebff;}#sk-container-id-1 div.sk-label input.sk-toggleable__control:checked~label.sk-toggleable__label {background-color: #d4ebff;}#sk-container-id-1 input.sk-hidden--visually {border: 0;clip: rect(1px 1px 1px 1px);clip: rect(1px, 1px, 1px, 1px);height: 1px;margin: -1px;overflow: hidden;padding: 0;position: absolute;width: 1px;}#sk-container-id-1 div.sk-estimator {font-family: monospace;background-color: #f0f8ff;border: 1px dotted black;border-radius: 0.25em;box-sizing: border-box;margin-bottom: 0.5em;}#sk-container-id-1 div.sk-estimator:hover {background-color: #d4ebff;}#sk-container-id-1 div.sk-parallel-item::after {content: \"\";width: 100%;border-bottom: 1px solid gray;flex-grow: 1;}#sk-container-id-1 div.sk-label:hover label.sk-toggleable__label {background-color: #d4ebff;}#sk-container-id-1 div.sk-serial::before {content: \"\";position: absolute;border-left: 1px solid gray;box-sizing: border-box;top: 0;bottom: 0;left: 50%;z-index: 0;}#sk-container-id-1 div.sk-serial {display: flex;flex-direction: column;align-items: center;background-color: white;padding-right: 0.2em;padding-left: 0.2em;position: relative;}#sk-container-id-1 div.sk-item {position: relative;z-index: 1;}#sk-container-id-1 div.sk-parallel {display: flex;align-items: stretch;justify-content: center;background-color: white;position: relative;}#sk-container-id-1 div.sk-item::before, #sk-container-id-1 div.sk-parallel-item::before {content: \"\";position: absolute;border-left: 1px solid gray;box-sizing: border-box;top: 0;bottom: 0;left: 50%;z-index: -1;}#sk-container-id-1 div.sk-parallel-item {display: flex;flex-direction: column;z-index: 1;position: relative;background-color: white;}#sk-container-id-1 div.sk-parallel-item:first-child::after {align-self: flex-end;width: 50%;}#sk-container-id-1 div.sk-parallel-item:last-child::after {align-self: flex-start;width: 50%;}#sk-container-id-1 div.sk-parallel-item:only-child::after {width: 0;}#sk-container-id-1 div.sk-dashed-wrapped {border: 1px dashed gray;margin: 0 0.4em 0.5em 0.4em;box-sizing: border-box;padding-bottom: 0.4em;background-color: white;}#sk-container-id-1 div.sk-label label {font-family: monospace;font-weight: bold;display: inline-block;line-height: 1.2em;}#sk-container-id-1 div.sk-label-container {text-align: center;}#sk-container-id-1 div.sk-container {/* jupyter's `normalize.less` sets `[hidden] { display: none; }` but bootstrap.min.css set `[hidden] { display: none !important; }` so we also need the `!important` here to be able to override the default hidden behavior on the sphinx rendered scikit-learn.org. See: https://github.com/scikit-learn/scikit-learn/issues/21755 */display: inline-block !important;position: relative;}#sk-container-id-1 div.sk-text-repr-fallback {display: none;}</style><div id=\"sk-container-id-1\" class=\"sk-top-container\"><div class=\"sk-text-repr-fallback\"><pre>XGBClassifier(base_score=None, booster=None, callbacks=None,\n",
       "              colsample_bylevel=None, colsample_bynode=None,\n",
       "              colsample_bytree=None, device=None, early_stopping_rounds=None,\n",
       "              enable_categorical=False, eval_metric=None, feature_types=None,\n",
       "              gamma=None, grow_policy=None, importance_type=None,\n",
       "              interaction_constraints=None, learning_rate=None, max_bin=None,\n",
       "              max_cat_threshold=None, max_cat_to_onehot=None,\n",
       "              max_delta_step=None, max_depth=None, max_leaves=None,\n",
       "              min_child_weight=None, missing=nan, monotone_constraints=None,\n",
       "              multi_strategy=None, n_estimators=None, n_jobs=None,\n",
       "              num_parallel_tree=None, random_state=None, ...)</pre><b>In a Jupyter environment, please rerun this cell to show the HTML representation or trust the notebook. <br />On GitHub, the HTML representation is unable to render, please try loading this page with nbviewer.org.</b></div><div class=\"sk-container\" hidden><div class=\"sk-item\"><div class=\"sk-estimator sk-toggleable\"><input class=\"sk-toggleable__control sk-hidden--visually\" id=\"sk-estimator-id-1\" type=\"checkbox\" checked><label for=\"sk-estimator-id-1\" class=\"sk-toggleable__label sk-toggleable__label-arrow\">XGBClassifier</label><div class=\"sk-toggleable__content\"><pre>XGBClassifier(base_score=None, booster=None, callbacks=None,\n",
       "              colsample_bylevel=None, colsample_bynode=None,\n",
       "              colsample_bytree=None, device=None, early_stopping_rounds=None,\n",
       "              enable_categorical=False, eval_metric=None, feature_types=None,\n",
       "              gamma=None, grow_policy=None, importance_type=None,\n",
       "              interaction_constraints=None, learning_rate=None, max_bin=None,\n",
       "              max_cat_threshold=None, max_cat_to_onehot=None,\n",
       "              max_delta_step=None, max_depth=None, max_leaves=None,\n",
       "              min_child_weight=None, missing=nan, monotone_constraints=None,\n",
       "              multi_strategy=None, n_estimators=None, n_jobs=None,\n",
       "              num_parallel_tree=None, random_state=None, ...)</pre></div></div></div></div></div>"
      ],
      "text/plain": [
       "XGBClassifier(base_score=None, booster=None, callbacks=None,\n",
       "              colsample_bylevel=None, colsample_bynode=None,\n",
       "              colsample_bytree=None, device=None, early_stopping_rounds=None,\n",
       "              enable_categorical=False, eval_metric=None, feature_types=None,\n",
       "              gamma=None, grow_policy=None, importance_type=None,\n",
       "              interaction_constraints=None, learning_rate=None, max_bin=None,\n",
       "              max_cat_threshold=None, max_cat_to_onehot=None,\n",
       "              max_delta_step=None, max_depth=None, max_leaves=None,\n",
       "              min_child_weight=None, missing=nan, monotone_constraints=None,\n",
       "              multi_strategy=None, n_estimators=None, n_jobs=None,\n",
       "              num_parallel_tree=None, random_state=None, ...)"
      ]
     },
     "execution_count": 61,
     "metadata": {},
     "output_type": "execute_result"
    }
   ],
   "source": [
    "model = XGBClassifier()\n",
    "#model = RandomForestClassifier()\n",
    "model.fit(X_train, y_train)"
   ]
  },
  {
   "cell_type": "code",
   "execution_count": 62,
   "id": "f7baa622-7ac6-430f-ac74-83fe7b48e2ae",
   "metadata": {},
   "outputs": [],
   "source": [
    "def get_url_length(url):\n",
    "    return len(url)\n",
    "\n",
    "def count_letters(url):\n",
    "    return sum(char.isalpha() for char in url)\n",
    "\n",
    "def count_digits(url):\n",
    "    return sum(char.isdigit() for char in url)\n",
    "\n",
    "def count_special_chars(url):\n",
    "    special_chars = \"!@#$%^&*()_+-=[]{};:,.<>/?`~|\"\n",
    "    return sum(char in special_chars for char in url)\n",
    "\n",
    "def has_shortening_service(url):\n",
    "    pattern = re.compile(r'(bit\\.ly|goo\\.gl|shorte\\.st|go2l\\.ink|x\\.co|ow\\.ly|t\\.co|tinyurl|tr\\.im|is\\.gd|cli\\.gs|'\n",
    "                         r'yfrog\\.com|migre\\.me|ff\\.im|tiny\\.cc|url4\\.eu|twit\\.ac|su\\.pr|twurl\\.nl|snipurl\\.com|'\n",
    "                         r'short\\.to|BudURL\\.com|ping\\.fm|post\\.ly|Just\\.as|bkite\\.com|snipr\\.com|fic\\.kr|loopt\\.us|'\n",
    "                         r'doiop\\.com|short\\.ie|kl\\.am|wp\\.me|rubyurl\\.com|om\\.ly|to\\.ly|bit\\.do|t\\.co|lnkd\\.in|'\n",
    "                         r'db\\.tt|qr\\.ae|adf\\.ly|goo\\.gl|bitly\\.com|cur\\.lv|tinyurl\\.com|ow\\.ly|bit\\.ly|ity\\.im|'\n",
    "                         r'q\\.gs|is\\.gd|po\\.st|bc\\.vc|twitthis\\.com|u\\.to|j\\.mp|buzurl\\.com|cutt\\.us|u\\.bb|yourls\\.org|'\n",
    "                         r'x\\.co|prettylinkpro\\.com|scrnch\\.me|filoops\\.info|vzturl\\.com|qr\\.net|1url\\.com|tweez\\.me|v\\.gd|'\n",
    "                         r'tr\\.im|link\\.zip\\.net)')\n",
    "    return int(bool(pattern.search(url)))\n",
    "\n",
    "def secure_http(url):\n",
    "    return int(urlparse(url).scheme == 'https')\n",
    "\n",
    "def have_ip_address(url):\n",
    "    pattern = re.compile(r'((25[0-5]|2[0-4][0-9]|[01]?[0-9][0-9]?)\\.){3}(25[0-5]|2[0-4][0-9]|[01]?[0-9][0-9]?)')\n",
    "    return int(bool(pattern.search(url)))\n"
   ]
  },
  {
   "cell_type": "markdown",
   "id": "88c08eff-556f-4e77-8578-5eabf7c6184e",
   "metadata": {},
   "source": [
    "### Testing"
   ]
  },
  {
   "cell_type": "code",
   "execution_count": 63,
   "id": "5b2f5eae-f83d-4359-8ecd-92d5262a5510",
   "metadata": {},
   "outputs": [],
   "source": [
    "def get_numerical_values(url):\n",
    "    url = url.replace('www.', '')\n",
    "    parsed_url  = urlparse(url)\n",
    "    root_domain = parsed_url.netloc\n",
    "   # url_region = get_url_region(root_domain)\n",
    "   \n",
    "    #root_domain = extract_root_domain(url)\n",
    "    \n",
    "    numerical_values = {\n",
    "        'url_len': get_url_length(url),\n",
    "        'letters_count': count_letters(url),\n",
    "        'digits_count': count_digits(url),\n",
    "        'special_chars_count': count_special_chars(url),\n",
    "        #'url_region': hash_encode(url_region),\n",
    "        #'root_domain': hash_encode(root_domain)\n",
    "    }\n",
    "    return numerical_values"
   ]
  },
  {
   "cell_type": "code",
   "execution_count": 64,
   "id": "98b829a1-ea49-411c-a3c2-73fb7edf964e",
   "metadata": {
    "tags": []
   },
   "outputs": [],
   "source": [
    "def get_bool_values(url):\n",
    "    url = url.replace('www','')\n",
    "    parsed_url = urlparse(url)\n",
    "    \n",
    "    bool_values = {\n",
    "        'secure_http': secure_http(url),\n",
    "        'have_ip': have_ip_address(url),\n",
    "        'shortened': has_shortening_service(url),\n",
    "    }\n",
    "    return bool_values"
   ]
  },
  {
   "cell_type": "code",
   "execution_count": 147,
   "id": "0356a27f-c190-4486-b22c-62eb9c44dc95",
   "metadata": {
    "tags": []
   },
   "outputs": [
    {
     "name": "stdout",
     "output_type": "stream",
     "text": [
      "{'url_len': 63, 'letters_count': 49, 'digits_count': 3, 'special_chars_count': 11}\n",
      "{'secure_http': 0, 'have_ip': 0, 'shortened': 0}\n"
     ]
    }
   ],
   "source": [
    "url = 'http://www.vilagnomad.com/wp-content/plugins/cforms146/js/cforms.js'\n",
    "numerical_values = get_numerical_values(url)\n",
    "bool_values = get_bool_values(url)\n",
    "print(numerical_values)\n",
    "print(bool_values)"
   ]
  },
  {
   "cell_type": "code",
   "execution_count": 148,
   "id": "93543fe9-5424-4e64-b6b3-ac7fe3a3850a",
   "metadata": {
    "tags": []
   },
   "outputs": [],
   "source": [
    "combined_features = {**numerical_values, **bool_values}\n",
    "\n",
    "# Converting combined features into a DataFrame\n",
    "# The dictionary keys become column names and the values become a single row in the DataFrame\n",
    "new_data_df = pd.DataFrame([combined_features])\n",
    "new_data_df['shortened'] = new_data_df['shortened'].astype(bool)\n",
    "new_data_df['secure_http'] = new_data_df['secure_http'].astype(bool)\n",
    "new_data_df['have_ip'] = new_data_df['have_ip'].astype(bool)"
   ]
  },
  {
   "cell_type": "code",
   "execution_count": 149,
   "id": "441b4af2-72fa-4cf6-8c64-85be3e1b1c33",
   "metadata": {
    "tags": []
   },
   "outputs": [
    {
     "data": {
      "text/html": [
       "<div>\n",
       "<style scoped>\n",
       "    .dataframe tbody tr th:only-of-type {\n",
       "        vertical-align: middle;\n",
       "    }\n",
       "\n",
       "    .dataframe tbody tr th {\n",
       "        vertical-align: top;\n",
       "    }\n",
       "\n",
       "    .dataframe thead th {\n",
       "        text-align: right;\n",
       "    }\n",
       "</style>\n",
       "<table border=\"1\" class=\"dataframe\">\n",
       "  <thead>\n",
       "    <tr style=\"text-align: right;\">\n",
       "      <th></th>\n",
       "      <th>url_len</th>\n",
       "      <th>letters_count</th>\n",
       "      <th>digits_count</th>\n",
       "      <th>special_chars_count</th>\n",
       "      <th>secure_http</th>\n",
       "      <th>have_ip</th>\n",
       "      <th>shortened</th>\n",
       "    </tr>\n",
       "  </thead>\n",
       "  <tbody>\n",
       "    <tr>\n",
       "      <th>0</th>\n",
       "      <td>63</td>\n",
       "      <td>49</td>\n",
       "      <td>3</td>\n",
       "      <td>11</td>\n",
       "      <td>False</td>\n",
       "      <td>False</td>\n",
       "      <td>False</td>\n",
       "    </tr>\n",
       "  </tbody>\n",
       "</table>\n",
       "</div>"
      ],
      "text/plain": [
       "   url_len  letters_count  digits_count  special_chars_count  secure_http  \\\n",
       "0       63             49             3                   11        False   \n",
       "\n",
       "   have_ip  shortened  \n",
       "0    False      False  "
      ]
     },
     "execution_count": 149,
     "metadata": {},
     "output_type": "execute_result"
    }
   ],
   "source": [
    "new_data_df.head()"
   ]
  },
  {
   "cell_type": "code",
   "execution_count": 150,
   "id": "9a255696-b907-45dd-b345-6873fd7a352d",
   "metadata": {
    "tags": []
   },
   "outputs": [
    {
     "name": "stdout",
     "output_type": "stream",
     "text": [
      "<class 'pandas.core.frame.DataFrame'>\n",
      "RangeIndex: 1 entries, 0 to 0\n",
      "Data columns (total 7 columns):\n",
      " #   Column               Non-Null Count  Dtype\n",
      "---  ------               --------------  -----\n",
      " 0   url_len              1 non-null      int64\n",
      " 1   letters_count        1 non-null      int64\n",
      " 2   digits_count         1 non-null      int64\n",
      " 3   special_chars_count  1 non-null      int64\n",
      " 4   secure_http          1 non-null      bool \n",
      " 5   have_ip              1 non-null      bool \n",
      " 6   shortened            1 non-null      bool \n",
      "dtypes: bool(3), int64(4)\n",
      "memory usage: 167.0 bytes\n"
     ]
    }
   ],
   "source": [
    "new_data_df.info()"
   ]
  },
  {
   "cell_type": "code",
   "execution_count": 151,
   "id": "e3122b62-4426-4cf9-9269-56cb26b328e8",
   "metadata": {
    "tags": []
   },
   "outputs": [
    {
     "name": "stdout",
     "output_type": "stream",
     "text": [
      "Prediction for the given input: 0\n"
     ]
    }
   ],
   "source": [
    "# Convert DataFrame to NumPy array to match training format\n",
    "new_data_array = new_data_df.values\n",
    "\n",
    "# Predict using the trained model\n",
    "predictions = model.predict(new_data_array)\n",
    "\n",
    "# Output the predictions\n",
    "print(\"Prediction for the given input:\", predictions[0])"
   ]
  },
  {
   "cell_type": "code",
   "execution_count": 121,
   "id": "25089a10-6676-448f-bcc1-a2d83043742d",
   "metadata": {},
   "outputs": [
    {
     "data": {
      "text/plain": [
       "array([[20, 16, 0, 4, True, False, False]], dtype=object)"
      ]
     },
     "execution_count": 121,
     "metadata": {},
     "output_type": "execute_result"
    }
   ],
   "source": [
    "new_data_array"
   ]
  },
  {
   "cell_type": "code",
   "execution_count": 128,
   "id": "78162769-e04f-4c55-904c-6921a2c86c41",
   "metadata": {
    "tags": []
   },
   "outputs": [
    {
     "data": {
      "text/plain": [
       "array([[-0.11512445,  0.15180143, -0.46190264, ..., -0.15788644,\n",
       "        -0.13834344, -0.01612536],\n",
       "       [-0.6642104 , -0.63310252, -0.46190264, ..., -0.15788644,\n",
       "        -0.13834344, -0.01612536],\n",
       "       [-0.43542458, -0.63310252,  0.65504716, ..., -0.15788644,\n",
       "        -0.13834344, -0.01612536],\n",
       "       ...,\n",
       "       [ 3.40817704,  4.01352887,  1.85791616, ..., -0.15788644,\n",
       "        -0.13834344, -0.01612536],\n",
       "       [-0.32103168, -0.22495246, -0.46190264, ..., -0.15788644,\n",
       "        -0.13834344, -0.01612536],\n",
       "       [-0.36678884, -0.5703102 ,  0.05361265, ..., -0.15788644,\n",
       "        -0.13834344, -0.01612536]])"
      ]
     },
     "execution_count": 128,
     "metadata": {},
     "output_type": "execute_result"
    }
   ],
   "source": [
    "X_train"
   ]
  },
  {
   "cell_type": "code",
   "execution_count": null,
   "id": "a86e7e62-cebb-4d71-a593-c3e47d12adf5",
   "metadata": {},
   "outputs": [],
   "source": []
  }
 ],
 "metadata": {
  "kernelspec": {
   "display_name": "Python 3 (ipykernel)",
   "language": "python",
   "name": "python3"
  },
  "language_info": {
   "codemirror_mode": {
    "name": "ipython",
    "version": 3
   },
   "file_extension": ".py",
   "mimetype": "text/x-python",
   "name": "python",
   "nbconvert_exporter": "python",
   "pygments_lexer": "ipython3",
   "version": "3.11.4"
  }
 },
 "nbformat": 4,
 "nbformat_minor": 5
}
